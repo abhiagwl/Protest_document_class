{
 "cells": [
  {
   "cell_type": "code",
   "execution_count": 6,
   "metadata": {
    "scrolled": true
   },
   "outputs": [
    {
     "name": "stdout",
     "output_type": "stream",
     "text": [
      "Loading data...\n"
     ]
    }
   ],
   "source": [
    "from __future__ import print_function\n",
    "import numpy as np\n",
    "import pandas as pd\n",
    "from keras.preprocessing import sequence\n",
    "from keras.datasets import imdb\n",
    "import keras\n",
    "from keras.utils import to_categorical\n",
    "from sklearn.metrics import f1_score\n",
    "\n",
    "BASE_DIR = ''\n",
    "GLOVE_DIR = '/home/abhinav/data/GLOVE_DATA/glove.6B'\n",
    "TEXT_DATA_DIR = '/home/abhinav/data/full_text'\n",
    "THIRD_MOD_DIR = \"/home/abhinav/data/third_model/\"\n",
    "SECOND_MOD_DIR = \"/home/abhinav/data/second_model/\"\n",
    "MAX_SEQUENCE_LENGTH = 1000\n",
    "MAX_NB_WORDS = 50000\n",
    "EMBEDDING_DIM = 200\n",
    "FOURTH_MOD_DIR = \"/home/abhinav/data/fourth_model/\"\n",
    "\n",
    "print('Loading data...')\n",
    "[x_train, y_train] = pd.read_pickle(FOURTH_MOD_DIR + \"train_data_10ratio\") \n",
    "\n",
    "[x_test, y_test] = pd.read_pickle(FOURTH_MOD_DIR + \"test_dataset\") \n",
    "\n",
    "[x_val, y_val ] = pd.read_pickle(FOURTH_MOD_DIR + \"validation_dataset\")\n",
    "\n",
    "from keras.layers import Embedding\n",
    "from keras.layers import Dense, Input, Flatten\n",
    "from keras.models import Model\n",
    "from keras.models import Sequential\n",
    "from keras.layers.merge import Add,Concatenate,Dot\n",
    "from keras.models import Sequential\n",
    "from keras.layers import Dense, Dropout, Embedding, LSTM, Bidirectional\n",
    "num_words = MAX_NB_WORDS\n",
    "\n",
    "embedding_matrix = pd.read_pickle(\"/home/abhinav/data/fourth_model/embedding_matrix_for_selected_words\")"
   ]
  },
  {
   "cell_type": "code",
   "execution_count": 2,
   "metadata": {
    "collapsed": true
   },
   "outputs": [],
   "source": [
    "class Metrics(keras.callbacks.Callback):\n",
    "    def __init__(self,filepath):\n",
    "        self.filepath = filepath\n",
    "        self.best = -np.Inf\n",
    "    def on_epoch_end(self, epoch,batch, logs={}):\n",
    "        predict = self.model.predict(self.validation_data[0],batch_size = 512)\n",
    "        predict = prob_to_label(predict)\n",
    "        targ = self.validation_data[1]\n",
    "        self.f1s=f1(targ, predict)\n",
    "        \"\"\"if self.f1s > self.best:\n",
    "            self.best = self.f1s\n",
    "            print('Epoch %05d: improved f1 to %0.5f,'\n",
    "                                  ' saving model to %s'\n",
    "                                  % (epoch, self.best, self.filepath))\n",
    "            self.model.save(self.filepath,overwrite =True)\"\"\"\n",
    "        print (\"\\nWeighted F1 score found on Validation dataset : \" ,self.f1s)\n",
    "        return\n",
    "\n",
    "from sklearn.metrics import precision_recall_fscore_support\n",
    "def f1(y_true, y_pred):\n",
    "    return precision_recall_fscore_support(y_true = y_true, y_pred = y_pred)\n",
    "ndm = keras.optimizers.Nadam(lr = 0.001)    \n",
    "\n",
    "def prob_to_label(array):\n",
    "    for a in array:\n",
    "        if a[0] > a[1] :\n",
    "            a[0] = 1\n",
    "            a[1] = 0\n",
    "        elif a[0] < a[1]:\n",
    "            a[0] = 0\n",
    "            a[1] = 1\n",
    "        else:\n",
    "            ind = np.random.randint(2)\n",
    "            a[ind]= 1\n",
    "            a[int(1-ind)] = 0\n",
    "    return array"
   ]
  },
  {
   "cell_type": "code",
   "execution_count": 7,
   "metadata": {
    "scrolled": true
   },
   "outputs": [],
   "source": [
    "\n",
    "embedding_layer = Embedding(num_words,\n",
    "                            EMBEDDING_DIM,\n",
    "                            weights=[embedding_matrix],\n",
    "                            input_length=MAX_SEQUENCE_LENGTH,\n",
    "                            trainable=False)\n"
   ]
  },
  {
   "cell_type": "code",
   "execution_count": 17,
   "metadata": {
    "collapsed": true
   },
   "outputs": [],
   "source": [
    "del(model)\n"
   ]
  },
  {
   "cell_type": "code",
   "execution_count": 22,
   "metadata": {
    "collapsed": true
   },
   "outputs": [],
   "source": [
    "model = Sequential()\n",
    "model.add(Embedding(num_words, EMBEDDING_DIM, weights=[embedding_matrix], \n",
    "                    input_length=MAX_SEQUENCE_LENGTH,trainable = False))\n",
    "model.add(Bidirectional(LSTM(10)))\n",
    "model.add(Dropout(0.5))\n",
    "model.add(Dense(2, activation='softmax'))\n"
   ]
  },
  {
   "cell_type": "code",
   "execution_count": 23,
   "metadata": {
    "scrolled": false
   },
   "outputs": [
    {
     "name": "stdout",
     "output_type": "stream",
     "text": [
      "_________________________________________________________________\n",
      "Layer (type)                 Output Shape              Param #   \n",
      "=================================================================\n",
      "embedding_9 (Embedding)      (None, 1000, 200)         10000000  \n",
      "_________________________________________________________________\n",
      "bidirectional_6 (Bidirection (None, 20)                16880     \n",
      "_________________________________________________________________\n",
      "dropout_6 (Dropout)          (None, 20)                0         \n",
      "_________________________________________________________________\n",
      "dense_6 (Dense)              (None, 2)                 42        \n",
      "=================================================================\n",
      "Total params: 10,016,922\n",
      "Trainable params: 16,922\n",
      "Non-trainable params: 10,000,000\n",
      "_________________________________________________________________\n"
     ]
    }
   ],
   "source": [
    "model.summary()"
   ]
  },
  {
   "cell_type": "code",
   "execution_count": 24,
   "metadata": {
    "collapsed": true
   },
   "outputs": [],
   "source": [
    "model.compile(loss='binary_crossentropy',\n",
    "              optimizer=ndm,\n",
    "              metrics=['acc'])"
   ]
  },
  {
   "cell_type": "code",
   "execution_count": 25,
   "metadata": {
    "collapsed": true
   },
   "outputs": [],
   "source": [
    "initial_weights = model.get_weights()"
   ]
  },
  {
   "cell_type": "code",
   "execution_count": 17,
   "metadata": {
    "collapsed": true
   },
   "outputs": [],
   "source": [
    "del(model)\n",
    "\n",
    "\n",
    "model = Sequential()\n",
    "model.add(Embedding(num_words, EMBEDDING_DIM, weights=[embedding_matrix], \n",
    "                    input_length=MAX_SEQUENCE_LENGTH,trainable = False))\n",
    "model.add(Bidirectional(LSTM(10)))\n",
    "model.add(Dropout(0.5))\n",
    "model.add(Dense(2, activation='softmax'))\n",
    "\n",
    "\n",
    "model.summary()\n",
    "\n",
    "model.compile(loss='binary_crossentropy',\n",
    "              optimizer=ndm,\n",
    "              metrics=['acc'])\n",
    "\n",
    "initial_weights = model.get_weights()"
   ]
  },
  {
   "cell_type": "code",
   "execution_count": 26,
   "metadata": {
    "scrolled": false
   },
   "outputs": [
    {
     "name": "stdout",
     "output_type": "stream",
     "text": [
      "Train on 13150 samples, validate on 15165 samples\n",
      "Epoch 1/10\n",
      "13056/13150 [============================>.] - ETA: 1s - loss: 1.2553 - acc: 0.5450\n",
      "Weighted F1 score found on Validation dataset :  (array([ 0.99346313,  0.07675906]), array([ 0.94226667,  0.43636364]), array([ 0.96718787,  0.13055304]), array([15000,   165]))\n",
      "13150/13150 [==============================] - 302s - loss: 1.2535 - acc: 0.5468 - val_loss: 0.4292 - val_acc: 0.9368\n",
      "Epoch 2/10\n",
      "13056/13150 [============================>.] - ETA: 1s - loss: 1.0710 - acc: 0.7330\n",
      "Weighted F1 score found on Validation dataset :  (array([ 0.99796679,  0.0419518 ]), array([ 0.78533333,  0.85454545]), array([ 0.87897329,  0.07997731]), array([15000,   165]))\n",
      "13150/13150 [==============================] - 283s - loss: 1.0697 - acc: 0.7325 - val_loss: 0.5510 - val_acc: 0.7861\n",
      "Epoch 3/10\n",
      "13056/13150 [============================>.] - ETA: 1s - loss: 0.9197 - acc: 0.8258\n",
      "Weighted F1 score found on Validation dataset :  (array([ 0.99750254,  0.05654762]), array([ 0.85206667,  0.80606061]), array([ 0.91906662,  0.10568137]), array([15000,   165]))\n",
      "13150/13150 [==============================] - 281s - loss: 0.9181 - acc: 0.8257 - val_loss: 0.4796 - val_acc: 0.8516\n",
      "Epoch 4/10\n",
      "13056/13150 [============================>.] - ETA: 1s - loss: 0.9242 - acc: 0.8107\n",
      "Weighted F1 score found on Validation dataset :  (array([ 0.99797865,  0.05005363]), array([ 0.82286667,  0.84848485]), array([ 0.90200234,  0.09453072]), array([15000,   165]))\n",
      "13150/13150 [==============================] - 282s - loss: 0.9244 - acc: 0.8100 - val_loss: 0.5406 - val_acc: 0.8231\n",
      "Epoch 5/10\n",
      "13056/13150 [============================>.] - ETA: 1s - loss: 0.8734 - acc: 0.7781\n",
      "Weighted F1 score found on Validation dataset :  (array([ 0.99867873,  0.02853924]), array([ 0.65506667,  0.92121212]), array([ 0.79117517,  0.05536332]), array([15000,   165]))\n",
      "13150/13150 [==============================] - 279s - loss: 0.8759 - acc: 0.7767 - val_loss: 0.5529 - val_acc: 0.6580\n",
      "Epoch 6/10\n",
      "13056/13150 [============================>.] - ETA: 1s - loss: 0.8431 - acc: 0.7951\n",
      "Weighted F1 score found on Validation dataset :  (array([ 0.99917042,  0.02348744]), array([ 0.56206667,  0.95757576]), array([ 0.71942999,  0.04585026]), array([15000,   165]))\n",
      "13150/13150 [==============================] - 272s - loss: 0.8451 - acc: 0.7938 - val_loss: 0.7754 - val_acc: 0.5664\n",
      "Epoch 7/10\n",
      "13056/13150 [============================>.] - ETA: 1s - loss: 0.9124 - acc: 0.7430\n",
      "Weighted F1 score found on Validation dataset :  (array([ 0.99741278,  0.05477178]), array([ 0.84813333,  0.8       ]), array([ 0.91673572,  0.10252427]), array([15000,   165]))\n",
      "13150/13150 [==============================] - 272s - loss: 0.9101 - acc: 0.7438 - val_loss: 0.3950 - val_acc: 0.8476\n",
      "Epoch 8/10\n",
      "13056/13150 [============================>.] - ETA: 1s - loss: 0.8005 - acc: 0.8405\n",
      "Weighted F1 score found on Validation dataset :  (array([ 0.99746271,  0.06113942]), array([ 0.86486667,  0.8       ]), array([ 0.92644433,  0.11359725]), array([15000,   165]))\n",
      "13150/13150 [==============================] - 272s - loss: 0.7993 - acc: 0.8401 - val_loss: 0.4132 - val_acc: 0.8642\n",
      "Epoch 9/10\n",
      "13056/13150 [============================>.] - ETA: 1s - loss: 0.7730 - acc: 0.8506\n",
      "Weighted F1 score found on Validation dataset :  (array([ 0.99789965,  0.05974026]), array([ 0.8552    ,  0.83636364]), array([ 0.92105547,  0.11151515]), array([15000,   165]))\n",
      "13150/13150 [==============================] - 273s - loss: 0.7748 - acc: 0.8506 - val_loss: 0.4194 - val_acc: 0.8550\n",
      "Epoch 10/10\n",
      "13056/13150 [============================>.] - ETA: 1s - loss: 0.7246 - acc: 0.8523\n",
      "Weighted F1 score found on Validation dataset :  (array([ 0.99806606,  0.06255585]), array([ 0.86013333,  0.84848485]), array([ 0.92398038,  0.11652102]), array([15000,   165]))\n",
      "13150/13150 [==============================] - 272s - loss: 0.7229 - acc: 0.8525 - val_loss: 0.3564 - val_acc: 0.8600\n"
     ]
    },
    {
     "data": {
      "text/plain": [
       "<keras.callbacks.History at 0x7fa56d6ba410>"
      ]
     },
     "execution_count": 26,
     "metadata": {},
     "output_type": "execute_result"
    }
   ],
   "source": [
    "model.set_weights(initial_weights)\n",
    "metrics = Metrics(FOURTH_MOD_DIR + \"none\")\n",
    "model.fit(x_train, y_train,\n",
    "          batch_size=128,\n",
    "          epochs=10,\n",
    "          class_weight = {0. : 1, 1. : 12},\n",
    "validation_data=[x_test, y_test],\n",
    "         callbacks = [metrics])"
   ]
  },
  {
   "cell_type": "code",
   "execution_count": 27,
   "metadata": {},
   "outputs": [
    {
     "name": "stdout",
     "output_type": "stream",
     "text": [
      "_________________________________________________________________\n",
      "Layer (type)                 Output Shape              Param #   \n",
      "=================================================================\n",
      "embedding_10 (Embedding)     (None, 1000, 200)         10000000  \n",
      "_________________________________________________________________\n",
      "bidirectional_7 (Bidirection (None, 40)                35360     \n",
      "_________________________________________________________________\n",
      "dropout_7 (Dropout)          (None, 40)                0         \n",
      "_________________________________________________________________\n",
      "dense_7 (Dense)              (None, 2)                 82        \n",
      "=================================================================\n",
      "Total params: 10,035,442\n",
      "Trainable params: 35,442\n",
      "Non-trainable params: 10,000,000\n",
      "_________________________________________________________________\n"
     ]
    }
   ],
   "source": [
    "del(model)\n",
    "\n",
    "model = Sequential()\n",
    "model.add(Embedding(num_words, EMBEDDING_DIM, weights=[embedding_matrix], \n",
    "                    input_length=MAX_SEQUENCE_LENGTH,trainable = False))\n",
    "model.add(Bidirectional(LSTM(20)))\n",
    "model.add(Dropout(0.5))\n",
    "model.add(Dense(2, activation='softmax'))\n",
    "\n",
    "\n",
    "model.summary()\n"
   ]
  },
  {
   "cell_type": "code",
   "execution_count": 28,
   "metadata": {
    "collapsed": true
   },
   "outputs": [],
   "source": [
    "\n",
    "model.compile(loss='binary_crossentropy',\n",
    "              optimizer=ndm,\n",
    "              metrics=['acc'])\n",
    "\n",
    "initial_weights = model.get_weights()"
   ]
  },
  {
   "cell_type": "code",
   "execution_count": 29,
   "metadata": {
    "scrolled": true
   },
   "outputs": [
    {
     "name": "stdout",
     "output_type": "stream",
     "text": [
      "Train on 13150 samples, validate on 15165 samples\n",
      "Epoch 1/20\n",
      "13056/13150 [============================>.] - ETA: 1s - loss: 1.2686 - acc: 0.5305\n",
      "Weighted F1 score found on Validation dataset :  (array([ 0.99825175,  0.02477964]), array([ 0.60906667,  0.9030303 ]), array([ 0.7565419 ,  0.04823567]), array([15000,   165]))\n",
      "13150/13150 [==============================] - 357s - loss: 1.2676 - acc: 0.5313 - val_loss: 0.7179 - val_acc: 0.6123\n",
      "Epoch 2/20\n",
      "13056/13150 [============================>.] - ETA: 1s - loss: 1.0139 - acc: 0.7014\n",
      "Weighted F1 score found on Validation dataset :  (array([ 0.99917432,  0.02867056]), array([ 0.6454    ,  0.95151515]), array([ 0.78423589,  0.05566389]), array([15000,   165]))\n",
      "13150/13150 [==============================] - 356s - loss: 1.0164 - acc: 0.7013 - val_loss: 0.6159 - val_acc: 0.6487\n",
      "Epoch 3/20\n",
      "13056/13150 [============================>.] - ETA: 1s - loss: 1.0529 - acc: 0.7223\n",
      "Weighted F1 score found on Validation dataset :  (array([ 0.99829802,  0.04247217]), array([ 0.78206667,  0.87878788]), array([ 0.87705133,  0.08102822]), array([15000,   165]))\n",
      "13150/13150 [==============================] - 355s - loss: 1.0519 - acc: 0.7230 - val_loss: 0.4899 - val_acc: 0.7831\n",
      "Epoch 4/20\n",
      "13056/13150 [============================>.] - ETA: 1s - loss: 0.9130 - acc: 0.7443\n",
      "Weighted F1 score found on Validation dataset :  (array([ 0.9987061 ,  0.03475259]), array([ 0.7204    ,  0.91515152]), array([ 0.83702556,  0.06696231]), array([15000,   165]))\n",
      "13150/13150 [==============================] - 355s - loss: 0.9121 - acc: 0.7442 - val_loss: 0.4894 - val_acc: 0.7225\n",
      "Epoch 5/20\n",
      "13056/13150 [============================>.] - ETA: 1s - loss: 0.9195 - acc: 0.8050\n",
      "Weighted F1 score found on Validation dataset :  (array([ 0.99747335,  0.0532    ]), array([ 0.8422    ,  0.80606061]), array([ 0.91328393,  0.09981238]), array([15000,   165]))\n",
      "13150/13150 [==============================] - 358s - loss: 0.9178 - acc: 0.8052 - val_loss: 0.4255 - val_acc: 0.8418\n",
      "Epoch 6/20\n",
      "13056/13150 [============================>.] - ETA: 1s - loss: 0.8291 - acc: 0.8105\n",
      "Weighted F1 score found on Validation dataset :  (array([ 0.99746349,  0.0612529 ]), array([ 0.86513333,  0.8       ]), array([ 0.92659764,  0.1137931 ]), array([15000,   165]))\n",
      "13150/13150 [==============================] - 361s - loss: 0.8269 - acc: 0.8110 - val_loss: 0.3767 - val_acc: 0.8644\n",
      "Epoch 7/20\n",
      "13056/13150 [============================>.] - ETA: 1s - loss: 0.7926 - acc: 0.8121\n",
      "Weighted F1 score found on Validation dataset :  (array([ 0.99916013,  0.01982296]), array([ 0.47586667,  0.96363636]), array([ 0.64468931,  0.03884681]), array([15000,   165]))\n",
      "13150/13150 [==============================] - 372s - loss: 0.7948 - acc: 0.8102 - val_loss: 1.0306 - val_acc: 0.4812\n",
      "Epoch 8/20\n",
      "13056/13150 [============================>.] - ETA: 1s - loss: 0.8131 - acc: 0.7395\n",
      "Weighted F1 score found on Validation dataset :  (array([ 0.99813843,  0.04272483]), array([ 0.7864    ,  0.86666667]), array([ 0.87970766,  0.08143508]), array([15000,   165]))\n",
      "13150/13150 [==============================] - 366s - loss: 0.8135 - acc: 0.7401 - val_loss: 0.4138 - val_acc: 0.7873\n",
      "Epoch 9/20\n",
      "13056/13150 [============================>.] - ETA: 1s - loss: 0.7511 - acc: 0.8138\n",
      "Weighted F1 score found on Validation dataset :  (array([ 0.99860857,  0.04064375]), array([ 0.76553333,  0.9030303 ]), array([ 0.86667421,  0.07778648]), array([15000,   165]))\n",
      "13150/13150 [==============================] - 355s - loss: 0.7491 - acc: 0.8138 - val_loss: 0.4844 - val_acc: 0.7670\n",
      "Epoch 10/20\n",
      "13056/13150 [============================>.] - ETA: 1s - loss: 0.7467 - acc: 0.7858\n",
      "Weighted F1 score found on Validation dataset :  (array([ 0.9978355 ,  0.03128442]), array([ 0.70686667,  0.86060606]), array([ 0.82751893,  0.06037415]), array([15000,   165]))\n",
      "13150/13150 [==============================] - 355s - loss: 0.7472 - acc: 0.7850 - val_loss: 0.5165 - val_acc: 0.7085\n",
      "Epoch 11/20\n",
      "13056/13150 [============================>.] - ETA: 1s - loss: 0.7241 - acc: 0.8041\n",
      "Weighted F1 score found on Validation dataset :  (array([ 0.99771596,  0.04714384]), array([ 0.8154    ,  0.83030303]), array([ 0.89739169,  0.08922175]), array([15000,   165]))\n",
      "13150/13150 [==============================] - 354s - loss: 0.7233 - acc: 0.8047 - val_loss: 0.4136 - val_acc: 0.8156\n",
      "Epoch 12/20\n",
      "13056/13150 [============================>.] - ETA: 1s - loss: 0.6644 - acc: 0.8428\n",
      "Weighted F1 score found on Validation dataset :  (array([ 0.9977006 ,  0.05327066]), array([ 0.83886667,  0.82424242]), array([ 0.91141533,  0.10007358]), array([15000,   165]))\n",
      "13150/13150 [==============================] - 354s - loss: 0.6641 - acc: 0.8430 - val_loss: 0.3801 - val_acc: 0.8387\n",
      "Epoch 13/20\n",
      "13056/13150 [============================>.] - ETA: 1s - loss: 0.7702 - acc: 0.8420\n",
      "Weighted F1 score found on Validation dataset :  (array([ 0.99760451,  0.0602518 ]), array([ 0.86066667,  0.81212121]), array([ 0.92409005,  0.11218083]), array([15000,   165]))\n",
      "13150/13150 [==============================] - 354s - loss: 0.7686 - acc: 0.8421 - val_loss: 0.4656 - val_acc: 0.8601\n",
      "Epoch 14/20\n",
      "13056/13150 [============================>.] - ETA: 1s - loss: 0.7085 - acc: 0.8693\n",
      "Weighted F1 score found on Validation dataset :  (array([ 0.99744476,  0.07046799]), array([ 0.8848    ,  0.79393939]), array([ 0.93775171,  0.12944664]), array([15000,   165]))\n",
      "13150/13150 [==============================] - 353s - loss: 0.7067 - acc: 0.8694 - val_loss: 0.3795 - val_acc: 0.8838\n",
      "Epoch 15/20\n",
      "13056/13150 [============================>.] - ETA: 1s - loss: 0.6445 - acc: 0.8725\n",
      "Weighted F1 score found on Validation dataset :  (array([ 0.99702108,  0.06078148]), array([ 0.8702    ,  0.76363636]), array([ 0.92930372,  0.11260054]), array([15000,   165]))\n",
      "13150/13150 [==============================] - 353s - loss: 0.6458 - acc: 0.8724 - val_loss: 0.3901 - val_acc: 0.8690\n",
      "Epoch 16/20\n",
      "13056/13150 [============================>.] - ETA: 1s - loss: 0.6035 - acc: 0.8703\n",
      "Weighted F1 score found on Validation dataset :  (array([ 0.99697084,  0.06377551]), array([ 0.87766667,  0.75757576]), array([ 0.93352243,  0.11764706]), array([15000,   165]))\n",
      "13150/13150 [==============================] - 353s - loss: 0.6031 - acc: 0.8701 - val_loss: 0.3473 - val_acc: 0.8764\n",
      "Epoch 17/20\n",
      "13056/13150 [============================>.] - ETA: 1s - loss: 0.6418 - acc: 0.8373\n",
      "Weighted F1 score found on Validation dataset :  (array([ 0.99795082,  0.05611627]), array([ 0.84413333,  0.84242424]), array([ 0.91462005,  0.10522332]), array([15000,   165]))\n",
      "13150/13150 [==============================] - 354s - loss: 0.6419 - acc: 0.8370 - val_loss: 0.3578 - val_acc: 0.8441\n",
      "Epoch 18/20\n",
      "13056/13150 [============================>.] - ETA: 1s - loss: 0.5946 - acc: 0.8746\n",
      "Weighted F1 score found on Validation dataset :  (array([ 0.99734889,  0.06622517]), array([ 0.8778    ,  0.78787879]), array([ 0.93376356,  0.12218045]), array([15000,   165]))\n",
      "13150/13150 [==============================] - 353s - loss: 0.5947 - acc: 0.8748 - val_loss: 0.3697 - val_acc: 0.8768\n",
      "Epoch 19/20\n",
      "13056/13150 [============================>.] - ETA: 1s - loss: 0.5472 - acc: 0.8822\n",
      "Weighted F1 score found on Validation dataset :  (array([ 0.9973527 ,  0.06687243]), array([ 0.87906667,  0.78787879]), array([ 0.93448141,  0.12328118]), array([15000,   165]))\n",
      "13150/13150 [==============================] - 353s - loss: 0.5473 - acc: 0.8820 - val_loss: 0.3205 - val_acc: 0.8781\n",
      "Epoch 20/20\n",
      "13056/13150 [============================>.] - ETA: 1s - loss: 0.5858 - acc: 0.8651\n",
      "Weighted F1 score found on Validation dataset :  (array([ 0.99706357,  0.08101102]), array([ 0.90546667,  0.75757576]), array([ 0.94906016,  0.14637002]), array([15000,   165]))\n",
      "13150/13150 [==============================] - 353s - loss: 0.5854 - acc: 0.8655 - val_loss: 0.3312 - val_acc: 0.9039\n"
     ]
    },
    {
     "data": {
      "text/plain": [
       "<keras.callbacks.History at 0x7fa440e9c550>"
      ]
     },
     "execution_count": 29,
     "metadata": {},
     "output_type": "execute_result"
    }
   ],
   "source": [
    "model.set_weights(initial_weights)\n",
    "metrics = Metrics(FOURTH_MOD_DIR + \"none\")\n",
    "model.fit(x_train, y_train,\n",
    "          batch_size=128,\n",
    "          epochs=20,\n",
    "          class_weight = {0. : 1, 1. : 12},\n",
    "validation_data=[x_test, y_test],\n",
    "         callbacks = [metrics])"
   ]
  },
  {
   "cell_type": "code",
   "execution_count": 30,
   "metadata": {},
   "outputs": [
    {
     "name": "stdout",
     "output_type": "stream",
     "text": [
      "_________________________________________________________________\n",
      "Layer (type)                 Output Shape              Param #   \n",
      "=================================================================\n",
      "embedding_11 (Embedding)     (None, 1000, 200)         10000000  \n",
      "_________________________________________________________________\n",
      "bidirectional_8 (Bidirection (None, 60)                55440     \n",
      "_________________________________________________________________\n",
      "dropout_8 (Dropout)          (None, 60)                0         \n",
      "_________________________________________________________________\n",
      "dense_8 (Dense)              (None, 2)                 122       \n",
      "=================================================================\n",
      "Total params: 10,055,562\n",
      "Trainable params: 55,562\n",
      "Non-trainable params: 10,000,000\n",
      "_________________________________________________________________\n"
     ]
    }
   ],
   "source": [
    "del(model)\n",
    "\n",
    "model = Sequential()\n",
    "model.add(Embedding(num_words, EMBEDDING_DIM, weights=[embedding_matrix], \n",
    "                    input_length=MAX_SEQUENCE_LENGTH,trainable = False))\n",
    "model.add(Bidirectional(LSTM(30)))\n",
    "model.add(Dropout(0.5))\n",
    "model.add(Dense(2, activation='softmax'))\n",
    "\n",
    "\n",
    "model.summary()\n"
   ]
  },
  {
   "cell_type": "code",
   "execution_count": 31,
   "metadata": {
    "scrolled": true
   },
   "outputs": [
    {
     "name": "stdout",
     "output_type": "stream",
     "text": [
      "Train on 13150 samples, validate on 15165 samples\n",
      "Epoch 1/20\n",
      "13056/13150 [============================>.] - ETA: 1s - loss: 1.2763 - acc: 0.5035\n",
      "Weighted F1 score found on Validation dataset :  (array([ 0.9979327 ,  0.02276247]), array([ 0.57926667,  0.89090909]), array([ 0.73303244,  0.04439076]), array([15000,   165]))\n",
      "13150/13150 [==============================] - 472s - loss: 1.2746 - acc: 0.5043 - val_loss: 0.6256 - val_acc: 0.5827\n",
      "Epoch 2/20\n",
      "13056/13150 [============================>.] - ETA: 1s - loss: 1.0156 - acc: 0.7341\n",
      "Weighted F1 score found on Validation dataset :  (array([ 0.99797796,  0.02749336]), array([ 0.65806667,  0.87878788]), array([ 0.79313808,  0.05331862]), array([15000,   165]))\n",
      "13150/13150 [==============================] - 470s - loss: 1.0149 - acc: 0.7332 - val_loss: 0.5930 - val_acc: 0.6605\n",
      "Epoch 3/20\n",
      "13056/13150 [============================>.] - ETA: 1s - loss: 0.9301 - acc: 0.7567\n",
      "Weighted F1 score found on Validation dataset :  (array([ 0.99782135,  0.03398409]), array([ 0.7328    ,  0.85454545]), array([ 0.84501845,  0.06536857]), array([15000,   165]))\n",
      "13150/13150 [==============================] - 471s - loss: 0.9284 - acc: 0.7564 - val_loss: 0.4579 - val_acc: 0.7341\n",
      "Epoch 4/20\n",
      "13056/13150 [============================>.] - ETA: 1s - loss: 0.8301 - acc: 0.7947\n",
      "Weighted F1 score found on Validation dataset :  (array([ 0.99772899,  0.04212454]), array([ 0.7908    ,  0.83636364]), array([ 0.88229387,  0.08020924]), array([15000,   165]))\n",
      "13150/13150 [==============================] - 471s - loss: 0.8336 - acc: 0.7944 - val_loss: 0.4579 - val_acc: 0.7913\n",
      "Epoch 5/20\n",
      "13056/13150 [============================>.] - ETA: 1s - loss: 0.7605 - acc: 0.8062\n",
      "Weighted F1 score found on Validation dataset :  (array([ 0.99902827,  0.04005202]), array([ 0.75393333,  0.93333333]), array([ 0.8593465 ,  0.07680798]), array([15000,   165]))\n",
      "13150/13150 [==============================] - 471s - loss: 0.7595 - acc: 0.8061 - val_loss: 0.4927 - val_acc: 0.7559\n",
      "Epoch 6/20\n",
      "13056/13150 [============================>.] - ETA: 1s - loss: 0.7048 - acc: 0.8290\n",
      "Weighted F1 score found on Validation dataset :  (array([ 0.99852168,  0.04918033]), array([ 0.81053333,  0.89090909]), array([ 0.89476008,  0.09321497]), array([15000,   165]))\n",
      "13150/13150 [==============================] - 470s - loss: 0.7037 - acc: 0.8289 - val_loss: 0.4098 - val_acc: 0.8114\n",
      "Epoch 7/20\n",
      "13056/13150 [============================>.] - ETA: 1s - loss: 0.7190 - acc: 0.8238\n",
      "Weighted F1 score found on Validation dataset :  (array([ 0.99826348,  0.05729167]), array([ 0.84313333,  0.86666667]), array([ 0.91416387,  0.10747839]), array([15000,   165]))\n",
      "13150/13150 [==============================] - 470s - loss: 0.7195 - acc: 0.8241 - val_loss: 0.3682 - val_acc: 0.8434\n",
      "Epoch 8/20\n",
      "13056/13150 [============================>.] - ETA: 1s - loss: 0.6364 - acc: 0.8481\n",
      "Weighted F1 score found on Validation dataset :  (array([ 0.99824869,  0.04536862]), array([ 0.798     ,  0.87272727]), array([ 0.88696232,  0.08625337]), array([15000,   165]))\n",
      "13150/13150 [==============================] - 470s - loss: 0.6377 - acc: 0.8472 - val_loss: 0.4646 - val_acc: 0.7988\n",
      "Epoch 9/20\n",
      "13056/13150 [============================>.] - ETA: 1s - loss: 0.6413 - acc: 0.8438\n",
      "Weighted F1 score found on Validation dataset :  (array([ 0.9978887 ,  0.07199159]), array([ 0.88226667,  0.83030303]), array([ 0.93652254,  0.13249516]), array([15000,   165]))\n",
      "13150/13150 [==============================] - 471s - loss: 0.6427 - acc: 0.8437 - val_loss: 0.2837 - val_acc: 0.8817\n",
      "Epoch 10/20\n",
      "13056/13150 [============================>.] - ETA: 1s - loss: 0.6011 - acc: 0.8731\n",
      "Weighted F1 score found on Validation dataset :  (array([ 0.99669588,  0.09573612]), array([ 0.92506667,  0.72121212]), array([ 0.95954637,  0.16903409]), array([15000,   165]))\n",
      "13150/13150 [==============================] - 471s - loss: 0.6014 - acc: 0.8730 - val_loss: 0.2143 - val_acc: 0.9228\n",
      "Epoch 11/20\n",
      "13056/13150 [============================>.] - ETA: 1s - loss: 0.6045 - acc: 0.8641\n",
      "Weighted F1 score found on Validation dataset :  (array([ 0.99822668,  0.06469248]), array([ 0.86313333,  0.86060606]), array([ 0.92577762,  0.12033898]), array([15000,   165]))\n",
      "13150/13150 [==============================] - 471s - loss: 0.6073 - acc: 0.8639 - val_loss: 0.3529 - val_acc: 0.8631\n",
      "Epoch 12/20\n",
      "13056/13150 [============================>.] - ETA: 1s - loss: 0.5341 - acc: 0.8587\n",
      "Weighted F1 score found on Validation dataset :  (array([ 0.99803892,  0.07288936]), array([ 0.88213333,  0.84242424]), array([ 0.93651355,  0.13416988]), array([15000,   165]))\n",
      "13150/13150 [==============================] - 470s - loss: 0.5339 - acc: 0.8589 - val_loss: 0.2917 - val_acc: 0.8817\n",
      "Epoch 13/20\n",
      "13056/13150 [============================>.] - ETA: 1s - loss: 0.5033 - acc: 0.8804\n",
      "Weighted F1 score found on Validation dataset :  (array([ 0.99795857,  0.07117071]), array([ 0.87993333,  0.83636364]), array([ 0.93523702,  0.13117871]), array([15000,   165]))\n",
      "13150/13150 [==============================] - 471s - loss: 0.5031 - acc: 0.8804 - val_loss: 0.2821 - val_acc: 0.8795\n",
      "Epoch 14/20\n",
      "13056/13150 [============================>.] - ETA: 1s - loss: 0.4706 - acc: 0.8895\n",
      "Weighted F1 score found on Validation dataset :  (array([ 0.99796226,  0.07206266]), array([ 0.88153333,  0.83636364]), array([ 0.93614159,  0.13269231]), array([15000,   165]))\n",
      "13150/13150 [==============================] - 471s - loss: 0.4707 - acc: 0.8893 - val_loss: 0.3387 - val_acc: 0.8810\n",
      "Epoch 15/20\n",
      "13056/13150 [============================>.] - ETA: 1s - loss: 0.4568 - acc: 0.8979\n",
      "Weighted F1 score found on Validation dataset :  (array([ 0.99805767,  0.07813378]), array([ 0.89066667,  0.84242424]), array([ 0.9413091 ,  0.14300412]), array([15000,   165]))\n",
      "13150/13150 [==============================] - 471s - loss: 0.4570 - acc: 0.8979 - val_loss: 0.2869 - val_acc: 0.8901\n",
      "Epoch 16/20\n",
      "13056/13150 [============================>.] - ETA: 1s - loss: 0.4492 - acc: 0.8833\n",
      "Weighted F1 score found on Validation dataset :  (array([ 0.99820789,  0.06091806]), array([ 0.85406667,  0.86060606]), array([ 0.92052885,  0.11378205]), array([15000,   165]))\n",
      "13150/13150 [==============================] - 470s - loss: 0.4486 - acc: 0.8834 - val_loss: 0.3242 - val_acc: 0.8541\n",
      "Epoch 17/20\n",
      "13056/13150 [============================>.] - ETA: 1s - loss: 0.4180 - acc: 0.8986\n",
      "Weighted F1 score found on Validation dataset :  (array([ 0.99738923,  0.07390563]), array([ 0.8914    ,  0.78787879]), array([ 0.94142083,  0.13513514]), array([15000,   165]))\n",
      "13150/13150 [==============================] - 469s - loss: 0.4176 - acc: 0.8983 - val_loss: 0.2485 - val_acc: 0.8903\n",
      "Epoch 18/20\n",
      "13056/13150 [============================>.] - ETA: 1s - loss: 0.3888 - acc: 0.9054\n",
      "Weighted F1 score found on Validation dataset :  (array([ 0.99761176,  0.07531144]), array([ 0.89113333,  0.80606061]), array([ 0.94137118,  0.13775246]), array([15000,   165]))\n",
      "13150/13150 [==============================] - 469s - loss: 0.3899 - acc: 0.9051 - val_loss: 0.2650 - val_acc: 0.8902\n",
      "Epoch 19/20\n",
      "13056/13150 [============================>.] - ETA: 1s - loss: 0.3866 - acc: 0.9045\n",
      "Weighted F1 score found on Validation dataset :  (array([ 0.99725193,  0.07524985]), array([ 0.89513333,  0.77575758]), array([ 0.94343732,  0.13719185]), array([15000,   165]))\n",
      "13150/13150 [==============================] - 470s - loss: 0.3867 - acc: 0.9042 - val_loss: 0.2481 - val_acc: 0.8938\n",
      "Epoch 20/20\n",
      "13056/13150 [============================>.] - ETA: 1s - loss: 0.3438 - acc: 0.9184\n",
      "Weighted F1 score found on Validation dataset :  (array([ 0.99731303,  0.07300509]), array([ 0.8908    ,  0.78181818]), array([ 0.94105219,  0.13354037]), array([15000,   165]))\n",
      "13150/13150 [==============================] - 470s - loss: 0.3448 - acc: 0.9183 - val_loss: 0.2846 - val_acc: 0.8896\n"
     ]
    },
    {
     "data": {
      "text/plain": [
       "<keras.callbacks.History at 0x7fa43f79e550>"
      ]
     },
     "execution_count": 31,
     "metadata": {},
     "output_type": "execute_result"
    }
   ],
   "source": [
    "model.compile(loss='binary_crossentropy',\n",
    "              optimizer=ndm,\n",
    "              metrics=['acc'])\n",
    "\n",
    "initial_weights = model.get_weights()\n",
    "\n",
    "model.set_weights(initial_weights)\n",
    "metrics = Metrics(FOURTH_MOD_DIR + \"none\")\n",
    "model.fit(x_train, y_train,\n",
    "          batch_size=128,\n",
    "          epochs=20,\n",
    "          class_weight = {0. : 1, 1. : 12},\n",
    "validation_data=[x_test, y_test],\n",
    "         callbacks = [metrics])"
   ]
  },
  {
   "cell_type": "code",
   "execution_count": 32,
   "metadata": {},
   "outputs": [
    {
     "name": "stdout",
     "output_type": "stream",
     "text": [
      "_________________________________________________________________\n",
      "Layer (type)                 Output Shape              Param #   \n",
      "=================================================================\n",
      "embedding_12 (Embedding)     (None, 1000, 200)         10000000  \n",
      "_________________________________________________________________\n",
      "bidirectional_9 (Bidirection (None, 100)               100400    \n",
      "_________________________________________________________________\n",
      "dropout_9 (Dropout)          (None, 100)               0         \n",
      "_________________________________________________________________\n",
      "dense_9 (Dense)              (None, 2)                 202       \n",
      "=================================================================\n",
      "Total params: 10,100,602\n",
      "Trainable params: 100,602\n",
      "Non-trainable params: 10,000,000\n",
      "_________________________________________________________________\n"
     ]
    }
   ],
   "source": [
    "del(model)\n",
    "\n",
    "model = Sequential()\n",
    "model.add(Embedding(num_words, EMBEDDING_DIM, weights=[embedding_matrix], \n",
    "                    input_length=MAX_SEQUENCE_LENGTH,trainable = False))\n",
    "model.add(Bidirectional(LSTM(50)))\n",
    "model.add(Dropout(0.5))\n",
    "model.add(Dense(2, activation='softmax'))\n",
    "\n",
    "\n",
    "model.summary()\n",
    "\n"
   ]
  },
  {
   "cell_type": "code",
   "execution_count": 33,
   "metadata": {
    "scrolled": true
   },
   "outputs": [
    {
     "name": "stdout",
     "output_type": "stream",
     "text": [
      "Train on 13150 samples, validate on 15165 samples\n",
      "Epoch 1/20\n",
      "13056/13150 [============================>.] - ETA: 2s - loss: 1.3247 - acc: 0.5064\n",
      "Weighted F1 score found on Validation dataset :  (array([ 0.99459327,  0.0172193 ]), array([ 0.5396    ,  0.73333333]), array([ 0.69962832,  0.0336485 ]), array([15000,   165]))\n",
      "13150/13150 [==============================] - 702s - loss: 1.3231 - acc: 0.5059 - val_loss: 0.6432 - val_acc: 0.5417\n",
      "Epoch 2/20\n",
      "13056/13150 [============================>.] - ETA: 2s - loss: 1.0625 - acc: 0.7044\n",
      "Weighted F1 score found on Validation dataset :  (array([ 0.99833038,  0.02669294]), array([ 0.6378   ,  0.9030303]), array([ 0.77834276,  0.05185314]), array([15000,   165]))\n",
      "13150/13150 [==============================] - 701s - loss: 1.0616 - acc: 0.7051 - val_loss: 0.8109 - val_acc: 0.6407\n",
      "Epoch 3/20\n",
      "13056/13150 [============================>.] - ETA: 2s - loss: 0.8392 - acc: 0.7948\n",
      "Weighted F1 score found on Validation dataset :  (array([ 0.99785383,  0.02313054]), array([ 0.58893333,  0.88484848]), array([ 0.74070348,  0.0450826 ]), array([15000,   165]))\n",
      "13150/13150 [==============================] - 701s - loss: 0.8406 - acc: 0.7928 - val_loss: 0.6284 - val_acc: 0.5922\n",
      "Epoch 4/20\n",
      "13056/13150 [============================>.] - ETA: 2s - loss: 0.7650 - acc: 0.8169\n",
      "Weighted F1 score found on Validation dataset :  (array([ 0.99842245,  0.04677988]), array([ 0.80166667,  0.88484848]), array([ 0.88929152,  0.08886184]), array([15000,   165]))\n",
      "13150/13150 [==============================] - 701s - loss: 0.7657 - acc: 0.8170 - val_loss: 0.4795 - val_acc: 0.8026\n",
      "Epoch 5/20\n",
      "13056/13150 [============================>.] - ETA: 2s - loss: 0.6988 - acc: 0.8332\n",
      "Weighted F1 score found on Validation dataset :  (array([ 0.99801117,  0.06644359]), array([ 0.8698    ,  0.84242424]), array([ 0.92950522,  0.12317235]), array([15000,   165]))\n",
      "13150/13150 [==============================] - 702s - loss: 0.6972 - acc: 0.8338 - val_loss: 0.3235 - val_acc: 0.8695\n",
      "Epoch 6/20\n",
      "13056/13150 [============================>.] - ETA: 2s - loss: 0.5901 - acc: 0.8575\n",
      "Weighted F1 score found on Validation dataset :  (array([ 0.99820914,  0.06115418]), array([ 0.85466667,  0.86060606]), array([ 0.92087778,  0.11419381]), array([15000,   165]))\n",
      "13150/13150 [==============================] - 702s - loss: 0.5923 - acc: 0.8576 - val_loss: 0.3248 - val_acc: 0.8547\n",
      "Epoch 7/20\n",
      "13056/13150 [============================>.] - ETA: 2s - loss: 0.5455 - acc: 0.8693\n",
      "Weighted F1 score found on Validation dataset :  (array([ 0.99819947,  0.05938938]), array([ 0.85006667,  0.86060606]), array([ 0.91819687,  0.11111111]), array([15000,   165]))\n",
      "13150/13150 [==============================] - 702s - loss: 0.5449 - acc: 0.8690 - val_loss: 0.3442 - val_acc: 0.8502\n",
      "Epoch 8/20\n",
      "13056/13150 [============================>.] - ETA: 2s - loss: 0.5056 - acc: 0.8786\n",
      "Weighted F1 score found on Validation dataset :  (array([ 0.99774164,  0.07177033]), array([ 0.8836    ,  0.81818182]), array([ 0.93720832,  0.13196481]), array([15000,   165]))\n",
      "13150/13150 [==============================] - 701s - loss: 0.5055 - acc: 0.8783 - val_loss: 0.2973 - val_acc: 0.8829\n",
      "Epoch 9/20\n",
      "13056/13150 [============================>.] - ETA: 2s - loss: 0.4671 - acc: 0.8837\n",
      "Weighted F1 score found on Validation dataset :  (array([ 0.99791956,  0.06310014]), array([ 0.8634    ,  0.83636364]), array([ 0.92579884,  0.11734694]), array([15000,   165]))\n",
      "13150/13150 [==============================] - 702s - loss: 0.4673 - acc: 0.8837 - val_loss: 0.3241 - val_acc: 0.8631\n",
      "Epoch 10/20\n",
      "13056/13150 [============================>.] - ETA: 2s - loss: 0.4345 - acc: 0.8930\n",
      "Weighted F1 score found on Validation dataset :  (array([ 0.99803182,  0.04745877]), array([ 0.81133333,  0.85454545]), array([ 0.89505038,  0.08992347]), array([15000,   165]))\n",
      "13150/13150 [==============================] - 702s - loss: 0.4350 - acc: 0.8926 - val_loss: 0.4268 - val_acc: 0.8118\n",
      "Epoch 11/20\n",
      "13056/13150 [============================>.] - ETA: 2s - loss: 0.4271 - acc: 0.8977\n",
      "Weighted F1 score found on Validation dataset :  (array([ 0.99627626,  0.12017167]), array([ 0.94533333,  0.67878788]), array([ 0.97013649,  0.20419325]), array([15000,   165]))\n",
      "13150/13150 [==============================] - 700s - loss: 0.4276 - acc: 0.8976 - val_loss: 0.1564 - val_acc: 0.9424\n",
      "Epoch 12/20\n",
      "13056/13150 [============================>.] - ETA: 2s - loss: 0.3993 - acc: 0.9006\n",
      "Weighted F1 score found on Validation dataset :  (array([ 0.99769036,  0.07687894]), array([ 0.89273333,  0.81212121]), array([ 0.94229822,  0.14046122]), array([15000,   165]))\n",
      "13150/13150 [==============================] - 701s - loss: 0.3982 - acc: 0.9007 - val_loss: 0.2724 - val_acc: 0.8919\n",
      "Epoch 13/20\n",
      "13056/13150 [============================>.] - ETA: 2s - loss: 0.3473 - acc: 0.9185\n",
      "Weighted F1 score found on Validation dataset :  (array([ 0.99704841,  0.07749535]), array([ 0.9008    ,  0.75757576]), array([ 0.94648361,  0.14060742]), array([15000,   165]))\n",
      "13150/13150 [==============================] - 700s - loss: 0.3475 - acc: 0.9182 - val_loss: 0.2392 - val_acc: 0.8992\n",
      "Epoch 14/20\n",
      "13056/13150 [============================>.] - ETA: 2s - loss: 0.3171 - acc: 0.9223\n",
      "Weighted F1 score found on Validation dataset :  (array([ 0.99682906,  0.09387122]), array([ 0.92213333,  0.73333333]), array([ 0.95802743,  0.16643741]), array([15000,   165]))\n",
      "13150/13150 [==============================] - 701s - loss: 0.3160 - acc: 0.9224 - val_loss: 0.2004 - val_acc: 0.9201\n",
      "Epoch 15/20\n",
      "13056/13150 [============================>.] - ETA: 2s - loss: 0.3207 - acc: 0.9191\n",
      "Weighted F1 score found on Validation dataset :  (array([ 0.99718247,  0.07568534]), array([ 0.8966    ,  0.76969697]), array([ 0.94422017,  0.13781877]), array([15000,   165]))\n",
      "13150/13150 [==============================] - 700s - loss: 0.3196 - acc: 0.9192 - val_loss: 0.2603 - val_acc: 0.8952\n",
      "Epoch 16/20\n",
      "13056/13150 [============================>.] - ETA: 2s - loss: 0.2878 - acc: 0.9301\n",
      "Weighted F1 score found on Validation dataset :  (array([ 0.99766267,  0.07045216]), array([ 0.88213333,  0.81212121]), array([ 0.93634788,  0.12965651]), array([15000,   165]))\n",
      "13150/13150 [==============================] - 701s - loss: 0.2897 - acc: 0.9299 - val_loss: 0.3286 - val_acc: 0.8814\n",
      "Epoch 17/20\n",
      "13056/13150 [============================>.] - ETA: 2s - loss: 0.2988 - acc: 0.9212\n",
      "Weighted F1 score found on Validation dataset :  (array([ 0.99691358,  0.07899807]), array([ 0.9044    ,  0.74545455]), array([ 0.94840604,  0.14285714]), array([15000,   165]))\n",
      "13150/13150 [==============================] - 699s - loss: 0.2987 - acc: 0.9211 - val_loss: 0.2461 - val_acc: 0.9027\n",
      "Epoch 18/20\n",
      "13056/13150 [============================>.] - ETA: 2s - loss: 0.2721 - acc: 0.9308\n",
      "Weighted F1 score found on Validation dataset :  (array([ 0.99705058,  0.07797879]), array([ 0.90146667,  0.75757576]), array([ 0.94685246,  0.14140271]), array([15000,   165]))\n",
      "13150/13150 [==============================] - 701s - loss: 0.2712 - acc: 0.9310 - val_loss: 0.2669 - val_acc: 0.8999\n",
      "Epoch 19/20\n",
      "13056/13150 [============================>.] - ETA: 2s - loss: 0.2408 - acc: 0.9393\n",
      "Weighted F1 score found on Validation dataset :  (array([ 0.99683794,  0.0968    ]), array([ 0.92473333,  0.73333333]), array([ 0.95943282,  0.17102473]), array([15000,   165]))\n",
      "13150/13150 [==============================] - 708s - loss: 0.2403 - acc: 0.9393 - val_loss: 0.2088 - val_acc: 0.9227\n",
      "Epoch 20/20\n",
      "13056/13150 [============================>.] - ETA: 2s - loss: 0.2337 - acc: 0.9430\n",
      "Weighted F1 score found on Validation dataset :  (array([ 0.99707645,  0.0842886 ]), array([ 0.90946667,  0.75757576]), array([ 0.95125863,  0.15169903]), array([15000,   165]))\n",
      "13150/13150 [==============================] - 700s - loss: 0.2330 - acc: 0.9430 - val_loss: 0.2562 - val_acc: 0.9078\n"
     ]
    },
    {
     "data": {
      "text/plain": [
       "<keras.callbacks.History at 0x7fa43b869e90>"
      ]
     },
     "execution_count": 33,
     "metadata": {},
     "output_type": "execute_result"
    }
   ],
   "source": [
    "\n",
    "model.compile(loss='binary_crossentropy',\n",
    "              optimizer=ndm,\n",
    "              metrics=['acc'])\n",
    "\n",
    "initial_weights = model.get_weights()\n",
    "\n",
    "model.set_weights(initial_weights)\n",
    "metrics = Metrics(FOURTH_MOD_DIR + \"none\")\n",
    "model.fit(x_train, y_train,\n",
    "          batch_size=128,\n",
    "          epochs=20,\n",
    "          class_weight = {0. : 1, 1. : 12},\n",
    "validation_data=[x_test, y_test],\n",
    "         callbacks = [metrics])"
   ]
  },
  {
   "cell_type": "code",
   "execution_count": null,
   "metadata": {
    "scrolled": true
   },
   "outputs": [
    {
     "name": "stdout",
     "output_type": "stream",
     "text": [
      "_________________________________________________________________\n",
      "Layer (type)                 Output Shape              Param #   \n",
      "=================================================================\n",
      "embedding_13 (Embedding)     (None, 1000, 200)         10000000  \n",
      "_________________________________________________________________\n",
      "bidirectional_10 (Bidirectio (None, 200)               240800    \n",
      "_________________________________________________________________\n",
      "dropout_10 (Dropout)         (None, 200)               0         \n",
      "_________________________________________________________________\n",
      "dense_10 (Dense)             (None, 2)                 402       \n",
      "=================================================================\n",
      "Total params: 10,241,202\n",
      "Trainable params: 241,202\n",
      "Non-trainable params: 10,000,000\n",
      "_________________________________________________________________\n"
     ]
    }
   ],
   "source": [
    "del(model)\n",
    "\n",
    "model = Sequential()\n",
    "model.add(Embedding(num_words, EMBEDDING_DIM, weights=[embedding_matrix], \n",
    "                    input_length=MAX_SEQUENCE_LENGTH,trainable = False))\n",
    "model.add(Bidirectional(LSTM(100)))\n",
    "model.add(Dropout(0.5))\n",
    "model.add(Dense(2, activation='softmax'))\n",
    "\n",
    "\n",
    "model.summary()\n",
    "\n"
   ]
  },
  {
   "cell_type": "code",
   "execution_count": null,
   "metadata": {
    "scrolled": true
   },
   "outputs": [
    {
     "name": "stdout",
     "output_type": "stream",
     "text": [
      "Train on 13150 samples, validate on 15165 samples\n",
      "Epoch 1/20\n",
      "13056/13150 [============================>.] - ETA: 5s - loss: 1.2366 - acc: 0.5598 \n",
      "Weighted F1 score found on Validation dataset :  (array([ 0.9985158 ,  0.03988143]), array([ 0.76246667,  0.8969697 ]), array([ 0.86467075,  0.07636739]), array([15000,   165]))\n",
      "13150/13150 [==============================] - 1390s - loss: 1.2362 - acc: 0.5615 - val_loss: 0.4625 - val_acc: 0.7639\n",
      "Epoch 2/20\n",
      "13056/13150 [============================>.] - ETA: 5s - loss: 0.9493 - acc: 0.7894 \n",
      "Weighted F1 score found on Validation dataset :  (array([ 0.99784826,  0.05273214]), array([ 0.83473333,  0.83636364]), array([ 0.90903151,  0.0992092 ]), array([15000,   165]))\n",
      "13150/13150 [==============================] - 1387s - loss: 0.9469 - acc: 0.7897 - val_loss: 0.4674 - val_acc: 0.8348\n",
      "Epoch 3/20\n",
      "13056/13150 [============================>.] - ETA: 5s - loss: 0.8204 - acc: 0.8098 \n",
      "Weighted F1 score found on Validation dataset :  (array([ 0.9973262 ,  0.07583774]), array([ 0.8952    ,  0.78181818]), array([ 0.94350759,  0.13826367]), array([15000,   165]))\n",
      "13150/13150 [==============================] - 1387s - loss: 0.8190 - acc: 0.8103 - val_loss: 0.2734 - val_acc: 0.8940\n",
      "Epoch 4/20\n",
      "13056/13150 [============================>.] - ETA: 5s - loss: 0.7999 - acc: 0.7979 \n",
      "Weighted F1 score found on Validation dataset :  (array([ 0.99786894,  0.06762093]), array([ 0.87406667,  0.83030303]), array([ 0.93187391,  0.12505705]), array([15000,   165]))\n",
      "13150/13150 [==============================] - 1388s - loss: 0.8002 - acc: 0.7989 - val_loss: 0.2597 - val_acc: 0.8736\n",
      "Epoch 5/20\n",
      "13056/13150 [============================>.] - ETA: 5s - loss: 0.6612 - acc: 0.8559 \n",
      "Weighted F1 score found on Validation dataset :  (array([ 0.99777084,  0.07908612]), array([ 0.8952    ,  0.81818182]), array([ 0.94370651,  0.14423077]), array([15000,   165]))\n",
      "13150/13150 [==============================] - 1430s - loss: 0.6591 - acc: 0.8561 - val_loss: 0.3103 - val_acc: 0.8944\n",
      "Epoch 6/20\n",
      "13056/13150 [============================>.] - ETA: 5s - loss: 0.6235 - acc: 0.8605 "
     ]
    }
   ],
   "source": [
    "\n",
    "model.compile(loss='binary_crossentropy',\n",
    "              optimizer=ndm,\n",
    "              metrics=['acc'])\n",
    "\n",
    "initial_weights = model.get_weights()\n",
    "\n",
    "model.set_weights(initial_weights)\n",
    "metrics = Metrics(FOURTH_MOD_DIR + \"none\")\n",
    "model.fit(x_train, y_train,\n",
    "          batch_size=128,\n",
    "          epochs=20,\n",
    "          class_weight = {0. : 1, 1. : 12},\n",
    "validation_data=[x_test, y_test],\n",
    "         callbacks = [metrics])"
   ]
  },
  {
   "cell_type": "code",
   "execution_count": null,
   "metadata": {
    "collapsed": true
   },
   "outputs": [],
   "source": [
    "del(model)\n",
    "\n",
    "model = Sequential()\n",
    "model.add(Embedding(num_words, EMBEDDING_DIM, weights=[embedding_matrix], \n",
    "                    input_length=MAX_SEQUENCE_LENGTH,trainable = False))\n",
    "model.add(Bidirectional(LSTM(150)))\n",
    "model.add(Dropout(0.5))\n",
    "model.add(Dense(2, activation='softmax'))\n",
    "\n",
    "\n",
    "model.summary()\n"
   ]
  },
  {
   "cell_type": "code",
   "execution_count": null,
   "metadata": {
    "collapsed": true
   },
   "outputs": [],
   "source": [
    "\n",
    "\n",
    "model.compile(loss='binary_crossentropy',\n",
    "              optimizer=ndm,\n",
    "              metrics=['acc'])\n",
    "\n",
    "initial_weights = model.get_weights()\n",
    "\n",
    "model.set_weights(initial_weights)\n",
    "metrics = Metrics(FOURTH_MOD_DIR + \"none\")\n",
    "model.fit(x_train, y_train,\n",
    "          batch_size=128,\n",
    "          epochs=20,\n",
    "          class_weight = {0. : 1, 1. : 12},\n",
    "validation_data=[x_test, y_test],\n",
    "         callbacks = [metrics])"
   ]
  },
  {
   "cell_type": "code",
   "execution_count": null,
   "metadata": {
    "scrolled": true
   },
   "outputs": [],
   "source": [
    "model.set_weights(initial_weights)\n",
    "metrics = Metrics(FOURTH_MOD_DIR + \"none\")\n",
    "model.fit(x_train, y_train,\n",
    "          batch_size=128,\n",
    "          epochs=10,\n",
    "          class_weight = {0. : 1, 1. : 20},\n",
    "validation_data=[x_test, y_test],\n",
    "         callbacks = [metrics])"
   ]
  },
  {
   "cell_type": "code",
   "execution_count": 14,
   "metadata": {
    "scrolled": true
   },
   "outputs": [
    {
     "name": "stdout",
     "output_type": "stream",
     "text": [
      "Train on 13150 samples, validate on 15165 samples\n",
      "Epoch 1/10\n",
      "13056/13150 [============================>.] - ETA: 1s - loss: 1.5838 - acc: 0.4036\n",
      "Weighted F1 score found on Validation dataset :  (array([ 0.99924573,  0.0482524 ]), array([ 0.79486667,  0.94545455]), array([ 0.88541512,  0.09181872]), array([15000,   165]))\n",
      "13150/13150 [==============================] - 320s - loss: 1.5791 - acc: 0.4064 - val_loss: 0.5419 - val_acc: 0.7965\n",
      "Epoch 2/10\n",
      "13056/13150 [============================>.] - ETA: 1s - loss: 0.9673 - acc: 0.7640\n",
      "Weighted F1 score found on Validation dataset :  (array([ 0.99930957,  0.04387926]), array([ 0.77193333,  0.95151515]), array([ 0.87102719,  0.08388993]), array([15000,   165]))\n",
      "13150/13150 [==============================] - 320s - loss: 0.9671 - acc: 0.7647 - val_loss: 0.5668 - val_acc: 0.7739\n",
      "Epoch 3/10\n",
      "13056/13150 [============================>.] - ETA: 1s - loss: 0.6484 - acc: 0.8555\n",
      "Weighted F1 score found on Validation dataset :  (array([ 0.99766679,  0.09172414]), array([ 0.9122    ,  0.80606061]), array([ 0.95302107,  0.16470588]), array([15000,   165]))\n",
      "13150/13150 [==============================] - 318s - loss: 0.6473 - acc: 0.8557 - val_loss: 0.2281 - val_acc: 0.9110\n",
      "Epoch 4/10\n",
      "13056/13150 [============================>.] - ETA: 1s - loss: 0.4429 - acc: 0.9024\n",
      "Weighted F1 score found on Validation dataset :  (array([ 0.99674981,  0.11758893]), array([ 0.94046667,  0.72121212]), array([ 0.96779062,  0.20220901]), array([15000,   165]))\n",
      "13150/13150 [==============================] - 318s - loss: 0.4437 - acc: 0.9021 - val_loss: 0.1719 - val_acc: 0.9381\n",
      "Epoch 5/10\n",
      "13056/13150 [============================>.] - ETA: 1s - loss: 0.3049 - acc: 0.9386\n",
      "Weighted F1 score found on Validation dataset :  (array([ 0.99714081,  0.10638298]), array([ 0.93      ,  0.75757576]), array([ 0.96240083,  0.18656716]), array([15000,   165]))\n",
      "13150/13150 [==============================] - 319s - loss: 0.3056 - acc: 0.9386 - val_loss: 0.2315 - val_acc: 0.9281\n",
      "Epoch 6/10\n",
      "13056/13150 [============================>.] - ETA: 1s - loss: 0.2267 - acc: 0.9536\n",
      "Weighted F1 score found on Validation dataset :  (array([ 0.99573385,  0.16297468]), array([ 0.96473333,  0.62424242]), array([ 0.97998849,  0.25846926]), array([15000,   165]))\n",
      "13150/13150 [==============================] - 319s - loss: 0.2266 - acc: 0.9535 - val_loss: 0.1439 - val_acc: 0.9610\n",
      "Epoch 7/10\n",
      "13056/13150 [============================>.] - ETA: 1s - loss: 0.1711 - acc: 0.9682\n",
      "Weighted F1 score found on Validation dataset :  (array([ 0.99653514,  0.11339198]), array([ 0.93953333,  0.7030303 ]), array([ 0.96719511,  0.1952862 ]), array([15000,   165]))\n",
      "13150/13150 [==============================] - 319s - loss: 0.1707 - acc: 0.9684 - val_loss: 0.2274 - val_acc: 0.9370\n",
      "Epoch 8/10\n",
      "13056/13150 [============================>.] - ETA: 1s - loss: 0.1211 - acc: 0.9766\n",
      "Weighted F1 score found on Validation dataset :  (array([ 0.99684362,  0.09877551]), array([ 0.9264    ,  0.73333333]), array([ 0.96033172,  0.17410072]), array([15000,   165]))\n",
      "13150/13150 [==============================] - 318s - loss: 0.1227 - acc: 0.9767 - val_loss: 0.2985 - val_acc: 0.9243\n",
      "Epoch 9/10\n",
      "13056/13150 [============================>.] - ETA: 1s - loss: 0.1146 - acc: 0.9786\n",
      "Weighted F1 score found on Validation dataset :  (array([ 0.99592063,  0.15099715]), array([ 0.96026667,  0.64242424]), array([ 0.97776873,  0.24452134]), array([15000,   165]))\n",
      "13150/13150 [==============================] - 320s - loss: 0.1154 - acc: 0.9785 - val_loss: 0.1845 - val_acc: 0.9568\n",
      "Epoch 10/10\n",
      "13056/13150 [============================>.] - ETA: 1s - loss: 0.0664 - acc: 0.9881\n",
      "Weighted F1 score found on Validation dataset :  (array([ 0.99529867,  0.13837375]), array([ 0.95973333,  0.58787879]), array([ 0.97719251,  0.22401848]), array([15000,   165]))\n",
      "13150/13150 [==============================] - 319s - loss: 0.0662 - acc: 0.9880 - val_loss: 0.1975 - val_acc: 0.9557\n"
     ]
    },
    {
     "data": {
      "text/plain": [
       "<keras.callbacks.History at 0x7fcd5c44b390>"
      ]
     },
     "execution_count": 14,
     "metadata": {},
     "output_type": "execute_result"
    }
   ],
   "source": [
    "model.set_weights(initial_weights)\n",
    "metrics = Metrics(FOURTH_MOD_DIR + \"none\")\n",
    "model.fit(x_train, y_train,\n",
    "          batch_size=128,\n",
    "          epochs=10,\n",
    "          class_weight = {0. : 1, 1. : 30},\n",
    "validation_data=[x_test, y_test],\n",
    "         callbacks = [metrics])"
   ]
  },
  {
   "cell_type": "code",
   "execution_count": 10,
   "metadata": {
    "scrolled": true
   },
   "outputs": [
    {
     "name": "stdout",
     "output_type": "stream",
     "text": [
      "Train on 13150 samples, validate on 15165 samples\n",
      "Epoch 1/10\n",
      "13056/13150 [============================>.] - ETA: 1s - loss: 1.0621 - acc: 0.6901\n",
      "Weighted F1 score found on Validation dataset :  (array([ 0.9995951 ,  0.03045781]), array([ 0.65833333,  0.97575758]), array([ 0.7938422 ,  0.05907173]), array([15000,   165]))\n",
      "13150/13150 [==============================] - 325s - loss: 1.0628 - acc: 0.6911 - val_loss: 0.6460 - val_acc: 0.6618\n",
      "Epoch 2/10\n",
      "13056/13150 [============================>.] - ETA: 1s - loss: 0.6110 - acc: 0.8635\n",
      "Weighted F1 score found on Validation dataset :  (array([ 0.99835858,  0.08115778]), array([ 0.89206667,  0.86666667]), array([ 0.94222441,  0.14841723]), array([15000,   165]))\n",
      "13150/13150 [==============================] - 327s - loss: 0.6098 - acc: 0.8636 - val_loss: 0.2627 - val_acc: 0.8918\n",
      "Epoch 3/10\n",
      "13056/13150 [============================>.] - ETA: 1s - loss: 0.4403 - acc: 0.8929\n",
      "Weighted F1 score found on Validation dataset :  (array([ 0.99821681,  0.08264947]), array([ 0.89566667,  0.85454545]), array([ 0.94416529,  0.15072154]), array([15000,   165]))\n",
      "13150/13150 [==============================] - 336s - loss: 0.4397 - acc: 0.8928 - val_loss: 0.2375 - val_acc: 0.8952\n",
      "Epoch 4/10\n",
      "13056/13150 [============================>.] - ETA: 1s - loss: 0.3110 - acc: 0.9238\n",
      "Weighted F1 score found on Validation dataset :  (array([ 0.99761956,  0.10138249]), array([ 0.922,  0.8  ]), array([ 0.95832034,  0.1799591 ]), array([15000,   165]))\n",
      "13150/13150 [==============================] - 340s - loss: 0.3112 - acc: 0.9240 - val_loss: 0.1841 - val_acc: 0.9207\n",
      "Epoch 5/10\n",
      "13056/13150 [============================>.] - ETA: 1s - loss: 0.2235 - acc: 0.9468\n",
      "Weighted F1 score found on Validation dataset :  (array([ 0.99734367,  0.10355987]), array([ 0.92613333,  0.77575758]), array([ 0.96042034,  0.18272662]), array([15000,   165]))\n",
      "13150/13150 [==============================] - 336s - loss: 0.2227 - acc: 0.9470 - val_loss: 0.2077 - val_acc: 0.9245\n",
      "Epoch 6/10\n",
      "13056/13150 [============================>.] - ETA: 1s - loss: 0.1781 - acc: 0.9602\n",
      "Weighted F1 score found on Validation dataset :  (array([ 0.99687567,  0.11182994]), array([ 0.93593333,  0.73333333]), array([ 0.96544373,  0.19406576]), array([15000,   165]))\n",
      "13150/13150 [==============================] - 327s - loss: 0.1780 - acc: 0.9601 - val_loss: 0.1863 - val_acc: 0.9337\n",
      "Epoch 7/10\n",
      "13056/13150 [============================>.] - ETA: 1s - loss: 0.1365 - acc: 0.9692\n",
      "Weighted F1 score found on Validation dataset :  (array([ 0.99551693,  0.15015015]), array([ 0.96226667,  0.60606061]), array([ 0.97860944,  0.24067389]), array([15000,   165]))\n",
      "13150/13150 [==============================] - 341s - loss: 0.1358 - acc: 0.9694 - val_loss: 0.1299 - val_acc: 0.9584\n",
      "Epoch 8/10\n",
      "13056/13150 [============================>.] - ETA: 1s - loss: 0.0830 - acc: 0.9829\n",
      "Weighted F1 score found on Validation dataset :  (array([ 0.99567462,  0.12394705]), array([ 0.95146667,  0.62424242]), array([ 0.97306879,  0.20682731]), array([15000,   165]))\n",
      "13150/13150 [==============================] - 320s - loss: 0.0828 - acc: 0.9830 - val_loss: 0.1781 - val_acc: 0.9479\n",
      "Epoch 9/10\n",
      "13056/13150 [============================>.] - ETA: 1s - loss: 0.0831 - acc: 0.9831\n",
      "Weighted F1 score found on Validation dataset :  (array([ 0.99568786,  0.13087675]), array([ 0.9544    ,  0.62424242]), array([ 0.97460685,  0.21638655]), array([15000,   165]))\n",
      "13150/13150 [==============================] - 327s - loss: 0.0829 - acc: 0.9832 - val_loss: 0.1722 - val_acc: 0.9508\n",
      "Epoch 10/10\n",
      "13056/13150 [============================>.] - ETA: 1s - loss: 0.0566 - acc: 0.9889\n",
      "Weighted F1 score found on Validation dataset :  (array([ 0.99533491,  0.12204234]), array([ 0.953     ,  0.59393939]), array([ 0.97370751,  0.20247934]), array([15000,   165]))\n",
      "13150/13150 [==============================] - 339s - loss: 0.0562 - acc: 0.9890 - val_loss: 0.1910 - val_acc: 0.9491\n"
     ]
    },
    {
     "data": {
      "text/plain": [
       "<keras.callbacks.History at 0x7fcd5c3cf350>"
      ]
     },
     "execution_count": 10,
     "metadata": {},
     "output_type": "execute_result"
    }
   ],
   "source": [
    "model.set_weights(initial_weights)\n",
    "metrics = Metrics(FOURTH_MOD_DIR + \"none\")\n",
    "model.fit(x_train, y_train,\n",
    "          batch_size=128,\n",
    "          epochs=10,\n",
    "          class_weight = {0. : 1, 1. : 10},\n",
    "validation_data=[x_test, y_test],\n",
    "         callbacks = [metrics])"
   ]
  },
  {
   "cell_type": "code",
   "execution_count": null,
   "metadata": {
    "collapsed": true
   },
   "outputs": [],
   "source": [
    "model.set_weights(initial_weights)\n",
    "metrics = Metrics(FOURTH_MOD_DIR + \"none\")\n",
    "model.fit(x_train, y_train,\n",
    "          batch_size=128,\n",
    "          epochs=15,\n",
    "          class_weight = {0. : 1, 1. : 50},\n",
    "validation_data=[x_test, y_test],\n",
    "         callbacks = [metrics])"
   ]
  },
  {
   "cell_type": "code",
   "execution_count": null,
   "metadata": {
    "collapsed": true
   },
   "outputs": [],
   "source": [
    "model.set_weights(initial_weights)\n",
    "metrics = Metrics(FOURTH_MOD_DIR + \"none\")\n",
    "model.fit(x_train, y_train,\n",
    "          batch_size=128,\n",
    "          epochs=15,\n",
    "          class_weight = {0. : 1, 1. : 75},\n",
    "validation_data=[x_test, y_test],\n",
    "         callbacks = [metrics])"
   ]
  },
  {
   "cell_type": "code",
   "execution_count": null,
   "metadata": {
    "collapsed": true
   },
   "outputs": [],
   "source": [
    "model.set_weights(initial_weights)\n",
    "metrics = Metrics(FOURTH_MOD_DIR + \"none\")\n",
    "model.fit(x_train, y_train,\n",
    "          batch_size=128,\n",
    "          epochs=20,\n",
    "          class_weight = {0. : 1, 1. : 100},\n",
    "validation_data=[x_test, y_test],\n",
    "         callbacks = [metrics])"
   ]
  },
  {
   "cell_type": "code",
   "execution_count": 9,
   "metadata": {
    "scrolled": true
   },
   "outputs": [
    {
     "name": "stdout",
     "output_type": "stream",
     "text": [
      "Train on 13150 samples, validate on 15165 samples\n",
      "Epoch 1/10\n",
      "13056/13150 [============================>.] - ETA: 2s - loss: 0.9033 - acc: 0.8074\n",
      "Weighted F1 score found on Validation dataset :  (array([ 0.99944721,  0.03688239]), array([ 0.7232    ,  0.96363636]), array([ 0.83917382,  0.07104558]), array([15000,   165]))\n",
      "13150/13150 [==============================] - 648s - loss: 0.9021 - acc: 0.8077 - val_loss: 0.5441 - val_acc: 0.7258\n",
      "Epoch 2/10\n",
      "13056/13150 [============================>.] - ETA: 2s - loss: 0.5040 - acc: 0.8678\n",
      "Weighted F1 score found on Validation dataset :  (array([ 0.99735884,  0.11072664]), array([ 0.93146667,  0.77575758]), array([ 0.96328726,  0.19379258]), array([15000,   165]))\n",
      "13150/13150 [==============================] - 655s - loss: 0.5026 - acc: 0.8682 - val_loss: 0.1606 - val_acc: 0.9298\n",
      "Epoch 3/10\n",
      "13056/13150 [============================>.] - ETA: 2s - loss: 0.3329 - acc: 0.9126\n",
      "Weighted F1 score found on Validation dataset :  (array([ 0.99651228,  0.13872135]), array([ 0.9524   ,  0.6969697]), array([ 0.97395691,  0.23138833]), array([15000,   165]))\n",
      "13150/13150 [==============================] - 673s - loss: 0.3332 - acc: 0.9123 - val_loss: 0.1250 - val_acc: 0.9496\n",
      "Epoch 4/10\n",
      "13056/13150 [============================>.] - ETA: 2s - loss: 0.2124 - acc: 0.9483\n",
      "Weighted F1 score found on Validation dataset :  (array([ 0.99753033,  0.09370529]), array([ 0.91553333,  0.79393939]), array([ 0.95477457,  0.16762636]), array([15000,   165]))\n",
      "13150/13150 [==============================] - 684s - loss: 0.2118 - acc: 0.9486 - val_loss: 0.2218 - val_acc: 0.9142\n",
      "Epoch 5/10\n",
      "13056/13150 [============================>.] - ETA: 2s - loss: 0.1332 - acc: 0.9714\n",
      "Weighted F1 score found on Validation dataset :  (array([ 0.99654053,  0.11588412]), array([ 0.941    ,  0.7030303]), array([ 0.96797421,  0.19897084]), array([15000,   165]))\n",
      "13150/13150 [==============================] - 698s - loss: 0.1333 - acc: 0.9715 - val_loss: 0.1780 - val_acc: 0.9384\n",
      "Epoch 6/10\n",
      "13056/13150 [============================>.] - ETA: 2s - loss: 0.0731 - acc: 0.9857\n",
      "Weighted F1 score found on Validation dataset :  (array([ 0.9955856 ,  0.15142429]), array([ 0.96226667,  0.61212121]), array([ 0.97864262,  0.24278846]), array([15000,   165]))\n",
      "13150/13150 [==============================] - 706s - loss: 0.0728 - acc: 0.9858 - val_loss: 0.1629 - val_acc: 0.9585\n",
      "Epoch 7/10\n",
      "13056/13150 [============================>.] - ETA: 2s - loss: 0.0386 - acc: 0.9925\n",
      "Weighted F1 score found on Validation dataset :  (array([ 0.99704845,  0.09733124]), array([ 0.92333333,  0.75151515]), array([ 0.95877609,  0.1723419 ]), array([15000,   165]))\n",
      "13150/13150 [==============================] - 720s - loss: 0.0392 - acc: 0.9925 - val_loss: 0.3406 - val_acc: 0.9215\n",
      "Epoch 8/10\n",
      "13056/13150 [============================>.] - ETA: 2s - loss: 0.0190 - acc: 0.9962\n",
      "Weighted F1 score found on Validation dataset :  (array([ 0.99488892,  0.18329939]), array([ 0.97326667,  0.54545455]), array([ 0.98395902,  0.27439024]), array([15000,   165]))\n",
      "13150/13150 [==============================] - 715s - loss: 0.0191 - acc: 0.9962 - val_loss: 0.1675 - val_acc: 0.9686\n",
      "Epoch 9/10\n",
      "13056/13150 [============================>.] - ETA: 2s - loss: 0.0104 - acc: 0.9979\n",
      "Weighted F1 score found on Validation dataset :  (array([ 0.99466776,  0.16201117]), array([ 0.97      ,  0.52727273]), array([ 0.98217902,  0.24786325]), array([15000,   165]))\n",
      "13150/13150 [==============================] - 728s - loss: 0.0104 - acc: 0.9979 - val_loss: 0.1922 - val_acc: 0.9652\n",
      "Epoch 10/10\n",
      "13056/13150 [============================>.] - ETA: 2s - loss: 0.1038 - acc: 0.9926\n",
      "Weighted F1 score found on Validation dataset :  (array([ 0.9970322 ,  0.07409603]), array([ 0.89586667,  0.75757576]), array([ 0.94374605,  0.1349892 ]), array([15000,   165]))\n",
      "13150/13150 [==============================] - 714s - loss: 0.1039 - acc: 0.9924 - val_loss: 0.2634 - val_acc: 0.8944\n"
     ]
    },
    {
     "data": {
      "text/plain": [
       "<keras.callbacks.History at 0x7fcd12ba4f10>"
      ]
     },
     "execution_count": 9,
     "metadata": {},
     "output_type": "execute_result"
    }
   ],
   "source": [
    "model.set_weights(initial_weights)\n",
    "metrics = Metrics(FOURTH_MOD_DIR + \"none\")\n",
    "model.fit(x_train, y_train,\n",
    "          batch_size=128,\n",
    "          epochs=10,\n",
    "          class_weight = {0. : 1, 1. : 8},\n",
    "validation_data=[x_test, y_test],\n",
    "         callbacks = [metrics])"
   ]
  },
  {
   "cell_type": "code",
   "execution_count": null,
   "metadata": {
    "collapsed": true
   },
   "outputs": [],
   "source": [
    "model.set_weights(initial_weights)\n",
    "metrics = Metrics(FOURTH_MOD_DIR + \"none\")\n",
    "model.fit(x_train, y_train,\n",
    "          batch_size=128,\n",
    "          epochs=20,\n",
    "          class_weight = {0. : 1, 1. : 125},\n",
    "validation_data=[x_test, y_test],\n",
    "         callbacks = [metrics])"
   ]
  },
  {
   "cell_type": "code",
   "execution_count": 17,
   "metadata": {
    "scrolled": true
   },
   "outputs": [
    {
     "name": "stdout",
     "output_type": "stream",
     "text": [
      "Train on 13150 samples, validate on 15165 samples\n",
      "Epoch 1/20\n",
      "13056/13150 [============================>.] - ETA: 1s - loss: 2.7308 - acc: 0.1568\n",
      "Weighted F1 score found on Validation dataset :  (array([ 1.        ,  0.01704545]), array([ 0.36566667,  1.        ]), array([ 0.53551379,  0.03351955]), array([15000,   165]))\n",
      "13150/13150 [==============================] - 321s - loss: 2.7281 - acc: 0.1587 - val_loss: 1.2697 - val_acc: 0.3726\n",
      "Epoch 2/20\n",
      "13056/13150 [============================>.] - ETA: 1s - loss: 1.8886 - acc: 0.5123\n",
      "Weighted F1 score found on Validation dataset :  (array([ 0.99960684,  0.03225806]), array([ 0.678     ,  0.97575758]), array([ 0.80797648,  0.06245151]), array([15000,   165]))\n",
      "13150/13150 [==============================] - 319s - loss: 1.8832 - acc: 0.5138 - val_loss: 0.8559 - val_acc: 0.6812\n",
      "Epoch 3/20\n",
      "13056/13150 [============================>.] - ETA: 1s - loss: 1.3161 - acc: 0.7084\n",
      "Weighted F1 score found on Validation dataset :  (array([ 0.9993245 ,  0.04726069]), array([ 0.789     ,  0.95151515]), array([ 0.88179414,  0.09004875]), array([15000,   165]))\n",
      "13150/13150 [==============================] - 318s - loss: 1.3132 - acc: 0.7085 - val_loss: 0.6312 - val_acc: 0.7908\n",
      "Epoch 4/20\n",
      "13056/13150 [============================>.] - ETA: 1s - loss: 0.9276 - acc: 0.8065\n",
      "Weighted F1 score found on Validation dataset :  (array([ 0.99943829,  0.05845357]), array([ 0.83033333,  0.95757576]), array([ 0.90707159,  0.11018131]), array([15000,   165]))\n",
      "13150/13150 [==============================] - 325s - loss: 0.9264 - acc: 0.8066 - val_loss: 0.5470 - val_acc: 0.8317\n",
      "Epoch 5/20\n",
      "13056/13150 [============================>.] - ETA: 1s - loss: 0.6169 - acc: 0.8817"
     ]
    },
    {
     "ename": "KeyboardInterrupt",
     "evalue": "",
     "output_type": "error",
     "traceback": [
      "\u001b[0;31m---------------------------------------------------------------------------\u001b[0m",
      "\u001b[0;31mKeyboardInterrupt\u001b[0m                         Traceback (most recent call last)",
      "\u001b[0;32m<ipython-input-17-781b98609c02>\u001b[0m in \u001b[0;36m<module>\u001b[0;34m()\u001b[0m\n\u001b[1;32m      6\u001b[0m           \u001b[0mclass_weight\u001b[0m \u001b[0;34m=\u001b[0m \u001b[0;34m{\u001b[0m\u001b[0;36m0.\u001b[0m \u001b[0;34m:\u001b[0m \u001b[0;36m1\u001b[0m\u001b[0;34m,\u001b[0m \u001b[0;36m1.\u001b[0m \u001b[0;34m:\u001b[0m \u001b[0;36m150\u001b[0m\u001b[0;34m}\u001b[0m\u001b[0;34m,\u001b[0m\u001b[0;34m\u001b[0m\u001b[0m\n\u001b[1;32m      7\u001b[0m \u001b[0mvalidation_data\u001b[0m\u001b[0;34m=\u001b[0m\u001b[0;34m[\u001b[0m\u001b[0mx_test\u001b[0m\u001b[0;34m,\u001b[0m \u001b[0my_test\u001b[0m\u001b[0;34m]\u001b[0m\u001b[0;34m,\u001b[0m\u001b[0;34m\u001b[0m\u001b[0m\n\u001b[0;32m----> 8\u001b[0;31m          callbacks = [metrics])\n\u001b[0m",
      "\u001b[0;32m/home/abhinav/miniconda2/envs/tensorflow/lib/python2.7/site-packages/keras/engine/training.pyc\u001b[0m in \u001b[0;36mfit\u001b[0;34m(self, x, y, batch_size, epochs, verbose, callbacks, validation_split, validation_data, shuffle, class_weight, sample_weight, initial_epoch, **kwargs)\u001b[0m\n\u001b[1;32m   1505\u001b[0m                               \u001b[0mval_f\u001b[0m\u001b[0;34m=\u001b[0m\u001b[0mval_f\u001b[0m\u001b[0;34m,\u001b[0m \u001b[0mval_ins\u001b[0m\u001b[0;34m=\u001b[0m\u001b[0mval_ins\u001b[0m\u001b[0;34m,\u001b[0m \u001b[0mshuffle\u001b[0m\u001b[0;34m=\u001b[0m\u001b[0mshuffle\u001b[0m\u001b[0;34m,\u001b[0m\u001b[0;34m\u001b[0m\u001b[0m\n\u001b[1;32m   1506\u001b[0m                               \u001b[0mcallback_metrics\u001b[0m\u001b[0;34m=\u001b[0m\u001b[0mcallback_metrics\u001b[0m\u001b[0;34m,\u001b[0m\u001b[0;34m\u001b[0m\u001b[0m\n\u001b[0;32m-> 1507\u001b[0;31m                               initial_epoch=initial_epoch)\n\u001b[0m\u001b[1;32m   1508\u001b[0m \u001b[0;34m\u001b[0m\u001b[0m\n\u001b[1;32m   1509\u001b[0m     \u001b[0;32mdef\u001b[0m \u001b[0mevaluate\u001b[0m\u001b[0;34m(\u001b[0m\u001b[0mself\u001b[0m\u001b[0;34m,\u001b[0m \u001b[0mx\u001b[0m\u001b[0;34m,\u001b[0m \u001b[0my\u001b[0m\u001b[0;34m,\u001b[0m \u001b[0mbatch_size\u001b[0m\u001b[0;34m=\u001b[0m\u001b[0;36m32\u001b[0m\u001b[0;34m,\u001b[0m \u001b[0mverbose\u001b[0m\u001b[0;34m=\u001b[0m\u001b[0;36m1\u001b[0m\u001b[0;34m,\u001b[0m \u001b[0msample_weight\u001b[0m\u001b[0;34m=\u001b[0m\u001b[0mNone\u001b[0m\u001b[0;34m)\u001b[0m\u001b[0;34m:\u001b[0m\u001b[0;34m\u001b[0m\u001b[0m\n",
      "\u001b[0;32m/home/abhinav/miniconda2/envs/tensorflow/lib/python2.7/site-packages/keras/engine/training.pyc\u001b[0m in \u001b[0;36m_fit_loop\u001b[0;34m(self, f, ins, out_labels, batch_size, epochs, verbose, callbacks, val_f, val_ins, shuffle, callback_metrics, initial_epoch)\u001b[0m\n\u001b[1;32m   1174\u001b[0m                         \u001b[0;32mfor\u001b[0m \u001b[0ml\u001b[0m\u001b[0;34m,\u001b[0m \u001b[0mo\u001b[0m \u001b[0;32min\u001b[0m \u001b[0mzip\u001b[0m\u001b[0;34m(\u001b[0m\u001b[0mout_labels\u001b[0m\u001b[0;34m,\u001b[0m \u001b[0mval_outs\u001b[0m\u001b[0;34m)\u001b[0m\u001b[0;34m:\u001b[0m\u001b[0;34m\u001b[0m\u001b[0m\n\u001b[1;32m   1175\u001b[0m                             \u001b[0mepoch_logs\u001b[0m\u001b[0;34m[\u001b[0m\u001b[0;34m'val_'\u001b[0m \u001b[0;34m+\u001b[0m \u001b[0ml\u001b[0m\u001b[0;34m]\u001b[0m \u001b[0;34m=\u001b[0m \u001b[0mo\u001b[0m\u001b[0;34m\u001b[0m\u001b[0m\n\u001b[0;32m-> 1176\u001b[0;31m             \u001b[0mcallbacks\u001b[0m\u001b[0;34m.\u001b[0m\u001b[0mon_epoch_end\u001b[0m\u001b[0;34m(\u001b[0m\u001b[0mepoch\u001b[0m\u001b[0;34m,\u001b[0m \u001b[0mepoch_logs\u001b[0m\u001b[0;34m)\u001b[0m\u001b[0;34m\u001b[0m\u001b[0m\n\u001b[0m\u001b[1;32m   1177\u001b[0m             \u001b[0;32mif\u001b[0m \u001b[0mcallback_model\u001b[0m\u001b[0;34m.\u001b[0m\u001b[0mstop_training\u001b[0m\u001b[0;34m:\u001b[0m\u001b[0;34m\u001b[0m\u001b[0m\n\u001b[1;32m   1178\u001b[0m                 \u001b[0;32mbreak\u001b[0m\u001b[0;34m\u001b[0m\u001b[0m\n",
      "\u001b[0;32m/home/abhinav/miniconda2/envs/tensorflow/lib/python2.7/site-packages/keras/callbacks.pyc\u001b[0m in \u001b[0;36mon_epoch_end\u001b[0;34m(self, epoch, logs)\u001b[0m\n\u001b[1;32m     75\u001b[0m         \u001b[0mlogs\u001b[0m \u001b[0;34m=\u001b[0m \u001b[0mlogs\u001b[0m \u001b[0;32mor\u001b[0m \u001b[0;34m{\u001b[0m\u001b[0;34m}\u001b[0m\u001b[0;34m\u001b[0m\u001b[0m\n\u001b[1;32m     76\u001b[0m         \u001b[0;32mfor\u001b[0m \u001b[0mcallback\u001b[0m \u001b[0;32min\u001b[0m \u001b[0mself\u001b[0m\u001b[0;34m.\u001b[0m\u001b[0mcallbacks\u001b[0m\u001b[0;34m:\u001b[0m\u001b[0;34m\u001b[0m\u001b[0m\n\u001b[0;32m---> 77\u001b[0;31m             \u001b[0mcallback\u001b[0m\u001b[0;34m.\u001b[0m\u001b[0mon_epoch_end\u001b[0m\u001b[0;34m(\u001b[0m\u001b[0mepoch\u001b[0m\u001b[0;34m,\u001b[0m \u001b[0mlogs\u001b[0m\u001b[0;34m)\u001b[0m\u001b[0;34m\u001b[0m\u001b[0m\n\u001b[0m\u001b[1;32m     78\u001b[0m \u001b[0;34m\u001b[0m\u001b[0m\n\u001b[1;32m     79\u001b[0m     \u001b[0;32mdef\u001b[0m \u001b[0mon_batch_begin\u001b[0m\u001b[0;34m(\u001b[0m\u001b[0mself\u001b[0m\u001b[0;34m,\u001b[0m \u001b[0mbatch\u001b[0m\u001b[0;34m,\u001b[0m \u001b[0mlogs\u001b[0m\u001b[0;34m=\u001b[0m\u001b[0mNone\u001b[0m\u001b[0;34m)\u001b[0m\u001b[0;34m:\u001b[0m\u001b[0;34m\u001b[0m\u001b[0m\n",
      "\u001b[0;32m<ipython-input-3-d4c35e314950>\u001b[0m in \u001b[0;36mon_epoch_end\u001b[0;34m(self, epoch, batch, logs)\u001b[0m\n\u001b[1;32m      4\u001b[0m         \u001b[0mself\u001b[0m\u001b[0;34m.\u001b[0m\u001b[0mbest\u001b[0m \u001b[0;34m=\u001b[0m \u001b[0;34m-\u001b[0m\u001b[0mnp\u001b[0m\u001b[0;34m.\u001b[0m\u001b[0mInf\u001b[0m\u001b[0;34m\u001b[0m\u001b[0m\n\u001b[1;32m      5\u001b[0m     \u001b[0;32mdef\u001b[0m \u001b[0mon_epoch_end\u001b[0m\u001b[0;34m(\u001b[0m\u001b[0mself\u001b[0m\u001b[0;34m,\u001b[0m \u001b[0mepoch\u001b[0m\u001b[0;34m,\u001b[0m\u001b[0mbatch\u001b[0m\u001b[0;34m,\u001b[0m \u001b[0mlogs\u001b[0m\u001b[0;34m=\u001b[0m\u001b[0;34m{\u001b[0m\u001b[0;34m}\u001b[0m\u001b[0;34m)\u001b[0m\u001b[0;34m:\u001b[0m\u001b[0;34m\u001b[0m\u001b[0m\n\u001b[0;32m----> 6\u001b[0;31m         \u001b[0mpredict\u001b[0m \u001b[0;34m=\u001b[0m \u001b[0mself\u001b[0m\u001b[0;34m.\u001b[0m\u001b[0mmodel\u001b[0m\u001b[0;34m.\u001b[0m\u001b[0mpredict\u001b[0m\u001b[0;34m(\u001b[0m\u001b[0mself\u001b[0m\u001b[0;34m.\u001b[0m\u001b[0mvalidation_data\u001b[0m\u001b[0;34m[\u001b[0m\u001b[0;36m0\u001b[0m\u001b[0;34m]\u001b[0m\u001b[0;34m,\u001b[0m\u001b[0mbatch_size\u001b[0m \u001b[0;34m=\u001b[0m \u001b[0;36m512\u001b[0m\u001b[0;34m)\u001b[0m\u001b[0;34m\u001b[0m\u001b[0m\n\u001b[0m\u001b[1;32m      7\u001b[0m         \u001b[0mpredict\u001b[0m \u001b[0;34m=\u001b[0m \u001b[0mprob_to_label\u001b[0m\u001b[0;34m(\u001b[0m\u001b[0mpredict\u001b[0m\u001b[0;34m)\u001b[0m\u001b[0;34m\u001b[0m\u001b[0m\n\u001b[1;32m      8\u001b[0m         \u001b[0mtarg\u001b[0m \u001b[0;34m=\u001b[0m \u001b[0mself\u001b[0m\u001b[0;34m.\u001b[0m\u001b[0mvalidation_data\u001b[0m\u001b[0;34m[\u001b[0m\u001b[0;36m1\u001b[0m\u001b[0;34m]\u001b[0m\u001b[0;34m\u001b[0m\u001b[0m\n",
      "\u001b[0;32m/home/abhinav/miniconda2/envs/tensorflow/lib/python2.7/site-packages/keras/engine/training.pyc\u001b[0m in \u001b[0;36mpredict\u001b[0;34m(self, x, batch_size, verbose)\u001b[0m\n\u001b[1;32m   1592\u001b[0m         \u001b[0mf\u001b[0m \u001b[0;34m=\u001b[0m \u001b[0mself\u001b[0m\u001b[0;34m.\u001b[0m\u001b[0mpredict_function\u001b[0m\u001b[0;34m\u001b[0m\u001b[0m\n\u001b[1;32m   1593\u001b[0m         return self._predict_loop(f, ins,\n\u001b[0;32m-> 1594\u001b[0;31m                                   batch_size=batch_size, verbose=verbose)\n\u001b[0m\u001b[1;32m   1595\u001b[0m \u001b[0;34m\u001b[0m\u001b[0m\n\u001b[1;32m   1596\u001b[0m     def train_on_batch(self, x, y,\n",
      "\u001b[0;32m/home/abhinav/miniconda2/envs/tensorflow/lib/python2.7/site-packages/keras/engine/training.pyc\u001b[0m in \u001b[0;36m_predict_loop\u001b[0;34m(self, f, ins, batch_size, verbose)\u001b[0m\n\u001b[1;32m   1216\u001b[0m                 \u001b[0mins_batch\u001b[0m \u001b[0;34m=\u001b[0m \u001b[0m_slice_arrays\u001b[0m\u001b[0;34m(\u001b[0m\u001b[0mins\u001b[0m\u001b[0;34m,\u001b[0m \u001b[0mbatch_ids\u001b[0m\u001b[0;34m)\u001b[0m\u001b[0;34m\u001b[0m\u001b[0m\n\u001b[1;32m   1217\u001b[0m \u001b[0;34m\u001b[0m\u001b[0m\n\u001b[0;32m-> 1218\u001b[0;31m             \u001b[0mbatch_outs\u001b[0m \u001b[0;34m=\u001b[0m \u001b[0mf\u001b[0m\u001b[0;34m(\u001b[0m\u001b[0mins_batch\u001b[0m\u001b[0;34m)\u001b[0m\u001b[0;34m\u001b[0m\u001b[0m\n\u001b[0m\u001b[1;32m   1219\u001b[0m             \u001b[0;32mif\u001b[0m \u001b[0;32mnot\u001b[0m \u001b[0misinstance\u001b[0m\u001b[0;34m(\u001b[0m\u001b[0mbatch_outs\u001b[0m\u001b[0;34m,\u001b[0m \u001b[0mlist\u001b[0m\u001b[0;34m)\u001b[0m\u001b[0;34m:\u001b[0m\u001b[0;34m\u001b[0m\u001b[0m\n\u001b[1;32m   1220\u001b[0m                 \u001b[0mbatch_outs\u001b[0m \u001b[0;34m=\u001b[0m \u001b[0;34m[\u001b[0m\u001b[0mbatch_outs\u001b[0m\u001b[0;34m]\u001b[0m\u001b[0;34m\u001b[0m\u001b[0m\n",
      "\u001b[0;32m/home/abhinav/miniconda2/envs/tensorflow/lib/python2.7/site-packages/keras/backend/tensorflow_backend.pyc\u001b[0m in \u001b[0;36m__call__\u001b[0;34m(self, inputs)\u001b[0m\n\u001b[1;32m   2267\u001b[0m         updated = session.run(self.outputs + [self.updates_op],\n\u001b[1;32m   2268\u001b[0m                               \u001b[0mfeed_dict\u001b[0m\u001b[0;34m=\u001b[0m\u001b[0mfeed_dict\u001b[0m\u001b[0;34m,\u001b[0m\u001b[0;34m\u001b[0m\u001b[0m\n\u001b[0;32m-> 2269\u001b[0;31m                               **self.session_kwargs)\n\u001b[0m\u001b[1;32m   2270\u001b[0m         \u001b[0;32mreturn\u001b[0m \u001b[0mupdated\u001b[0m\u001b[0;34m[\u001b[0m\u001b[0;34m:\u001b[0m\u001b[0mlen\u001b[0m\u001b[0;34m(\u001b[0m\u001b[0mself\u001b[0m\u001b[0;34m.\u001b[0m\u001b[0moutputs\u001b[0m\u001b[0;34m)\u001b[0m\u001b[0;34m]\u001b[0m\u001b[0;34m\u001b[0m\u001b[0m\n\u001b[1;32m   2271\u001b[0m \u001b[0;34m\u001b[0m\u001b[0m\n",
      "\u001b[0;32m/home/abhinav/miniconda2/envs/tensorflow/lib/python2.7/site-packages/tensorflow/python/client/session.pyc\u001b[0m in \u001b[0;36mrun\u001b[0;34m(self, fetches, feed_dict, options, run_metadata)\u001b[0m\n\u001b[1;32m    787\u001b[0m     \u001b[0;32mtry\u001b[0m\u001b[0;34m:\u001b[0m\u001b[0;34m\u001b[0m\u001b[0m\n\u001b[1;32m    788\u001b[0m       result = self._run(None, fetches, feed_dict, options_ptr,\n\u001b[0;32m--> 789\u001b[0;31m                          run_metadata_ptr)\n\u001b[0m\u001b[1;32m    790\u001b[0m       \u001b[0;32mif\u001b[0m \u001b[0mrun_metadata\u001b[0m\u001b[0;34m:\u001b[0m\u001b[0;34m\u001b[0m\u001b[0m\n\u001b[1;32m    791\u001b[0m         \u001b[0mproto_data\u001b[0m \u001b[0;34m=\u001b[0m \u001b[0mtf_session\u001b[0m\u001b[0;34m.\u001b[0m\u001b[0mTF_GetBuffer\u001b[0m\u001b[0;34m(\u001b[0m\u001b[0mrun_metadata_ptr\u001b[0m\u001b[0;34m)\u001b[0m\u001b[0;34m\u001b[0m\u001b[0m\n",
      "\u001b[0;32m/home/abhinav/miniconda2/envs/tensorflow/lib/python2.7/site-packages/tensorflow/python/client/session.pyc\u001b[0m in \u001b[0;36m_run\u001b[0;34m(self, handle, fetches, feed_dict, options, run_metadata)\u001b[0m\n\u001b[1;32m    995\u001b[0m     \u001b[0;32mif\u001b[0m \u001b[0mfinal_fetches\u001b[0m \u001b[0;32mor\u001b[0m \u001b[0mfinal_targets\u001b[0m\u001b[0;34m:\u001b[0m\u001b[0;34m\u001b[0m\u001b[0m\n\u001b[1;32m    996\u001b[0m       results = self._do_run(handle, final_targets, final_fetches,\n\u001b[0;32m--> 997\u001b[0;31m                              feed_dict_string, options, run_metadata)\n\u001b[0m\u001b[1;32m    998\u001b[0m     \u001b[0;32melse\u001b[0m\u001b[0;34m:\u001b[0m\u001b[0;34m\u001b[0m\u001b[0m\n\u001b[1;32m    999\u001b[0m       \u001b[0mresults\u001b[0m \u001b[0;34m=\u001b[0m \u001b[0;34m[\u001b[0m\u001b[0;34m]\u001b[0m\u001b[0;34m\u001b[0m\u001b[0m\n",
      "\u001b[0;32m/home/abhinav/miniconda2/envs/tensorflow/lib/python2.7/site-packages/tensorflow/python/client/session.pyc\u001b[0m in \u001b[0;36m_do_run\u001b[0;34m(self, handle, target_list, fetch_list, feed_dict, options, run_metadata)\u001b[0m\n\u001b[1;32m   1130\u001b[0m     \u001b[0;32mif\u001b[0m \u001b[0mhandle\u001b[0m \u001b[0;32mis\u001b[0m \u001b[0mNone\u001b[0m\u001b[0;34m:\u001b[0m\u001b[0;34m\u001b[0m\u001b[0m\n\u001b[1;32m   1131\u001b[0m       return self._do_call(_run_fn, self._session, feed_dict, fetch_list,\n\u001b[0;32m-> 1132\u001b[0;31m                            target_list, options, run_metadata)\n\u001b[0m\u001b[1;32m   1133\u001b[0m     \u001b[0;32melse\u001b[0m\u001b[0;34m:\u001b[0m\u001b[0;34m\u001b[0m\u001b[0m\n\u001b[1;32m   1134\u001b[0m       return self._do_call(_prun_fn, self._session, handle, feed_dict,\n",
      "\u001b[0;32m/home/abhinav/miniconda2/envs/tensorflow/lib/python2.7/site-packages/tensorflow/python/client/session.pyc\u001b[0m in \u001b[0;36m_do_call\u001b[0;34m(self, fn, *args)\u001b[0m\n\u001b[1;32m   1137\u001b[0m   \u001b[0;32mdef\u001b[0m \u001b[0m_do_call\u001b[0m\u001b[0;34m(\u001b[0m\u001b[0mself\u001b[0m\u001b[0;34m,\u001b[0m \u001b[0mfn\u001b[0m\u001b[0;34m,\u001b[0m \u001b[0;34m*\u001b[0m\u001b[0margs\u001b[0m\u001b[0;34m)\u001b[0m\u001b[0;34m:\u001b[0m\u001b[0;34m\u001b[0m\u001b[0m\n\u001b[1;32m   1138\u001b[0m     \u001b[0;32mtry\u001b[0m\u001b[0;34m:\u001b[0m\u001b[0;34m\u001b[0m\u001b[0m\n\u001b[0;32m-> 1139\u001b[0;31m       \u001b[0;32mreturn\u001b[0m \u001b[0mfn\u001b[0m\u001b[0;34m(\u001b[0m\u001b[0;34m*\u001b[0m\u001b[0margs\u001b[0m\u001b[0;34m)\u001b[0m\u001b[0;34m\u001b[0m\u001b[0m\n\u001b[0m\u001b[1;32m   1140\u001b[0m     \u001b[0;32mexcept\u001b[0m \u001b[0merrors\u001b[0m\u001b[0;34m.\u001b[0m\u001b[0mOpError\u001b[0m \u001b[0;32mas\u001b[0m \u001b[0me\u001b[0m\u001b[0;34m:\u001b[0m\u001b[0;34m\u001b[0m\u001b[0m\n\u001b[1;32m   1141\u001b[0m       \u001b[0mmessage\u001b[0m \u001b[0;34m=\u001b[0m \u001b[0mcompat\u001b[0m\u001b[0;34m.\u001b[0m\u001b[0mas_text\u001b[0m\u001b[0;34m(\u001b[0m\u001b[0me\u001b[0m\u001b[0;34m.\u001b[0m\u001b[0mmessage\u001b[0m\u001b[0;34m)\u001b[0m\u001b[0;34m\u001b[0m\u001b[0m\n",
      "\u001b[0;32m/home/abhinav/miniconda2/envs/tensorflow/lib/python2.7/site-packages/tensorflow/python/client/session.pyc\u001b[0m in \u001b[0;36m_run_fn\u001b[0;34m(session, feed_dict, fetch_list, target_list, options, run_metadata)\u001b[0m\n\u001b[1;32m   1119\u001b[0m         return tf_session.TF_Run(session, options,\n\u001b[1;32m   1120\u001b[0m                                  \u001b[0mfeed_dict\u001b[0m\u001b[0;34m,\u001b[0m \u001b[0mfetch_list\u001b[0m\u001b[0;34m,\u001b[0m \u001b[0mtarget_list\u001b[0m\u001b[0;34m,\u001b[0m\u001b[0;34m\u001b[0m\u001b[0m\n\u001b[0;32m-> 1121\u001b[0;31m                                  status, run_metadata)\n\u001b[0m\u001b[1;32m   1122\u001b[0m \u001b[0;34m\u001b[0m\u001b[0m\n\u001b[1;32m   1123\u001b[0m     \u001b[0;32mdef\u001b[0m \u001b[0m_prun_fn\u001b[0m\u001b[0;34m(\u001b[0m\u001b[0msession\u001b[0m\u001b[0;34m,\u001b[0m \u001b[0mhandle\u001b[0m\u001b[0;34m,\u001b[0m \u001b[0mfeed_dict\u001b[0m\u001b[0;34m,\u001b[0m \u001b[0mfetch_list\u001b[0m\u001b[0;34m)\u001b[0m\u001b[0;34m:\u001b[0m\u001b[0;34m\u001b[0m\u001b[0m\n",
      "\u001b[0;31mKeyboardInterrupt\u001b[0m: "
     ]
    }
   ],
   "source": [
    "model.set_weights(initial_weights)\n",
    "metrics = Metrics(FOURTH_MOD_DIR + \"none\")\n",
    "model.fit(x_train, y_train,\n",
    "          batch_size=128,\n",
    "          epochs=20,\n",
    "          class_weight = {0. : 1, 1. : 150},\n",
    "validation_data=[x_test, y_test],\n",
    "         callbacks = [metrics])"
   ]
  },
  {
   "cell_type": "code",
   "execution_count": 16,
   "metadata": {
    "scrolled": true
   },
   "outputs": [
    {
     "name": "stdout",
     "output_type": "stream",
     "text": [
      "Train on 13150 samples, validate on 15165 samples\n",
      "Epoch 1/20\n",
      "13056/13150 [============================>.] - ETA: 1s - loss: 3.3969 - acc: 0.0895\n",
      "Weighted F1 score found on Validation dataset :  (array([ 0.        ,  0.01088032]), array([ 0.,  1.]), array([ 0.        ,  0.02152642]), array([15000,   165]))\n",
      "13150/13150 [==============================] - 328s - loss: 3.3978 - acc: 0.0898 - val_loss: 2.6060 - val_acc: 0.0109\n",
      "Epoch 2/20\n",
      "13056/13150 [============================>.] - ETA: 1s - loss: 1.9941 - acc: 0.3591\n",
      "Weighted F1 score found on Validation dataset :  (array([ 1.        ,  0.01807427]), array([ 0.4024,  1.    ]), array([ 0.57387336,  0.03550678]), array([15000,   165]))\n",
      "13150/13150 [==============================] - 331s - loss: 1.9972 - acc: 0.3592 - val_loss: 1.7261 - val_acc: 0.4089\n",
      "Epoch 3/20\n",
      "13056/13150 [============================>.] - ETA: 1s - loss: 1.2913 - acc: 0.7218\n",
      "Weighted F1 score found on Validation dataset :  (array([ 0.9995438 ,  0.02516805]), array([ 0.58426667,  0.97575758]), array([ 0.73746213,  0.04907041]), array([15000,   165]))\n",
      "13150/13150 [==============================] - 321s - loss: 1.2935 - acc: 0.7212 - val_loss: 1.5518 - val_acc: 0.5885\n",
      "Epoch 4/20\n",
      "13056/13150 [============================>.] - ETA: 1s - loss: 1.0179 - acc: 0.7963\n",
      "Weighted F1 score found on Validation dataset :  (array([ 0.99884345,  0.04934641]), array([ 0.80606667,  0.91515152]), array([ 0.89216012,  0.09364341]), array([15000,   165]))\n",
      "13150/13150 [==============================] - 319s - loss: 1.0172 - acc: 0.7960 - val_loss: 0.6714 - val_acc: 0.8073\n",
      "Epoch 5/20\n",
      "13056/13150 [============================>.] - ETA: 1s - loss: 0.6840 - acc: 0.8639\n",
      "Weighted F1 score found on Validation dataset :  (array([ 0.99835848,  0.06070826]), array([ 0.85146667,  0.87272727]), array([ 0.91908034,  0.11351991]), array([15000,   165]))\n",
      "13150/13150 [==============================] - 322s - loss: 0.6846 - acc: 0.8634 - val_loss: 0.5355 - val_acc: 0.8517\n",
      "Epoch 6/20\n",
      "13056/13150 [============================>.] - ETA: 1s - loss: 0.5035 - acc: 0.9076\n",
      "Weighted F1 score found on Validation dataset :  (array([ 0.99780814,  0.09133965]), array([ 0.91046667,  0.81818182]), array([ 0.9521386 ,  0.16433354]), array([15000,   165]))\n",
      "13150/13150 [==============================] - 317s - loss: 0.5026 - acc: 0.9078 - val_loss: 0.3583 - val_acc: 0.9095\n",
      "Epoch 7/20\n",
      "13056/13150 [============================>.] - ETA: 1s - loss: 0.5197 - acc: 0.9123\n",
      "Weighted F1 score found on Validation dataset :  (array([ 0.99799331,  0.08070175]), array([ 0.8952    ,  0.83636364]), array([ 0.94380601,  0.1472    ]), array([15000,   165]))\n",
      "13150/13150 [==============================] - 317s - loss: 0.5188 - acc: 0.9125 - val_loss: 0.3326 - val_acc: 0.8946\n",
      "Epoch 8/20\n",
      "13056/13150 [============================>.] - ETA: 1s - loss: 0.3803 - acc: 0.9308\n",
      "Weighted F1 score found on Validation dataset :  (array([ 0.99752943,  0.09337135]), array([ 0.9152    ,  0.79393939]), array([ 0.95459287,  0.16709184]), array([15000,   165]))\n",
      "13150/13150 [==============================] - 317s - loss: 0.3799 - acc: 0.9310 - val_loss: 0.3999 - val_acc: 0.9139\n",
      "Epoch 9/20\n",
      "13056/13150 [============================>.] - ETA: 1s - loss: 0.2258 - acc: 0.9622\n",
      "Weighted F1 score found on Validation dataset :  (array([ 0.99692835,  0.10463122]), array([ 0.9304    ,  0.73939394]), array([ 0.96251595,  0.18332081]), array([15000,   165]))\n",
      "13150/13150 [==============================] - 325s - loss: 0.2254 - acc: 0.9623 - val_loss: 0.3364 - val_acc: 0.9283\n",
      "Epoch 10/20\n",
      "13056/13150 [============================>.] - ETA: 1s - loss: 0.2181 - acc: 0.9596\n",
      "Weighted F1 score found on Validation dataset :  (array([ 0.99730399,  0.0888272 ]), array([ 0.91246667,  0.77575758]), array([ 0.95300097,  0.15940224]), array([15000,   165]))\n",
      "13150/13150 [==============================] - 328s - loss: 0.2182 - acc: 0.9598 - val_loss: 0.4558 - val_acc: 0.9110\n",
      "Epoch 11/20\n",
      "13056/13150 [============================>.] - ETA: 1s - loss: 0.2860 - acc: 0.9426\n",
      "Weighted F1 score found on Validation dataset :  (array([ 0.9971902 ,  0.09805447]), array([ 0.92273333,  0.76363636]), array([ 0.95851801,  0.1737931 ]), array([15000,   165]))\n",
      "13150/13150 [==============================] - 325s - loss: 0.2843 - acc: 0.9428 - val_loss: 0.3549 - val_acc: 0.9210\n",
      "Epoch 12/20\n",
      "13056/13150 [============================>.] - ETA: 1s - loss: 0.1620 - acc: 0.9720\n",
      "Weighted F1 score found on Validation dataset :  (array([ 0.99727701,  0.08116677]), array([ 0.9034    ,  0.77575758]), array([ 0.94802015,  0.14695752]), array([15000,   165]))\n",
      "13150/13150 [==============================] - 333s - loss: 0.1611 - acc: 0.9720 - val_loss: 0.4991 - val_acc: 0.9020\n",
      "Epoch 13/20\n",
      "13056/13150 [============================>.] - ETA: 1s - loss: 0.1213 - acc: 0.9803\n",
      "Weighted F1 score found on Validation dataset :  (array([ 0.99652901,  0.11068702]), array([ 0.93786667,  0.7030303 ]), array([ 0.96630834,  0.19126134]), array([15000,   165]))\n",
      "13150/13150 [==============================] - 326s - loss: 0.1206 - acc: 0.9803 - val_loss: 0.3516 - val_acc: 0.9353\n",
      "Epoch 14/20\n",
      "13056/13150 [============================>.] - ETA: 1s - loss: 0.0819 - acc: 0.9877\n",
      "Weighted F1 score found on Validation dataset :  (array([ 0.99615814,  0.12956419]), array([ 0.95073333,  0.66666667]), array([ 0.97291581,  0.21696252]), array([15000,   165]))\n",
      "13150/13150 [==============================] - 322s - loss: 0.0815 - acc: 0.9878 - val_loss: 0.3040 - val_acc: 0.9476\n",
      "Epoch 15/20\n",
      "13056/13150 [============================>.] - ETA: 1s - loss: 0.0604 - acc: 0.9903\n",
      "Weighted F1 score found on Validation dataset :  (array([ 0.99593838,  0.12090395]), array([ 0.94813333,  0.64848485]), array([ 0.97144809,  0.20380952]), array([15000,   165]))\n",
      "13150/13150 [==============================] - 326s - loss: 0.0599 - acc: 0.9903 - val_loss: 0.3214 - val_acc: 0.9449\n",
      "Epoch 16/20\n",
      "13056/13150 [============================>.] - ETA: 1s - loss: 0.2507 - acc: 0.9562\n",
      "Weighted F1 score found on Validation dataset :  (array([ 0.99664238,  0.10111397]), array([ 0.93006667,  0.71515152]), array([ 0.96220429,  0.17717718]), array([15000,   165]))\n",
      "13150/13150 [==============================] - 322s - loss: 0.2492 - acc: 0.9563 - val_loss: 0.3495 - val_acc: 0.9277\n",
      "Epoch 17/20\n",
      "13056/13150 [============================>.] - ETA: 1s - loss: 0.0994 - acc: 0.9825\n",
      "Weighted F1 score found on Validation dataset :  (array([ 0.99665338,  0.10526316]), array([ 0.93313333,  0.71515152]), array([ 0.96384795,  0.18351477]), array([15000,   165]))\n",
      "13150/13150 [==============================] - 323s - loss: 0.0989 - acc: 0.9825 - val_loss: 0.3644 - val_acc: 0.9308\n",
      "Epoch 18/20\n",
      "13056/13150 [============================>.] - ETA: 1s - loss: 0.1729 - acc: 0.9806\n",
      "Weighted F1 score found on Validation dataset :  (array([ 0.99933206,  0.03372465]), array([ 0.6982    ,  0.95757576]), array([ 0.82205651,  0.06515464]), array([15000,   165]))\n",
      "13150/13150 [==============================] - 324s - loss: 0.1793 - acc: 0.9791 - val_loss: 1.8906 - val_acc: 0.7010\n",
      "Epoch 19/20\n",
      "13056/13150 [============================>.] - ETA: 1s - loss: 0.0897 - acc: 0.9827\n",
      "Weighted F1 score found on Validation dataset :  (array([ 0.99562363,  0.10320641]), array([ 0.94033333,  0.62424242]), array([ 0.96718895,  0.17712812]), array([15000,   165]))\n",
      "13150/13150 [==============================] - 321s - loss: 0.0892 - acc: 0.9828 - val_loss: 0.3665 - val_acc: 0.9369\n",
      "Epoch 20/20\n",
      "13056/13150 [============================>.] - ETA: 1s - loss: 0.1796 - acc: 0.9711\n",
      "Weighted F1 score found on Validation dataset :  (array([ 0.99546453,  0.09582543]), array([ 0.93646667,  0.61212121]), array([ 0.96506475,  0.1657096 ]), array([15000,   165]))\n",
      "13150/13150 [==============================] - 321s - loss: 0.1784 - acc: 0.9713 - val_loss: 0.3280 - val_acc: 0.9329\n"
     ]
    },
    {
     "data": {
      "text/plain": [
       "<keras.callbacks.History at 0x7fcd15cf61d0>"
      ]
     },
     "execution_count": 16,
     "metadata": {},
     "output_type": "execute_result"
    }
   ],
   "source": [
    "model.set_weights(initial_weights)\n",
    "metrics = Metrics(FOURTH_MOD_DIR + \"none\")\n",
    "model.fit(x_train, y_train,\n",
    "          batch_size=128,\n",
    "          epochs=20,\n",
    "          class_weight = {0. : 1, 1. : 200},\n",
    "validation_data=[x_test, y_test],\n",
    "         callbacks = [metrics])"
   ]
  },
  {
   "cell_type": "code",
   "execution_count": null,
   "metadata": {
    "collapsed": true
   },
   "outputs": [],
   "source": [
    "model.set_weights(initial_weights)\n",
    "metrics = Metrics(FOURTH_MOD_DIR + \"none\")\n",
    "model.fit(x_train, y_train,\n",
    "          batch_size=128,\n",
    "          epochs=20,\n",
    "          class_weight = {0. : 1, 1. : 500},\n",
    "validation_data=[x_test, y_test],\n",
    "         callbacks = [metrics])"
   ]
  },
  {
   "cell_type": "code",
   "execution_count": 15,
   "metadata": {},
   "outputs": [
    {
     "name": "stdout",
     "output_type": "stream",
     "text": [
      "Train on 13150 samples, validate on 15165 samples\n",
      "Epoch 1/20\n",
      "13056/13150 [============================>.] - ETA: 1s - loss: 8.1149 - acc: 0.0897\n",
      "Weighted F1 score found on Validation dataset :  (array([ 0.        ,  0.01088032]), array([ 0.,  1.]), array([ 0.        ,  0.02152642]), array([15000,   165]))\n",
      "13150/13150 [==============================] - 325s - loss: 8.0891 - acc: 0.0895 - val_loss: 3.4302 - val_acc: 0.0109"
     ]
    },
    {
     "name": "stderr",
     "output_type": "stream",
     "text": [
      "/home/abhinav/miniconda2/envs/tensorflow/lib/python2.7/site-packages/sklearn/metrics/classification.py:1113: UndefinedMetricWarning: Precision and F-score are ill-defined and being set to 0.0 in labels with no predicted samples.\n",
      "  'precision', 'predicted', average, warn_for)\n"
     ]
    },
    {
     "name": "stdout",
     "output_type": "stream",
     "text": [
      "\n",
      "Epoch 2/20\n",
      " 7168/13150 [===============>..............] - ETA: 86s - loss: 3.4647 - acc: 0.0871"
     ]
    },
    {
     "ename": "KeyboardInterrupt",
     "evalue": "",
     "output_type": "error",
     "traceback": [
      "\u001b[0;31m---------------------------------------------------------------------------\u001b[0m",
      "\u001b[0;31mKeyboardInterrupt\u001b[0m                         Traceback (most recent call last)",
      "\u001b[0;32m<ipython-input-15-9bde2c0656f8>\u001b[0m in \u001b[0;36m<module>\u001b[0;34m()\u001b[0m\n\u001b[1;32m      6\u001b[0m           \u001b[0mclass_weight\u001b[0m \u001b[0;34m=\u001b[0m \u001b[0;34m{\u001b[0m\u001b[0;36m0.\u001b[0m \u001b[0;34m:\u001b[0m \u001b[0;36m1\u001b[0m\u001b[0;34m,\u001b[0m \u001b[0;36m1.\u001b[0m \u001b[0;34m:\u001b[0m \u001b[0;36m1000\u001b[0m\u001b[0;34m}\u001b[0m\u001b[0;34m,\u001b[0m\u001b[0;34m\u001b[0m\u001b[0m\n\u001b[1;32m      7\u001b[0m \u001b[0mvalidation_data\u001b[0m\u001b[0;34m=\u001b[0m\u001b[0;34m[\u001b[0m\u001b[0mx_test\u001b[0m\u001b[0;34m,\u001b[0m \u001b[0my_test\u001b[0m\u001b[0;34m]\u001b[0m\u001b[0;34m,\u001b[0m\u001b[0;34m\u001b[0m\u001b[0m\n\u001b[0;32m----> 8\u001b[0;31m          callbacks = [metrics])\n\u001b[0m",
      "\u001b[0;32m/home/abhinav/miniconda2/envs/tensorflow/lib/python2.7/site-packages/keras/engine/training.pyc\u001b[0m in \u001b[0;36mfit\u001b[0;34m(self, x, y, batch_size, epochs, verbose, callbacks, validation_split, validation_data, shuffle, class_weight, sample_weight, initial_epoch, **kwargs)\u001b[0m\n\u001b[1;32m   1505\u001b[0m                               \u001b[0mval_f\u001b[0m\u001b[0;34m=\u001b[0m\u001b[0mval_f\u001b[0m\u001b[0;34m,\u001b[0m \u001b[0mval_ins\u001b[0m\u001b[0;34m=\u001b[0m\u001b[0mval_ins\u001b[0m\u001b[0;34m,\u001b[0m \u001b[0mshuffle\u001b[0m\u001b[0;34m=\u001b[0m\u001b[0mshuffle\u001b[0m\u001b[0;34m,\u001b[0m\u001b[0;34m\u001b[0m\u001b[0m\n\u001b[1;32m   1506\u001b[0m                               \u001b[0mcallback_metrics\u001b[0m\u001b[0;34m=\u001b[0m\u001b[0mcallback_metrics\u001b[0m\u001b[0;34m,\u001b[0m\u001b[0;34m\u001b[0m\u001b[0m\n\u001b[0;32m-> 1507\u001b[0;31m                               initial_epoch=initial_epoch)\n\u001b[0m\u001b[1;32m   1508\u001b[0m \u001b[0;34m\u001b[0m\u001b[0m\n\u001b[1;32m   1509\u001b[0m     \u001b[0;32mdef\u001b[0m \u001b[0mevaluate\u001b[0m\u001b[0;34m(\u001b[0m\u001b[0mself\u001b[0m\u001b[0;34m,\u001b[0m \u001b[0mx\u001b[0m\u001b[0;34m,\u001b[0m \u001b[0my\u001b[0m\u001b[0;34m,\u001b[0m \u001b[0mbatch_size\u001b[0m\u001b[0;34m=\u001b[0m\u001b[0;36m32\u001b[0m\u001b[0;34m,\u001b[0m \u001b[0mverbose\u001b[0m\u001b[0;34m=\u001b[0m\u001b[0;36m1\u001b[0m\u001b[0;34m,\u001b[0m \u001b[0msample_weight\u001b[0m\u001b[0;34m=\u001b[0m\u001b[0mNone\u001b[0m\u001b[0;34m)\u001b[0m\u001b[0;34m:\u001b[0m\u001b[0;34m\u001b[0m\u001b[0m\n",
      "\u001b[0;32m/home/abhinav/miniconda2/envs/tensorflow/lib/python2.7/site-packages/keras/engine/training.pyc\u001b[0m in \u001b[0;36m_fit_loop\u001b[0;34m(self, f, ins, out_labels, batch_size, epochs, verbose, callbacks, val_f, val_ins, shuffle, callback_metrics, initial_epoch)\u001b[0m\n\u001b[1;32m   1154\u001b[0m                 \u001b[0mbatch_logs\u001b[0m\u001b[0;34m[\u001b[0m\u001b[0;34m'size'\u001b[0m\u001b[0;34m]\u001b[0m \u001b[0;34m=\u001b[0m \u001b[0mlen\u001b[0m\u001b[0;34m(\u001b[0m\u001b[0mbatch_ids\u001b[0m\u001b[0;34m)\u001b[0m\u001b[0;34m\u001b[0m\u001b[0m\n\u001b[1;32m   1155\u001b[0m                 \u001b[0mcallbacks\u001b[0m\u001b[0;34m.\u001b[0m\u001b[0mon_batch_begin\u001b[0m\u001b[0;34m(\u001b[0m\u001b[0mbatch_index\u001b[0m\u001b[0;34m,\u001b[0m \u001b[0mbatch_logs\u001b[0m\u001b[0;34m)\u001b[0m\u001b[0;34m\u001b[0m\u001b[0m\n\u001b[0;32m-> 1156\u001b[0;31m                 \u001b[0mouts\u001b[0m \u001b[0;34m=\u001b[0m \u001b[0mf\u001b[0m\u001b[0;34m(\u001b[0m\u001b[0mins_batch\u001b[0m\u001b[0;34m)\u001b[0m\u001b[0;34m\u001b[0m\u001b[0m\n\u001b[0m\u001b[1;32m   1157\u001b[0m                 \u001b[0;32mif\u001b[0m \u001b[0;32mnot\u001b[0m \u001b[0misinstance\u001b[0m\u001b[0;34m(\u001b[0m\u001b[0mouts\u001b[0m\u001b[0;34m,\u001b[0m \u001b[0mlist\u001b[0m\u001b[0;34m)\u001b[0m\u001b[0;34m:\u001b[0m\u001b[0;34m\u001b[0m\u001b[0m\n\u001b[1;32m   1158\u001b[0m                     \u001b[0mouts\u001b[0m \u001b[0;34m=\u001b[0m \u001b[0;34m[\u001b[0m\u001b[0mouts\u001b[0m\u001b[0;34m]\u001b[0m\u001b[0;34m\u001b[0m\u001b[0m\n",
      "\u001b[0;32m/home/abhinav/miniconda2/envs/tensorflow/lib/python2.7/site-packages/keras/backend/tensorflow_backend.pyc\u001b[0m in \u001b[0;36m__call__\u001b[0;34m(self, inputs)\u001b[0m\n\u001b[1;32m   2267\u001b[0m         updated = session.run(self.outputs + [self.updates_op],\n\u001b[1;32m   2268\u001b[0m                               \u001b[0mfeed_dict\u001b[0m\u001b[0;34m=\u001b[0m\u001b[0mfeed_dict\u001b[0m\u001b[0;34m,\u001b[0m\u001b[0;34m\u001b[0m\u001b[0m\n\u001b[0;32m-> 2269\u001b[0;31m                               **self.session_kwargs)\n\u001b[0m\u001b[1;32m   2270\u001b[0m         \u001b[0;32mreturn\u001b[0m \u001b[0mupdated\u001b[0m\u001b[0;34m[\u001b[0m\u001b[0;34m:\u001b[0m\u001b[0mlen\u001b[0m\u001b[0;34m(\u001b[0m\u001b[0mself\u001b[0m\u001b[0;34m.\u001b[0m\u001b[0moutputs\u001b[0m\u001b[0;34m)\u001b[0m\u001b[0;34m]\u001b[0m\u001b[0;34m\u001b[0m\u001b[0m\n\u001b[1;32m   2271\u001b[0m \u001b[0;34m\u001b[0m\u001b[0m\n",
      "\u001b[0;32m/home/abhinav/miniconda2/envs/tensorflow/lib/python2.7/site-packages/tensorflow/python/client/session.pyc\u001b[0m in \u001b[0;36mrun\u001b[0;34m(self, fetches, feed_dict, options, run_metadata)\u001b[0m\n\u001b[1;32m    787\u001b[0m     \u001b[0;32mtry\u001b[0m\u001b[0;34m:\u001b[0m\u001b[0;34m\u001b[0m\u001b[0m\n\u001b[1;32m    788\u001b[0m       result = self._run(None, fetches, feed_dict, options_ptr,\n\u001b[0;32m--> 789\u001b[0;31m                          run_metadata_ptr)\n\u001b[0m\u001b[1;32m    790\u001b[0m       \u001b[0;32mif\u001b[0m \u001b[0mrun_metadata\u001b[0m\u001b[0;34m:\u001b[0m\u001b[0;34m\u001b[0m\u001b[0m\n\u001b[1;32m    791\u001b[0m         \u001b[0mproto_data\u001b[0m \u001b[0;34m=\u001b[0m \u001b[0mtf_session\u001b[0m\u001b[0;34m.\u001b[0m\u001b[0mTF_GetBuffer\u001b[0m\u001b[0;34m(\u001b[0m\u001b[0mrun_metadata_ptr\u001b[0m\u001b[0;34m)\u001b[0m\u001b[0;34m\u001b[0m\u001b[0m\n",
      "\u001b[0;32m/home/abhinav/miniconda2/envs/tensorflow/lib/python2.7/site-packages/tensorflow/python/client/session.pyc\u001b[0m in \u001b[0;36m_run\u001b[0;34m(self, handle, fetches, feed_dict, options, run_metadata)\u001b[0m\n\u001b[1;32m    995\u001b[0m     \u001b[0;32mif\u001b[0m \u001b[0mfinal_fetches\u001b[0m \u001b[0;32mor\u001b[0m \u001b[0mfinal_targets\u001b[0m\u001b[0;34m:\u001b[0m\u001b[0;34m\u001b[0m\u001b[0m\n\u001b[1;32m    996\u001b[0m       results = self._do_run(handle, final_targets, final_fetches,\n\u001b[0;32m--> 997\u001b[0;31m                              feed_dict_string, options, run_metadata)\n\u001b[0m\u001b[1;32m    998\u001b[0m     \u001b[0;32melse\u001b[0m\u001b[0;34m:\u001b[0m\u001b[0;34m\u001b[0m\u001b[0m\n\u001b[1;32m    999\u001b[0m       \u001b[0mresults\u001b[0m \u001b[0;34m=\u001b[0m \u001b[0;34m[\u001b[0m\u001b[0;34m]\u001b[0m\u001b[0;34m\u001b[0m\u001b[0m\n",
      "\u001b[0;32m/home/abhinav/miniconda2/envs/tensorflow/lib/python2.7/site-packages/tensorflow/python/client/session.pyc\u001b[0m in \u001b[0;36m_do_run\u001b[0;34m(self, handle, target_list, fetch_list, feed_dict, options, run_metadata)\u001b[0m\n\u001b[1;32m   1130\u001b[0m     \u001b[0;32mif\u001b[0m \u001b[0mhandle\u001b[0m \u001b[0;32mis\u001b[0m \u001b[0mNone\u001b[0m\u001b[0;34m:\u001b[0m\u001b[0;34m\u001b[0m\u001b[0m\n\u001b[1;32m   1131\u001b[0m       return self._do_call(_run_fn, self._session, feed_dict, fetch_list,\n\u001b[0;32m-> 1132\u001b[0;31m                            target_list, options, run_metadata)\n\u001b[0m\u001b[1;32m   1133\u001b[0m     \u001b[0;32melse\u001b[0m\u001b[0;34m:\u001b[0m\u001b[0;34m\u001b[0m\u001b[0m\n\u001b[1;32m   1134\u001b[0m       return self._do_call(_prun_fn, self._session, handle, feed_dict,\n",
      "\u001b[0;32m/home/abhinav/miniconda2/envs/tensorflow/lib/python2.7/site-packages/tensorflow/python/client/session.pyc\u001b[0m in \u001b[0;36m_do_call\u001b[0;34m(self, fn, *args)\u001b[0m\n\u001b[1;32m   1137\u001b[0m   \u001b[0;32mdef\u001b[0m \u001b[0m_do_call\u001b[0m\u001b[0;34m(\u001b[0m\u001b[0mself\u001b[0m\u001b[0;34m,\u001b[0m \u001b[0mfn\u001b[0m\u001b[0;34m,\u001b[0m \u001b[0;34m*\u001b[0m\u001b[0margs\u001b[0m\u001b[0;34m)\u001b[0m\u001b[0;34m:\u001b[0m\u001b[0;34m\u001b[0m\u001b[0m\n\u001b[1;32m   1138\u001b[0m     \u001b[0;32mtry\u001b[0m\u001b[0;34m:\u001b[0m\u001b[0;34m\u001b[0m\u001b[0m\n\u001b[0;32m-> 1139\u001b[0;31m       \u001b[0;32mreturn\u001b[0m \u001b[0mfn\u001b[0m\u001b[0;34m(\u001b[0m\u001b[0;34m*\u001b[0m\u001b[0margs\u001b[0m\u001b[0;34m)\u001b[0m\u001b[0;34m\u001b[0m\u001b[0m\n\u001b[0m\u001b[1;32m   1140\u001b[0m     \u001b[0;32mexcept\u001b[0m \u001b[0merrors\u001b[0m\u001b[0;34m.\u001b[0m\u001b[0mOpError\u001b[0m \u001b[0;32mas\u001b[0m \u001b[0me\u001b[0m\u001b[0;34m:\u001b[0m\u001b[0;34m\u001b[0m\u001b[0m\n\u001b[1;32m   1141\u001b[0m       \u001b[0mmessage\u001b[0m \u001b[0;34m=\u001b[0m \u001b[0mcompat\u001b[0m\u001b[0;34m.\u001b[0m\u001b[0mas_text\u001b[0m\u001b[0;34m(\u001b[0m\u001b[0me\u001b[0m\u001b[0;34m.\u001b[0m\u001b[0mmessage\u001b[0m\u001b[0;34m)\u001b[0m\u001b[0;34m\u001b[0m\u001b[0m\n",
      "\u001b[0;32m/home/abhinav/miniconda2/envs/tensorflow/lib/python2.7/site-packages/tensorflow/python/client/session.pyc\u001b[0m in \u001b[0;36m_run_fn\u001b[0;34m(session, feed_dict, fetch_list, target_list, options, run_metadata)\u001b[0m\n\u001b[1;32m   1119\u001b[0m         return tf_session.TF_Run(session, options,\n\u001b[1;32m   1120\u001b[0m                                  \u001b[0mfeed_dict\u001b[0m\u001b[0;34m,\u001b[0m \u001b[0mfetch_list\u001b[0m\u001b[0;34m,\u001b[0m \u001b[0mtarget_list\u001b[0m\u001b[0;34m,\u001b[0m\u001b[0;34m\u001b[0m\u001b[0m\n\u001b[0;32m-> 1121\u001b[0;31m                                  status, run_metadata)\n\u001b[0m\u001b[1;32m   1122\u001b[0m \u001b[0;34m\u001b[0m\u001b[0m\n\u001b[1;32m   1123\u001b[0m     \u001b[0;32mdef\u001b[0m \u001b[0m_prun_fn\u001b[0m\u001b[0;34m(\u001b[0m\u001b[0msession\u001b[0m\u001b[0;34m,\u001b[0m \u001b[0mhandle\u001b[0m\u001b[0;34m,\u001b[0m \u001b[0mfeed_dict\u001b[0m\u001b[0;34m,\u001b[0m \u001b[0mfetch_list\u001b[0m\u001b[0;34m)\u001b[0m\u001b[0;34m:\u001b[0m\u001b[0;34m\u001b[0m\u001b[0m\n",
      "\u001b[0;31mKeyboardInterrupt\u001b[0m: "
     ]
    }
   ],
   "source": [
    "model.set_weights(initial_weights)\n",
    "metrics = Metrics(FOURTH_MOD_DIR + \"none\")\n",
    "model.fit(x_train, y_train,\n",
    "          batch_size=128,\n",
    "          epochs=20,\n",
    "          class_weight = {0. : 1, 1. : 1000},\n",
    "validation_data=[x_test, y_test],\n",
    "         callbacks = [metrics])"
   ]
  }
 ],
 "metadata": {
  "kernelspec": {
   "display_name": "Python 2",
   "language": "python",
   "name": "python2"
  },
  "language_info": {
   "codemirror_mode": {
    "name": "ipython",
    "version": 2
   },
   "file_extension": ".py",
   "mimetype": "text/x-python",
   "name": "python",
   "nbconvert_exporter": "python",
   "pygments_lexer": "ipython2",
   "version": "2.7.13"
  }
 },
 "nbformat": 4,
 "nbformat_minor": 2
}
