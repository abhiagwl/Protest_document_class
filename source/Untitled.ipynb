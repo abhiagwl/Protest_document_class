{
 "cells": [
  {
   "cell_type": "code",
   "execution_count": 40,
   "metadata": {},
   "outputs": [],
   "source": [
    "\n",
    "from __future__ import print_function\n",
    "import numpy as np\n",
    "import pandas as pd\n",
    "from keras.preprocessing import sequence\n",
    "from keras.models import Sequential\n",
    "from keras.layers import Dense, Dropout, Embedding, LSTM, Bidirectional\n",
    "from keras.datasets import imdb\n",
    "import keras\n",
    "from keras.utils import to_categorical\n",
    "from sklearn.metrics import f1_score\n",
    "\n",
    "\n",
    "\n",
    "BASE_DIR = ''\n",
    "GLOVE_DIR = '/home/abhinav/data/GLOVE_DATA/glove.6B'\n",
    "TEXT_DATA_DIR = '/home/abhinav/data/full_text'\n",
    "THIRD_MOD_DIR = \"/home/abhinav/data/third_model/\"\n",
    "SECOND_MOD_DIR = \"/home/abhinav/data/second_model/\"\n",
    "MAX_SEQUENCE_LENGTH = 1000\n",
    "MAX_NB_WORDS = 50000\n",
    "EMBEDDING_DIM = 50\n",
    "FOURTH_MOD_DIR = \"/home/abhinav/data/fourth_model/\""
   ]
  },
  {
   "cell_type": "code",
   "execution_count": null,
   "metadata": {
    "scrolled": true
   },
   "outputs": [],
   "source": [
    "print('Loading data...')\n",
    "[x_train, y_train] = pd.read_pickle(FOURTH_MOD_DIR + \"train_data_10ratio\") \n",
    "print(x_train.shape, 'train sequences')\n",
    "print(y_train.shape, 'test sequences')\n",
    "\n",
    "[x_test, y_test] = pd.read_pickle(FOURTH_MOD_DIR + \"test_dataset\") \n",
    "\n",
    "[x_val, y_val ] = pd.read_pickle(FOURTH_MOD_DIR + \"validation_dataset\")"
   ]
  },
  {
   "cell_type": "code",
   "execution_count": 20,
   "metadata": {
    "collapsed": true
   },
   "outputs": [],
   "source": [
    "[x_val_pos, y_val_pos] = pd.read_pickle(SECOND_MOD_DIR + \"val_positive_data\")\n",
    "[x_val_neg, y_val_neg] = pd.read_pickle(SECOND_MOD_DIR + \"val_negative_data\")"
   ]
  },
  {
   "cell_type": "code",
   "execution_count": null,
   "metadata": {},
   "outputs": [],
   "source": [
    "[x_train_pos, y_train_pos] = pd.read_pickle(FOURTH_MOD_DIR + \"train_positive_data\")"
   ]
  },
  {
   "cell_type": "code",
   "execution_count": 6,
   "metadata": {
    "collapsed": true
   },
   "outputs": [],
   "source": [
    "num_words = MAX_NB_WORDS"
   ]
  },
  {
   "cell_type": "code",
   "execution_count": 33,
   "metadata": {},
   "outputs": [],
   "source": [
    "class Metrics(keras.callbacks.Callback):\n",
    "    def __init__(self,filepath):\n",
    "        self.filepath = filepath\n",
    "        self.best = -np.Inf\n",
    "    def on_epoch_end(self, epoch,batch, logs={}):\n",
    "        predict = to_categorical(self.model.predict_classes(self.validation_data[0],batch_size = 512))\n",
    "        targ = self.validation_data[1]\n",
    "        self.f1s=f1(targ, predict)\n",
    "        \"\"\"if self.f1s > self.best:\n",
    "            self.best = self.f1s\n",
    "            print('Epoch %05d: improved f1 to %0.5f,'\n",
    "                                  ' saving model to %s'\n",
    "                                  % (epoch, self.best, self.filepath))\n",
    "            self.model.save(self.filepath,overwrite =True)\"\"\"\n",
    "        print (\"Weighted F1 score found on Validation dataset : \" ,self.f1s)\n",
    "        return\n",
    "\n",
    "from sklearn.metrics import precision_recall_fscore_support\n",
    "def f1(y_true, y_pred):\n",
    "    return precision_recall_fscore_support(y_true = y_true, y_pred = y_pred)\n",
    "ndm = keras.optimizers.Nadam(lr = 0.001)    "
   ]
  },
  {
   "cell_type": "code",
   "execution_count": 49,
   "metadata": {
    "collapsed": true
   },
   "outputs": [],
   "source": [
    "model = Sequential()\n",
    "model.add(Embedding(num_words, EMBEDDING_DIM, input_length=MAX_SEQUENCE_LENGTH))\n",
    "model.add(Bidirectional(LSTM(64)))\n",
    "model.add(Dropout(0.5))\n",
    "model.add(Dense(2, activation='softmax'))\n"
   ]
  },
  {
   "cell_type": "code",
   "execution_count": 50,
   "metadata": {},
   "outputs": [],
   "source": [
    "model.compile(optimizer=ndm, loss='binary_crossentropy', metrics=['acc'])"
   ]
  },
  {
   "cell_type": "code",
   "execution_count": 51,
   "metadata": {
    "collapsed": true
   },
   "outputs": [],
   "source": [
    "initial_weights = model.get_weights()"
   ]
  },
  {
   "cell_type": "code",
   "execution_count": 46,
   "metadata": {
    "collapsed": true
   },
   "outputs": [],
   "source": [
    "model.set_weights(initial_weights)"
   ]
  },
  {
   "cell_type": "code",
   "execution_count": 52,
   "metadata": {
    "scrolled": false
   },
   "outputs": [
    {
     "name": "stdout",
     "output_type": "stream",
     "text": [
      "Train...\n",
      "Train on 13150 samples, validate on 15165 samples\n",
      "Epoch 1/4\n",
      "15165/15165 [==============================] - 156s   \n",
      "Weighted F1 score found on Validation dataset :  (array([ 0.99438639,  0.02788622]), array([ 0.7676    ,  0.60606061]), array([ 0.86639828,  0.05331911]), array([15000,   165]))\n",
      "13150/13150 [==============================] - 739s - loss: 1.0568 - acc: 0.7494 - val_loss: 0.4697 - val_acc: 0.7658\n",
      "Epoch 2/4\n",
      "15165/15165 [==============================] - 157s   \n",
      "Weighted F1 score found on Validation dataset :  (array([ 0.99127847,  0.05431755]), array([ 0.95473333,  0.23636364]), array([ 0.97266275,  0.08833522]), array([15000,   165]))\n",
      "13150/13150 [==============================] - 737s - loss: 0.7428 - acc: 0.7949 - val_loss: 0.2366 - val_acc: 0.9469\n",
      "Epoch 3/4\n",
      "15165/15165 [==============================] - 156s   \n",
      "Weighted F1 score found on Validation dataset :  (array([ 0.99466746,  0.05592303]), array([ 0.89533333,  0.56363636]), array([ 0.94239001,  0.10175055]), array([15000,   165]))\n",
      "13150/13150 [==============================] - 731s - loss: 0.4678 - acc: 0.9012 - val_loss: 0.2788 - val_acc: 0.8917\n",
      "Epoch 4/4\n",
      "15165/15165 [==============================] - 155s   \n",
      "Weighted F1 score found on Validation dataset :  (array([ 0.99279629,  0.08379121]), array([ 0.95553333,  0.36969697]), array([ 0.97380847,  0.13661814]), array([15000,   165]))\n",
      "13150/13150 [==============================] - 732s - loss: 0.2127 - acc: 0.9586 - val_loss: 0.1472 - val_acc: 0.9492\n"
     ]
    },
    {
     "data": {
      "text/plain": [
       "<keras.callbacks.History at 0x7f234a24f1d0>"
      ]
     },
     "execution_count": 52,
     "metadata": {},
     "output_type": "execute_result"
    }
   ],
   "source": [
    "print('Train...')\n",
    "metrics = Metrics(FOURTH_MOD_DIR + \"none\")\n",
    "model.fit(x_train, y_train,\n",
    "          batch_size=128,\n",
    "          epochs=4,\n",
    "          class_weight = {0. : 1, 1. : 8},\n",
    "validation_data=[x_test, y_test],\n",
    "         callbacks = [metrics])"
   ]
  },
  {
   "cell_type": "code",
   "execution_count": 19,
   "metadata": {},
   "outputs": [
    {
     "name": "stdout",
     "output_type": "stream",
     "text": [
      "15000/15000 [==============================] - 167s   \n"
     ]
    },
    {
     "data": {
      "text/plain": [
       "[0.38012623756726582, 0.82513333349227902]"
      ]
     },
     "execution_count": 19,
     "metadata": {},
     "output_type": "execute_result"
    }
   ],
   "source": [
    "model.evaluate(x_test[:-175],y_test[:-175],batch_size=512)"
   ]
  },
  {
   "cell_type": "code",
   "execution_count": 21,
   "metadata": {},
   "outputs": [
    {
     "name": "stdout",
     "output_type": "stream",
     "text": [
      "350/350 [==============================] - 4s\n"
     ]
    },
    {
     "data": {
      "text/plain": [
       "[0.84063678979873657, 0.51714283227920532]"
      ]
     },
     "execution_count": 21,
     "metadata": {},
     "output_type": "execute_result"
    }
   ],
   "source": [
    "model.evaluate(x_val_pos,y_val_pos,batch_size=512)"
   ]
  },
  {
   "cell_type": "code",
   "execution_count": 22,
   "metadata": {},
   "outputs": [
    {
     "name": "stdout",
     "output_type": "stream",
     "text": [
      "30000/30000 [==============================] - 337s   \n"
     ]
    },
    {
     "data": {
      "text/plain": [
       "[0.37901017692883809, 0.82436666666666669]"
      ]
     },
     "execution_count": 22,
     "metadata": {},
     "output_type": "execute_result"
    }
   ],
   "source": [
    "model.evaluate(x_val_neg,y_val_neg,batch_size=512)"
   ]
  },
  {
   "cell_type": "code",
   "execution_count": 24,
   "metadata": {},
   "outputs": [
    {
     "name": "stdout",
     "output_type": "stream",
     "text": [
      "1228/1228 [==============================] - 13s    \n"
     ]
    },
    {
     "data": {
      "text/plain": [
       "[0.20455269632005535, 0.96416937664199731]"
      ]
     },
     "execution_count": 24,
     "metadata": {},
     "output_type": "execute_result"
    }
   ],
   "source": [
    "model.evaluate(x_train_pos,y_train_pos,batch_size=512)"
   ]
  },
  {
   "cell_type": "code",
   "execution_count": null,
   "metadata": {
    "collapsed": true
   },
   "outputs": [],
   "source": [
    "+"
   ]
  }
 ],
 "metadata": {
  "kernelspec": {
   "display_name": "Python 2",
   "language": "python",
   "name": "python2"
  },
  "language_info": {
   "codemirror_mode": {
    "name": "ipython",
    "version": 2
   },
   "file_extension": ".py",
   "mimetype": "text/x-python",
   "name": "python",
   "nbconvert_exporter": "python",
   "pygments_lexer": "ipython2",
   "version": "2.7.13"
  }
 },
 "nbformat": 4,
 "nbformat_minor": 2
}
