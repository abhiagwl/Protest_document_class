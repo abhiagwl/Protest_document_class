{
 "cells": [
  {
   "cell_type": "code",
   "execution_count": 1,
   "metadata": {
    "scrolled": true
   },
   "outputs": [
    {
     "name": "stderr",
     "output_type": "stream",
     "text": [
      "Using TensorFlow backend.\n"
     ]
    },
    {
     "name": "stdout",
     "output_type": "stream",
     "text": [
      "Loading data...\n",
      "(13150, 1000) train sequences\n",
      "(13150, 2) test sequences\n"
     ]
    }
   ],
   "source": [
    "from __future__ import print_function\n",
    "import numpy as np\n",
    "import pandas as pd\n",
    "from keras.preprocessing import sequence\n",
    "from keras.datasets import imdb\n",
    "import keras\n",
    "from keras.utils import to_categorical\n",
    "from sklearn.metrics import f1_score\n",
    "\n",
    "BASE_DIR = ''\n",
    "GLOVE_DIR = '/home/abhinav/data/GLOVE_DATA/glove.6B'\n",
    "TEXT_DATA_DIR = '/home/abhinav/data/full_text'\n",
    "THIRD_MOD_DIR = \"/home/abhinav/data/third_model/\"\n",
    "SECOND_MOD_DIR = \"/home/abhinav/data/second_model/\"\n",
    "MAX_SEQUENCE_LENGTH = 1000\n",
    "MAX_NB_WORDS = 50000\n",
    "EMBEDDING_DIM = 200\n",
    "FOURTH_MOD_DIR = \"/home/abhinav/data/fourth_model/\"\n",
    "\n",
    "print('Loading data...')\n",
    "[x_train, y_train] = pd.read_pickle(FOURTH_MOD_DIR + \"train_data_10ratio\") \n",
    "\n",
    "[x_test, y_test] = pd.read_pickle(FOURTH_MOD_DIR + \"test_dataset\") \n",
    "\n",
    "[x_val, y_val ] = pd.read_pickle(FOURTH_MOD_DIR + \"validation_dataset\")\n",
    "\n",
    "from keras.layers import Embedding\n",
    "from keras.layers import Dense, Input, Flatten\n",
    "from keras.layers import Conv1D,merge, MaxPooling1D, Embedding,Merge,  Dropout\n",
    "from keras.models import Model\n",
    "from keras.models import Sequential\n",
    "from keras.layers.merge import Add,Concatenate,Dot\n",
    "\n",
    "num_words = MAX_NB_WORDS\n",
    "\n",
    "embedding_matrix = pd.read_pickle(\"/home/abhinav/data/fourth_model/embedding_matrix_for_selected_words\")"
   ]
  },
  {
   "cell_type": "code",
   "execution_count": null,
   "metadata": {
    "collapsed": true
   },
   "outputs": [],
   "source": [
    "class Metrics(keras.callbacks.Callback):\n",
    "    def __init__(self,filepath):\n",
    "        self.filepath = filepath\n",
    "        self.best = -np.Inf\n",
    "    def on_epoch_end(self, epoch,batch, logs={}):\n",
    "        predict = self.model.predict(self.validation_data[0],batch_size = 512)\n",
    "        predict = prob_to_label(predict)\n",
    "        targ = self.validation_data[1]\n",
    "        self.f1s=f1(targ, predict)\n",
    "        \"\"\"if self.f1s > self.best:\n",
    "            self.best = self.f1s\n",
    "            print('Epoch %05d: improved f1 to %0.5f,'\n",
    "                                  ' saving model to %s'\n",
    "                                  % (epoch, self.best, self.filepath))\n",
    "            self.model.save(self.filepath,overwrite =True)\"\"\"\n",
    "        print (\"\\nWeighted F1 score found on Validation dataset : \" ,self.f1s)\n",
    "        return\n",
    "\n",
    "from sklearn.metrics import precision_recall_fscore_support\n",
    "def f1(y_true, y_pred):\n",
    "    return precision_recall_fscore_support(y_true = y_true, y_pred = y_pred)\n",
    "ndm = keras.optimizers.Nadam(lr = 0.001)    \n",
    "\n",
    "def prob_to_label(array):\n",
    "    for a in array:\n",
    "        if a[0] > a[1] :\n",
    "            a[0] = 1\n",
    "            a[1] = 0\n",
    "        elif a[0] < a[1]:\n",
    "            a[0] = 0\n",
    "            a[1] = 1\n",
    "        else:\n",
    "            ind = np.random.randint(2)\n",
    "            a[ind]= 1\n",
    "            a[int(1-ind)] = 0\n",
    "    return array"
   ]
  },
  {
   "cell_type": "code",
   "execution_count": 4,
   "metadata": {
    "scrolled": true
   },
   "outputs": [
    {
     "name": "stdout",
     "output_type": "stream",
     "text": [
      "____________________________________________________________________________________________________\n",
      "Layer (type)                     Output Shape          Param #     Connected to                     \n",
      "====================================================================================================\n",
      "input_2 (InputLayer)             (None, 1000)          0                                            \n",
      "____________________________________________________________________________________________________\n",
      "embedding_2 (Embedding)          (None, 1000, 200)     10000000    input_2[0][0]                    \n",
      "____________________________________________________________________________________________________\n",
      "conv1d_5 (Conv1D)                (None, 998, 32)       19232       embedding_2[0][0]                \n",
      "____________________________________________________________________________________________________\n",
      "conv1d_6 (Conv1D)                (None, 997, 32)       25632       embedding_2[0][0]                \n",
      "____________________________________________________________________________________________________\n",
      "conv1d_7 (Conv1D)                (None, 996, 32)       32032       embedding_2[0][0]                \n",
      "____________________________________________________________________________________________________\n",
      "max_pooling1d_5 (MaxPooling1D)   (None, 332, 32)       0           conv1d_5[0][0]                   \n",
      "____________________________________________________________________________________________________\n",
      "max_pooling1d_6 (MaxPooling1D)   (None, 249, 32)       0           conv1d_6[0][0]                   \n",
      "____________________________________________________________________________________________________\n",
      "max_pooling1d_7 (MaxPooling1D)   (None, 199, 32)       0           conv1d_7[0][0]                   \n",
      "____________________________________________________________________________________________________\n",
      "merge_2 (Merge)                  (None, 780, 32)       0           max_pooling1d_5[0][0]            \n",
      "                                                                   max_pooling1d_6[0][0]            \n",
      "                                                                   max_pooling1d_7[0][0]            \n",
      "____________________________________________________________________________________________________\n",
      "conv1d_8 (Conv1D)                (None, 776, 32)       5152        merge_2[0][0]                    \n",
      "____________________________________________________________________________________________________\n",
      "max_pooling1d_8 (MaxPooling1D)   (None, 77, 32)        0           conv1d_8[0][0]                   \n",
      "____________________________________________________________________________________________________\n",
      "flatten_2 (Flatten)              (None, 2464)          0           max_pooling1d_8[0][0]            \n",
      "____________________________________________________________________________________________________\n",
      "dense_3 (Dense)                  (None, 128)           315520      flatten_2[0][0]                  \n",
      "____________________________________________________________________________________________________\n",
      "dense_4 (Dense)                  (None, 2)             258         dense_3[0][0]                    \n",
      "====================================================================================================\n",
      "Total params: 10,397,826\n",
      "Trainable params: 10,397,826\n",
      "Non-trainable params: 0\n",
      "____________________________________________________________________________________________________\n"
     ]
    },
    {
     "name": "stderr",
     "output_type": "stream",
     "text": [
      "/home/abhinav/miniconda2/envs/tensorflow/lib/python2.7/site-packages/ipykernel_launcher.py:20: UserWarning: The `Merge` layer is deprecated and will be removed after 08/2017. Use instead layers from `keras.layers.merge`, e.g. `add`, `concatenate`, etc.\n"
     ]
    }
   ],
   "source": [
    "\n",
    "embedding_layer = Embedding(num_words,\n",
    "                            EMBEDDING_DIM,\n",
    "                            weights=[embedding_matrix],\n",
    "                            input_length=MAX_SEQUENCE_LENGTH,\n",
    "                            trainable=True)\n",
    "\n",
    "# applying a more complex convolutional approach\n",
    "convs = []\n",
    "filter_sizes = [3,4,5]\n",
    "\n",
    "sequence_input = Input(shape=(MAX_SEQUENCE_LENGTH,), dtype='int32')\n",
    "embedded_sequences = embedding_layer(sequence_input)\n",
    "\n",
    "for fsz in filter_sizes:\n",
    "    l_conv = Conv1D(filters=32,kernel_size=fsz,activation='relu')(embedded_sequences)\n",
    "    l_pool = MaxPooling1D(fsz)(l_conv)\n",
    "    convs.append(l_pool)\n",
    "    \n",
    "l_merge = Merge(mode='concat', concat_axis=1)(convs)\n",
    "l_cov1= Conv1D(32, 5, activation='relu')(l_merge)\n",
    "l_pool1 = MaxPooling1D(10)(l_cov1)\n",
    "l_flat = Flatten()(l_pool1)\n",
    "l_dense = Dense(128, activation='relu')(l_flat)\n",
    "preds = Dense(2, activation='softmax')(l_dense)\n",
    "\n",
    "\n",
    "model = Model(sequence_input, preds)\n",
    "\n",
    "model.summary()\n"
   ]
  },
  {
   "cell_type": "code",
   "execution_count": 5,
   "metadata": {
    "collapsed": true
   },
   "outputs": [],
   "source": [
    "model.compile(loss='binary_crossentropy',\n",
    "              optimizer=ndm,\n",
    "              metrics=['acc'])"
   ]
  },
  {
   "cell_type": "code",
   "execution_count": 6,
   "metadata": {
    "collapsed": true
   },
   "outputs": [],
   "source": [
    "initial_weights = model.get_weights()"
   ]
  },
  {
   "cell_type": "code",
   "execution_count": 7,
   "metadata": {
    "scrolled": true
   },
   "outputs": [
    {
     "name": "stdout",
     "output_type": "stream",
     "text": [
      "Train on 13150 samples, validate on 15165 samples\n",
      "Epoch 1/10\n",
      "13056/13150 [============================>.] - ETA: 1s - loss: 0.7501 - acc: 0.8683Weighted F1 score found on Validation dataset :  (array([ 0.99965956,  0.02549976]), array([ 0.58726667,  0.98181818]), array([ 0.73987905,  0.0497085 ]), array([15000,   165]))\n",
      "13150/13150 [==============================] - 330s - loss: 0.7495 - acc: 0.8684 - val_loss: 0.7727 - val_acc: 0.5916\n",
      "Epoch 2/10\n",
      "13056/13150 [============================>.] - ETA: 1s - loss: 0.3882 - acc: 0.8996Weighted F1 score found on Validation dataset :  (array([ 0.99829415,  0.08442331]), array([ 0.89733333,  0.86060606]), array([ 0.94512516,  0.15376286]), array([15000,   165]))\n",
      "13150/13150 [==============================] - 323s - loss: 0.3875 - acc: 0.9000 - val_loss: 0.2293 - val_acc: 0.8969\n",
      "Epoch 3/10\n",
      "13056/13150 [============================>.] - ETA: 1s - loss: 0.2222 - acc: 0.9411Weighted F1 score found on Validation dataset :  (array([ 0.99591639,  0.14783821]), array([ 0.95926667,  0.64242424]), array([ 0.97724803,  0.24036281]), array([15000,   165]))\n",
      "13150/13150 [==============================] - 321s - loss: 0.2219 - acc: 0.9411 - val_loss: 0.1088 - val_acc: 0.9558\n",
      "Epoch 4/10\n",
      "13056/13150 [============================>.] - ETA: 1s - loss: 0.1150 - acc: 0.9737Weighted F1 score found on Validation dataset :  (array([ 0.99510817,  0.14439324]), array([ 0.96286667,  0.56969697]), array([ 0.97872196,  0.23039216]), array([15000,   165]))\n",
      "13150/13150 [==============================] - 318s - loss: 0.1145 - acc: 0.9739 - val_loss: 0.1361 - val_acc: 0.9586\n",
      "Epoch 5/10\n",
      "13056/13150 [============================>.] - ETA: 1s - loss: 0.0869 - acc: 0.9813Weighted F1 score found on Validation dataset :  (array([ 0.995493 ,  0.1345895]), array([ 0.95713333,  0.60606061]), array([ 0.97593637,  0.22026432]), array([15000,   165]))\n",
      "13150/13150 [==============================] - 323s - loss: 0.0866 - acc: 0.9814 - val_loss: 0.1543 - val_acc: 0.9533\n",
      "Epoch 6/10\n",
      " 2048/13150 [===>..........................] - ETA: 153s - loss: 0.0427 - acc: 0.9917"
     ]
    },
    {
     "ename": "KeyboardInterrupt",
     "evalue": "",
     "output_type": "error",
     "traceback": [
      "\u001b[0;31m---------------------------------------------------------------------------\u001b[0m",
      "\u001b[0;31mKeyboardInterrupt\u001b[0m                         Traceback (most recent call last)",
      "\u001b[0;32m<ipython-input-7-e92ca927a660>\u001b[0m in \u001b[0;36m<module>\u001b[0;34m()\u001b[0m\n\u001b[1;32m      6\u001b[0m           \u001b[0mclass_weight\u001b[0m \u001b[0;34m=\u001b[0m \u001b[0;34m{\u001b[0m\u001b[0;36m0.\u001b[0m \u001b[0;34m:\u001b[0m \u001b[0;36m1\u001b[0m\u001b[0;34m,\u001b[0m \u001b[0;36m1.\u001b[0m \u001b[0;34m:\u001b[0m \u001b[0;36m5\u001b[0m\u001b[0;34m}\u001b[0m\u001b[0;34m,\u001b[0m\u001b[0;34m\u001b[0m\u001b[0m\n\u001b[1;32m      7\u001b[0m \u001b[0mvalidation_data\u001b[0m\u001b[0;34m=\u001b[0m\u001b[0;34m[\u001b[0m\u001b[0mx_test\u001b[0m\u001b[0;34m,\u001b[0m \u001b[0my_test\u001b[0m\u001b[0;34m]\u001b[0m\u001b[0;34m,\u001b[0m\u001b[0;34m\u001b[0m\u001b[0m\n\u001b[0;32m----> 8\u001b[0;31m          callbacks = [metrics])\n\u001b[0m",
      "\u001b[0;32m/home/abhinav/miniconda2/envs/tensorflow/lib/python2.7/site-packages/keras/engine/training.pyc\u001b[0m in \u001b[0;36mfit\u001b[0;34m(self, x, y, batch_size, epochs, verbose, callbacks, validation_split, validation_data, shuffle, class_weight, sample_weight, initial_epoch, **kwargs)\u001b[0m\n\u001b[1;32m   1505\u001b[0m                               \u001b[0mval_f\u001b[0m\u001b[0;34m=\u001b[0m\u001b[0mval_f\u001b[0m\u001b[0;34m,\u001b[0m \u001b[0mval_ins\u001b[0m\u001b[0;34m=\u001b[0m\u001b[0mval_ins\u001b[0m\u001b[0;34m,\u001b[0m \u001b[0mshuffle\u001b[0m\u001b[0;34m=\u001b[0m\u001b[0mshuffle\u001b[0m\u001b[0;34m,\u001b[0m\u001b[0;34m\u001b[0m\u001b[0m\n\u001b[1;32m   1506\u001b[0m                               \u001b[0mcallback_metrics\u001b[0m\u001b[0;34m=\u001b[0m\u001b[0mcallback_metrics\u001b[0m\u001b[0;34m,\u001b[0m\u001b[0;34m\u001b[0m\u001b[0m\n\u001b[0;32m-> 1507\u001b[0;31m                               initial_epoch=initial_epoch)\n\u001b[0m\u001b[1;32m   1508\u001b[0m \u001b[0;34m\u001b[0m\u001b[0m\n\u001b[1;32m   1509\u001b[0m     \u001b[0;32mdef\u001b[0m \u001b[0mevaluate\u001b[0m\u001b[0;34m(\u001b[0m\u001b[0mself\u001b[0m\u001b[0;34m,\u001b[0m \u001b[0mx\u001b[0m\u001b[0;34m,\u001b[0m \u001b[0my\u001b[0m\u001b[0;34m,\u001b[0m \u001b[0mbatch_size\u001b[0m\u001b[0;34m=\u001b[0m\u001b[0;36m32\u001b[0m\u001b[0;34m,\u001b[0m \u001b[0mverbose\u001b[0m\u001b[0;34m=\u001b[0m\u001b[0;36m1\u001b[0m\u001b[0;34m,\u001b[0m \u001b[0msample_weight\u001b[0m\u001b[0;34m=\u001b[0m\u001b[0mNone\u001b[0m\u001b[0;34m)\u001b[0m\u001b[0;34m:\u001b[0m\u001b[0;34m\u001b[0m\u001b[0m\n",
      "\u001b[0;32m/home/abhinav/miniconda2/envs/tensorflow/lib/python2.7/site-packages/keras/engine/training.pyc\u001b[0m in \u001b[0;36m_fit_loop\u001b[0;34m(self, f, ins, out_labels, batch_size, epochs, verbose, callbacks, val_f, val_ins, shuffle, callback_metrics, initial_epoch)\u001b[0m\n\u001b[1;32m   1154\u001b[0m                 \u001b[0mbatch_logs\u001b[0m\u001b[0;34m[\u001b[0m\u001b[0;34m'size'\u001b[0m\u001b[0;34m]\u001b[0m \u001b[0;34m=\u001b[0m \u001b[0mlen\u001b[0m\u001b[0;34m(\u001b[0m\u001b[0mbatch_ids\u001b[0m\u001b[0;34m)\u001b[0m\u001b[0;34m\u001b[0m\u001b[0m\n\u001b[1;32m   1155\u001b[0m                 \u001b[0mcallbacks\u001b[0m\u001b[0;34m.\u001b[0m\u001b[0mon_batch_begin\u001b[0m\u001b[0;34m(\u001b[0m\u001b[0mbatch_index\u001b[0m\u001b[0;34m,\u001b[0m \u001b[0mbatch_logs\u001b[0m\u001b[0;34m)\u001b[0m\u001b[0;34m\u001b[0m\u001b[0m\n\u001b[0;32m-> 1156\u001b[0;31m                 \u001b[0mouts\u001b[0m \u001b[0;34m=\u001b[0m \u001b[0mf\u001b[0m\u001b[0;34m(\u001b[0m\u001b[0mins_batch\u001b[0m\u001b[0;34m)\u001b[0m\u001b[0;34m\u001b[0m\u001b[0m\n\u001b[0m\u001b[1;32m   1157\u001b[0m                 \u001b[0;32mif\u001b[0m \u001b[0;32mnot\u001b[0m \u001b[0misinstance\u001b[0m\u001b[0;34m(\u001b[0m\u001b[0mouts\u001b[0m\u001b[0;34m,\u001b[0m \u001b[0mlist\u001b[0m\u001b[0;34m)\u001b[0m\u001b[0;34m:\u001b[0m\u001b[0;34m\u001b[0m\u001b[0m\n\u001b[1;32m   1158\u001b[0m                     \u001b[0mouts\u001b[0m \u001b[0;34m=\u001b[0m \u001b[0;34m[\u001b[0m\u001b[0mouts\u001b[0m\u001b[0;34m]\u001b[0m\u001b[0;34m\u001b[0m\u001b[0m\n",
      "\u001b[0;32m/home/abhinav/miniconda2/envs/tensorflow/lib/python2.7/site-packages/keras/backend/tensorflow_backend.pyc\u001b[0m in \u001b[0;36m__call__\u001b[0;34m(self, inputs)\u001b[0m\n\u001b[1;32m   2267\u001b[0m         updated = session.run(self.outputs + [self.updates_op],\n\u001b[1;32m   2268\u001b[0m                               \u001b[0mfeed_dict\u001b[0m\u001b[0;34m=\u001b[0m\u001b[0mfeed_dict\u001b[0m\u001b[0;34m,\u001b[0m\u001b[0;34m\u001b[0m\u001b[0m\n\u001b[0;32m-> 2269\u001b[0;31m                               **self.session_kwargs)\n\u001b[0m\u001b[1;32m   2270\u001b[0m         \u001b[0;32mreturn\u001b[0m \u001b[0mupdated\u001b[0m\u001b[0;34m[\u001b[0m\u001b[0;34m:\u001b[0m\u001b[0mlen\u001b[0m\u001b[0;34m(\u001b[0m\u001b[0mself\u001b[0m\u001b[0;34m.\u001b[0m\u001b[0moutputs\u001b[0m\u001b[0;34m)\u001b[0m\u001b[0;34m]\u001b[0m\u001b[0;34m\u001b[0m\u001b[0m\n\u001b[1;32m   2271\u001b[0m \u001b[0;34m\u001b[0m\u001b[0m\n",
      "\u001b[0;32m/home/abhinav/miniconda2/envs/tensorflow/lib/python2.7/site-packages/tensorflow/python/client/session.pyc\u001b[0m in \u001b[0;36mrun\u001b[0;34m(self, fetches, feed_dict, options, run_metadata)\u001b[0m\n\u001b[1;32m    787\u001b[0m     \u001b[0;32mtry\u001b[0m\u001b[0;34m:\u001b[0m\u001b[0;34m\u001b[0m\u001b[0m\n\u001b[1;32m    788\u001b[0m       result = self._run(None, fetches, feed_dict, options_ptr,\n\u001b[0;32m--> 789\u001b[0;31m                          run_metadata_ptr)\n\u001b[0m\u001b[1;32m    790\u001b[0m       \u001b[0;32mif\u001b[0m \u001b[0mrun_metadata\u001b[0m\u001b[0;34m:\u001b[0m\u001b[0;34m\u001b[0m\u001b[0m\n\u001b[1;32m    791\u001b[0m         \u001b[0mproto_data\u001b[0m \u001b[0;34m=\u001b[0m \u001b[0mtf_session\u001b[0m\u001b[0;34m.\u001b[0m\u001b[0mTF_GetBuffer\u001b[0m\u001b[0;34m(\u001b[0m\u001b[0mrun_metadata_ptr\u001b[0m\u001b[0;34m)\u001b[0m\u001b[0;34m\u001b[0m\u001b[0m\n",
      "\u001b[0;32m/home/abhinav/miniconda2/envs/tensorflow/lib/python2.7/site-packages/tensorflow/python/client/session.pyc\u001b[0m in \u001b[0;36m_run\u001b[0;34m(self, handle, fetches, feed_dict, options, run_metadata)\u001b[0m\n\u001b[1;32m    995\u001b[0m     \u001b[0;32mif\u001b[0m \u001b[0mfinal_fetches\u001b[0m \u001b[0;32mor\u001b[0m \u001b[0mfinal_targets\u001b[0m\u001b[0;34m:\u001b[0m\u001b[0;34m\u001b[0m\u001b[0m\n\u001b[1;32m    996\u001b[0m       results = self._do_run(handle, final_targets, final_fetches,\n\u001b[0;32m--> 997\u001b[0;31m                              feed_dict_string, options, run_metadata)\n\u001b[0m\u001b[1;32m    998\u001b[0m     \u001b[0;32melse\u001b[0m\u001b[0;34m:\u001b[0m\u001b[0;34m\u001b[0m\u001b[0m\n\u001b[1;32m    999\u001b[0m       \u001b[0mresults\u001b[0m \u001b[0;34m=\u001b[0m \u001b[0;34m[\u001b[0m\u001b[0;34m]\u001b[0m\u001b[0;34m\u001b[0m\u001b[0m\n",
      "\u001b[0;32m/home/abhinav/miniconda2/envs/tensorflow/lib/python2.7/site-packages/tensorflow/python/client/session.pyc\u001b[0m in \u001b[0;36m_do_run\u001b[0;34m(self, handle, target_list, fetch_list, feed_dict, options, run_metadata)\u001b[0m\n\u001b[1;32m   1130\u001b[0m     \u001b[0;32mif\u001b[0m \u001b[0mhandle\u001b[0m \u001b[0;32mis\u001b[0m \u001b[0mNone\u001b[0m\u001b[0;34m:\u001b[0m\u001b[0;34m\u001b[0m\u001b[0m\n\u001b[1;32m   1131\u001b[0m       return self._do_call(_run_fn, self._session, feed_dict, fetch_list,\n\u001b[0;32m-> 1132\u001b[0;31m                            target_list, options, run_metadata)\n\u001b[0m\u001b[1;32m   1133\u001b[0m     \u001b[0;32melse\u001b[0m\u001b[0;34m:\u001b[0m\u001b[0;34m\u001b[0m\u001b[0m\n\u001b[1;32m   1134\u001b[0m       return self._do_call(_prun_fn, self._session, handle, feed_dict,\n",
      "\u001b[0;32m/home/abhinav/miniconda2/envs/tensorflow/lib/python2.7/site-packages/tensorflow/python/client/session.pyc\u001b[0m in \u001b[0;36m_do_call\u001b[0;34m(self, fn, *args)\u001b[0m\n\u001b[1;32m   1137\u001b[0m   \u001b[0;32mdef\u001b[0m \u001b[0m_do_call\u001b[0m\u001b[0;34m(\u001b[0m\u001b[0mself\u001b[0m\u001b[0;34m,\u001b[0m \u001b[0mfn\u001b[0m\u001b[0;34m,\u001b[0m \u001b[0;34m*\u001b[0m\u001b[0margs\u001b[0m\u001b[0;34m)\u001b[0m\u001b[0;34m:\u001b[0m\u001b[0;34m\u001b[0m\u001b[0m\n\u001b[1;32m   1138\u001b[0m     \u001b[0;32mtry\u001b[0m\u001b[0;34m:\u001b[0m\u001b[0;34m\u001b[0m\u001b[0m\n\u001b[0;32m-> 1139\u001b[0;31m       \u001b[0;32mreturn\u001b[0m \u001b[0mfn\u001b[0m\u001b[0;34m(\u001b[0m\u001b[0;34m*\u001b[0m\u001b[0margs\u001b[0m\u001b[0;34m)\u001b[0m\u001b[0;34m\u001b[0m\u001b[0m\n\u001b[0m\u001b[1;32m   1140\u001b[0m     \u001b[0;32mexcept\u001b[0m \u001b[0merrors\u001b[0m\u001b[0;34m.\u001b[0m\u001b[0mOpError\u001b[0m \u001b[0;32mas\u001b[0m \u001b[0me\u001b[0m\u001b[0;34m:\u001b[0m\u001b[0;34m\u001b[0m\u001b[0m\n\u001b[1;32m   1141\u001b[0m       \u001b[0mmessage\u001b[0m \u001b[0;34m=\u001b[0m \u001b[0mcompat\u001b[0m\u001b[0;34m.\u001b[0m\u001b[0mas_text\u001b[0m\u001b[0;34m(\u001b[0m\u001b[0me\u001b[0m\u001b[0;34m.\u001b[0m\u001b[0mmessage\u001b[0m\u001b[0;34m)\u001b[0m\u001b[0;34m\u001b[0m\u001b[0m\n",
      "\u001b[0;32m/home/abhinav/miniconda2/envs/tensorflow/lib/python2.7/site-packages/tensorflow/python/client/session.pyc\u001b[0m in \u001b[0;36m_run_fn\u001b[0;34m(session, feed_dict, fetch_list, target_list, options, run_metadata)\u001b[0m\n\u001b[1;32m   1119\u001b[0m         return tf_session.TF_Run(session, options,\n\u001b[1;32m   1120\u001b[0m                                  \u001b[0mfeed_dict\u001b[0m\u001b[0;34m,\u001b[0m \u001b[0mfetch_list\u001b[0m\u001b[0;34m,\u001b[0m \u001b[0mtarget_list\u001b[0m\u001b[0;34m,\u001b[0m\u001b[0;34m\u001b[0m\u001b[0m\n\u001b[0;32m-> 1121\u001b[0;31m                                  status, run_metadata)\n\u001b[0m\u001b[1;32m   1122\u001b[0m \u001b[0;34m\u001b[0m\u001b[0m\n\u001b[1;32m   1123\u001b[0m     \u001b[0;32mdef\u001b[0m \u001b[0m_prun_fn\u001b[0m\u001b[0;34m(\u001b[0m\u001b[0msession\u001b[0m\u001b[0;34m,\u001b[0m \u001b[0mhandle\u001b[0m\u001b[0;34m,\u001b[0m \u001b[0mfeed_dict\u001b[0m\u001b[0;34m,\u001b[0m \u001b[0mfetch_list\u001b[0m\u001b[0;34m)\u001b[0m\u001b[0;34m:\u001b[0m\u001b[0;34m\u001b[0m\u001b[0m\n",
      "\u001b[0;31mKeyboardInterrupt\u001b[0m: "
     ]
    }
   ],
   "source": [
    "model.set_weights(initial_weights)\n",
    "metrics = Metrics(FOURTH_MOD_DIR + \"none\")\n",
    "model.fit(x_train, y_train,\n",
    "          batch_size=128,\n",
    "          epochs=10,\n",
    "          class_weight = {0. : 1, 1. : 5},\n",
    "validation_data=[x_test, y_test],\n",
    "         callbacks = [metrics])"
   ]
  },
  {
   "cell_type": "code",
   "execution_count": 9,
   "metadata": {
    "scrolled": true
   },
   "outputs": [
    {
     "name": "stdout",
     "output_type": "stream",
     "text": [
      "Train on 13150 samples, validate on 15165 samples\n",
      "Epoch 1/6\n",
      "13056/13150 [============================>.] - ETA: 1s - loss: 0.9387 - acc: 0.8357Weighted F1 score found on Validation dataset :  (array([ 0.99763855,  0.08240397]), array([ 0.90126667,  0.80606061]), array([ 0.94700711,  0.1495222 ]), array([15000,   165]))\n",
      "13150/13150 [==============================] - 330s - loss: 0.9349 - acc: 0.8365 - val_loss: 0.2397 - val_acc: 0.9002\n",
      "Epoch 2/6\n",
      "13056/13150 [============================>.] - ETA: 1s - loss: 0.4866 - acc: 0.8754Weighted F1 score found on Validation dataset :  (array([ 0.9989042 ,  0.06320636]), array([ 0.8508    ,  0.91515152]), array([ 0.91892281,  0.11824589]), array([15000,   165]))\n",
      "13150/13150 [==============================] - 319s - loss: 0.4858 - acc: 0.8754 - val_loss: 0.3036 - val_acc: 0.8515\n",
      "Epoch 3/6\n",
      "13056/13150 [============================>.] - ETA: 1s - loss: 0.3338 - acc: 0.9149Weighted F1 score found on Validation dataset :  (array([ 0.99788937,  0.0954386 ]), array([ 0.91406667,  0.82424242]), array([ 0.95414057,  0.17106918]), array([15000,   165]))\n",
      "13150/13150 [==============================] - 319s - loss: 0.3335 - acc: 0.9151 - val_loss: 0.1961 - val_acc: 0.9131\n",
      "Epoch 4/6\n",
      "13056/13150 [============================>.] - ETA: 1s - loss: 0.2102 - acc: 0.9463Weighted F1 score found on Validation dataset :  (array([ 0.99611758,  0.14709852]), array([ 0.95786667,  0.66060606]), array([ 0.97661773,  0.2406181 ]), array([15000,   165]))\n",
      "13150/13150 [==============================] - 318s - loss: 0.2102 - acc: 0.9462 - val_loss: 0.1245 - val_acc: 0.9546\n",
      "Epoch 5/6\n",
      "13056/13150 [============================>.] - ETA: 1s - loss: 0.1419 - acc: 0.9668Weighted F1 score found on Validation dataset :  (array([ 0.99707352,  0.10735931]), array([ 0.93126667,  0.75151515]), array([ 0.96304723,  0.18787879]), array([15000,   165]))\n",
      "13150/13150 [==============================] - 319s - loss: 0.1417 - acc: 0.9670 - val_loss: 0.2062 - val_acc: 0.9293\n",
      "Epoch 6/6\n",
      "13056/13150 [============================>.] - ETA: 1s - loss: 0.0758 - acc: 0.9835Weighted F1 score found on Validation dataset :  (array([ 0.99527106,  0.16724739]), array([ 0.96813333,  0.58181818]), array([ 0.98151465,  0.25981055]), array([15000,   165]))\n",
      "13150/13150 [==============================] - 319s - loss: 0.0758 - acc: 0.9834 - val_loss: 0.1321 - val_acc: 0.9639\n"
     ]
    },
    {
     "data": {
      "text/plain": [
       "<keras.callbacks.History at 0x7f82f8ccaa50>"
      ]
     },
     "execution_count": 9,
     "metadata": {},
     "output_type": "execute_result"
    }
   ],
   "source": [
    "model.set_weights(initial_weights)\n",
    "metrics = Metrics(FOURTH_MOD_DIR + \"none\")\n",
    "model.fit(x_train, y_train,\n",
    "          batch_size=128,\n",
    "          epochs=6,\n",
    "          class_weight = {0. : 1, 1. : 8},\n",
    "validation_data=[x_test, y_test],\n",
    "         callbacks = [metrics])"
   ]
  },
  {
   "cell_type": "code",
   "execution_count": 11,
   "metadata": {
    "scrolled": true
   },
   "outputs": [
    {
     "name": "stdout",
     "output_type": "stream",
     "text": [
      "Train on 13150 samples, validate on 15165 samples\n",
      "Epoch 1/10\n",
      "13056/13150 [============================>.] - ETA: 1s - loss: 1.1616 - acc: 0.7096Weighted F1 score found on Validation dataset :  (array([ 0.99965334,  0.02488097]), array([ 0.57673333,  0.98181818]), array([ 0.73146191,  0.04853206]), array([15000,   165]))\n",
      "13150/13150 [==============================] - 331s - loss: 1.1615 - acc: 0.7107 - val_loss: 0.8659 - val_acc: 0.5811\n",
      "Epoch 2/10\n",
      "13056/13150 [============================>.] - ETA: 1s - loss: 0.5830 - acc: 0.8631Weighted F1 score found on Validation dataset :  (array([ 0.99840195,  0.07114625]), array([ 0.87466667,  0.87272727]), array([ 0.93244732,  0.13156693]), array([15000,   165]))\n",
      "13150/13150 [==============================] - 327s - loss: 0.5823 - acc: 0.8630 - val_loss: 0.3035 - val_acc: 0.8746\n",
      "Epoch 3/10\n",
      "13056/13150 [============================>.] - ETA: 1s - loss: 0.3795 - acc: 0.9072Weighted F1 score found on Validation dataset :  (array([ 0.9976442 ,  0.11408816]), array([ 0.93166667,  0.8       ]), array([ 0.9635273 ,  0.19969743]), array([15000,   165]))\n",
      "13150/13150 [==============================] - 328s - loss: 0.3797 - acc: 0.9068 - val_loss: 0.1738 - val_acc: 0.9302\n",
      "Epoch 4/10\n",
      "13056/13150 [============================>.] - ETA: 1s - loss: 0.2243 - acc: 0.9450Weighted F1 score found on Validation dataset :  (array([ 0.99731126,  0.12306202]), array([ 0.93966667,  0.76969697]), array([ 0.96763121,  0.21219716]), array([15000,   165]))\n",
      "13150/13150 [==============================] - 336s - loss: 0.2236 - acc: 0.9450 - val_loss: 0.1685 - val_acc: 0.9378\n",
      "Epoch 5/10\n",
      "13056/13150 [============================>.] - ETA: 1s - loss: 0.1249 - acc: 0.9705Weighted F1 score found on Validation dataset :  (array([ 0.99653115,  0.15312916]), array([ 0.9576   ,  0.6969697]), array([ 0.97667777,  0.2510917 ]), array([15000,   165]))\n",
      "13150/13150 [==============================] - 345s - loss: 0.1243 - acc: 0.9706 - val_loss: 0.1470 - val_acc: 0.9548\n",
      "Epoch 6/10\n",
      "13056/13150 [============================>.] - ETA: 1s - loss: 0.0637 - acc: 0.9857Weighted F1 score found on Validation dataset :  (array([ 0.99669573,  0.12539851]), array([ 0.94513333,  0.71515152]), array([ 0.97022995,  0.21338156]), array([15000,   165]))\n",
      "13150/13150 [==============================] - 481s - loss: 0.0639 - acc: 0.9858 - val_loss: 0.2071 - val_acc: 0.9426\n",
      "Epoch 7/10\n",
      "13056/13150 [============================>.] - ETA: 2s - loss: 0.0306 - acc: 0.9928Weighted F1 score found on Validation dataset :  (array([ 0.99594083,  0.16825397]), array([ 0.96506667,  0.64242424]), array([ 0.98026071,  0.26666667]), array([15000,   165]))\n",
      "13150/13150 [==============================] - 640s - loss: 0.0305 - acc: 0.9928 - val_loss: 0.1498 - val_acc: 0.9616\n",
      "Epoch 8/10\n",
      "13056/13150 [============================>.] - ETA: 2s - loss: 0.0114 - acc: 0.9979Weighted F1 score found on Validation dataset :  (array([ 0.99568818,  0.18411552]), array([ 0.96986667,  0.61818182]), array([ 0.98260781,  0.2837274 ]), array([15000,   165]))\n",
      "13150/13150 [==============================] - 660s - loss: 0.0113 - acc: 0.9979 - val_loss: 0.1594 - val_acc: 0.9660\n",
      "Epoch 9/10\n",
      "13056/13150 [============================>.] - ETA: 2s - loss: 0.0045 - acc: 0.9992Weighted F1 score found on Validation dataset :  (array([ 0.99568789,  0.18378378]), array([ 0.9698    ,  0.61818182]), array([ 0.98257345,  0.28333333]), array([15000,   165]))\n",
      "13150/13150 [==============================] - 673s - loss: 0.0045 - acc: 0.9992 - val_loss: 0.1702 - val_acc: 0.9660\n",
      "Epoch 10/10\n",
      "13056/13150 [============================>.] - ETA: 2s - loss: 0.0022 - acc: 0.9996Weighted F1 score found on Validation dataset :  (array([ 0.99569083,  0.18715596]), array([ 0.97046667,  0.61818182]), array([ 0.98291695,  0.28732394]), array([15000,   165]))\n",
      "13150/13150 [==============================] - 683s - loss: 0.0021 - acc: 0.9996 - val_loss: 0.1767 - val_acc: 0.9666\n"
     ]
    },
    {
     "data": {
      "text/plain": [
       "<keras.callbacks.History at 0x7f82ee57cf10>"
      ]
     },
     "execution_count": 11,
     "metadata": {},
     "output_type": "execute_result"
    }
   ],
   "source": [
    "model.set_weights(initial_weights)\n",
    "metrics = Metrics(FOURTH_MOD_DIR + \"none\")\n",
    "model.fit(x_train, y_train,\n",
    "          batch_size=128,\n",
    "          epochs=10,\n",
    "          class_weight = {0. : 1, 1. : 10},\n",
    "validation_data=[x_test, y_test],\n",
    "         callbacks = [metrics])"
   ]
  },
  {
   "cell_type": "code",
   "execution_count": 12,
   "metadata": {
    "scrolled": true
   },
   "outputs": [
    {
     "name": "stdout",
     "output_type": "stream",
     "text": [
      "Train on 13150 samples, validate on 15165 samples\n",
      "Epoch 1/10\n",
      "13056/13150 [============================>.] - ETA: 2s - loss: 1.0723 - acc: 0.6544Weighted F1 score found on Validation dataset :  (array([ 0.99920879,  0.04116095]), array([ 0.75773333,  0.94545455]), array([ 0.86187678,  0.07888748]), array([15000,   165]))\n",
      "13150/13150 [==============================] - 693s - loss: 1.0706 - acc: 0.6556 - val_loss: 0.5045 - val_acc: 0.7598\n",
      "Epoch 2/10\n",
      "13056/13150 [============================>.] - ETA: 2s - loss: 0.5928 - acc: 0.8454Weighted F1 score found on Validation dataset :  (array([ 0.9977246 ,  0.08695652]), array([ 0.9062    ,  0.81212121]), array([ 0.94976244,  0.15709261]), array([15000,   165]))\n",
      "13150/13150 [==============================] - 705s - loss: 0.5904 - acc: 0.8459 - val_loss: 0.2184 - val_acc: 0.9052\n",
      "Epoch 3/10\n",
      "13056/13150 [============================>.] - ETA: 2s - loss: 0.3668 - acc: 0.9136Weighted F1 score found on Validation dataset :  (array([ 0.99825824,  0.07244898]), array([ 0.8788    ,  0.86060606]), array([ 0.93472789,  0.13364706]), array([15000,   165]))\n",
      "13150/13150 [==============================] - 723s - loss: 0.3672 - acc: 0.9135 - val_loss: 0.3231 - val_acc: 0.8786\n",
      "Epoch 4/10\n",
      "13056/13150 [============================>.] - ETA: 2s - loss: 0.2208 - acc: 0.9458Weighted F1 score found on Validation dataset :  (array([ 0.99695273,  0.11574953]), array([ 0.93786667,  0.73939394]), array([ 0.96650751,  0.20016407]), array([15000,   165]))\n",
      "13150/13150 [==============================] - 713s - loss: 0.2201 - acc: 0.9461 - val_loss: 0.1834 - val_acc: 0.9357\n",
      "Epoch 5/10\n",
      "13056/13150 [============================>.] - ETA: 2s - loss: 0.1257 - acc: 0.9712Weighted F1 score found on Validation dataset :  (array([ 0.99696799,  0.12410987]), array([ 0.9426    ,  0.73939394]), array([ 0.969022  ,  0.21254355]), array([15000,   165]))\n",
      "13150/13150 [==============================] - 723s - loss: 0.1254 - acc: 0.9713 - val_loss: 0.1941 - val_acc: 0.9404\n",
      "Epoch 6/10\n",
      "13056/13150 [============================>.] - ETA: 2s - loss: 0.0786 - acc: 0.9821Weighted F1 score found on Validation dataset :  (array([ 0.99693863,  0.10902592]), array([ 0.93353333,  0.73939394]), array([ 0.96419473,  0.19003115]), array([15000,   165]))\n",
      "13150/13150 [==============================] - 582s - loss: 0.0791 - acc: 0.9821 - val_loss: 0.2769 - val_acc: 0.9314\n",
      "Epoch 7/10\n",
      "13056/13150 [============================>.] - ETA: 1s - loss: 0.0529 - acc: 0.9886Weighted F1 score found on Validation dataset :  (array([ 0.99623982,  0.1380597 ]), array([ 0.9538    ,  0.67272727]), array([ 0.97455809,  0.22910217]), array([15000,   165]))\n",
      "13150/13150 [==============================] - 392s - loss: 0.0528 - acc: 0.9886 - val_loss: 0.1761 - val_acc: 0.9507\n",
      "Epoch 8/10\n",
      "13056/13150 [============================>.] - ETA: 1s - loss: 0.0258 - acc: 0.9936Weighted F1 score found on Validation dataset :  (array([ 0.99653539,  0.11350294]), array([ 0.9396   ,  0.7030303]), array([ 0.96723055,  0.19545072]), array([15000,   165]))\n",
      "13150/13150 [==============================] - 392s - loss: 0.0266 - acc: 0.9936 - val_loss: 0.2877 - val_acc: 0.9370\n",
      "Epoch 9/10\n",
      "13056/13150 [============================>.] - ETA: 1s - loss: 0.0094 - acc: 0.9979Weighted F1 score found on Validation dataset :  (array([ 0.99474367,  0.17054264]), array([ 0.97146667,  0.53333333]), array([ 0.98296739,  0.25844347]), array([15000,   165]))\n",
      "13150/13150 [==============================] - 394s - loss: 0.0093 - acc: 0.9979 - val_loss: 0.1551 - val_acc: 0.9667\n",
      "Epoch 10/10\n",
      "13056/13150 [============================>.] - ETA: 1s - loss: 0.0026 - acc: 0.9994Weighted F1 score found on Validation dataset :  (array([ 0.99512864,  0.15932203]), array([ 0.96693333,  0.56969697]), array([ 0.9808284 ,  0.24900662]), array([15000,   165]))\n",
      "13150/13150 [==============================] - 386s - loss: 0.0026 - acc: 0.9994 - val_loss: 0.1965 - val_acc: 0.9626\n"
     ]
    },
    {
     "data": {
      "text/plain": [
       "<keras.callbacks.History at 0x7f82ee57c0d0>"
      ]
     },
     "execution_count": 12,
     "metadata": {},
     "output_type": "execute_result"
    }
   ],
   "source": [
    "model.set_weights(initial_weights)\n",
    "metrics = Metrics(FOURTH_MOD_DIR + \"none\")\n",
    "model.fit(x_train, y_train,\n",
    "          batch_size=128,\n",
    "          epochs=10,\n",
    "          class_weight = {0. : 1, 1. : 12},\n",
    "validation_data=[x_test, y_test],\n",
    "         callbacks = [metrics])"
   ]
  },
  {
   "cell_type": "code",
   "execution_count": 13,
   "metadata": {
    "scrolled": true
   },
   "outputs": [
    {
     "name": "stdout",
     "output_type": "stream",
     "text": [
      "Train on 13150 samples, validate on 15165 samples\n",
      "Epoch 1/10\n",
      "13056/13150 [============================>.] - ETA: 1s - loss: 1.1319 - acc: 0.5468Weighted F1 score found on Validation dataset :  (array([ 0.99893834,  0.05205479]), array([ 0.81546667,  0.92121212]), array([ 0.89792622,  0.09854133]), array([15000,   165]))\n",
      "13150/13150 [==============================] - 386s - loss: 1.1291 - acc: 0.5487 - val_loss: 0.4567 - val_acc: 0.8166\n",
      "Epoch 2/10\n",
      "13056/13150 [============================>.] - ETA: 1s - loss: 0.6045 - acc: 0.8559Weighted F1 score found on Validation dataset :  (array([ 0.99951607,  0.03310573]), array([ 0.68846667,  0.96969697]), array([ 0.81533239,  0.06402561]), array([15000,   165]))\n",
      "13150/13150 [==============================] - 383s - loss: 0.6083 - acc: 0.8558 - val_loss: 0.6672 - val_acc: 0.6915\n",
      "Epoch 3/10\n",
      "13056/13150 [============================>.] - ETA: 1s - loss: 0.3391 - acc: 0.9213Weighted F1 score found on Validation dataset :  (array([ 0.99722084,  0.11130742]), array([ 0.93293333,  0.76363636]), array([ 0.96400648,  0.19429453]), array([15000,   165]))\n",
      "13150/13150 [==============================] - 384s - loss: 0.3382 - acc: 0.9216 - val_loss: 0.2152 - val_acc: 0.9311\n",
      "Epoch 4/10\n",
      "13056/13150 [============================>.] - ETA: 1s - loss: 0.2137 - acc: 0.9534Weighted F1 score found on Validation dataset :  (array([ 0.99630379,  0.13559322]), array([ 0.9524    ,  0.67878788]), array([ 0.97385732,  0.22603431]), array([15000,   165]))\n",
      "13150/13150 [==============================] - 383s - loss: 0.2131 - acc: 0.9534 - val_loss: 0.1476 - val_acc: 0.9494\n",
      "Epoch 5/10\n",
      "13056/13150 [============================>.] - ETA: 1s - loss: 0.1156 - acc: 0.9784Weighted F1 score found on Validation dataset :  (array([ 0.9983669 ,  0.06244579]), array([ 0.85586667,  0.87272727]), array([ 0.92164112,  0.116552  ]), array([15000,   165]))\n",
      "13150/13150 [==============================] - 383s - loss: 0.1184 - acc: 0.9783 - val_loss: 0.5567 - val_acc: 0.8561\n",
      "Epoch 6/10\n",
      "13056/13150 [============================>.] - ETA: 1s - loss: 0.0737 - acc: 0.9867Weighted F1 score found on Validation dataset :  (array([ 0.99486055,  0.15734266]), array([ 0.96786667,  0.54545455]), array([ 0.98117798,  0.24423338]), array([15000,   165]))\n",
      "13150/13150 [==============================] - 390s - loss: 0.0739 - acc: 0.9868 - val_loss: 0.1598 - val_acc: 0.9633\n",
      "Epoch 7/10\n",
      "13056/13150 [============================>.] - ETA: 1s - loss: 0.0393 - acc: 0.9933Weighted F1 score found on Validation dataset :  (array([ 0.9951263 ,  0.15745394]), array([ 0.96646667,  0.56969697]), array([ 0.98058712,  0.24671916]), array([15000,   165]))\n",
      "13150/13150 [==============================] - 381s - loss: 0.0390 - acc: 0.9933 - val_loss: 0.1779 - val_acc: 0.9621\n",
      "Epoch 8/10\n",
      "13056/13150 [============================>.] - ETA: 1s - loss: 0.0211 - acc: 0.9964Weighted F1 score found on Validation dataset :  (array([ 0.99506274,  0.15979381]), array([ 0.9674    ,  0.56363636]), array([ 0.98103641,  0.24899598]), array([15000,   165]))\n",
      "13150/13150 [==============================] - 334s - loss: 0.0210 - acc: 0.9964 - val_loss: 0.1940 - val_acc: 0.9630\n",
      "Epoch 9/10\n",
      "13056/13150 [============================>.] - ETA: 1s - loss: 0.0112 - acc: 0.9986Weighted F1 score found on Validation dataset :  (array([ 0.99530711,  0.1437037 ]), array([ 0.96146667,  0.58787879]), array([ 0.97809427,  0.23095238]), array([15000,   165]))\n",
      "13150/13150 [==============================] - 327s - loss: 0.0112 - acc: 0.9986 - val_loss: 0.2386 - val_acc: 0.9574\n",
      "Epoch 10/10\n",
      "13056/13150 [============================>.] - ETA: 1s - loss: 0.0065 - acc: 0.9982Weighted F1 score found on Validation dataset :  (array([ 0.99485279,  0.15151515]), array([ 0.9664    ,  0.54545455]), array([ 0.98042001,  0.23715415]), array([15000,   165]))\n",
      "13150/13150 [==============================] - 327s - loss: 0.0065 - acc: 0.9983 - val_loss: 0.2305 - val_acc: 0.9618\n"
     ]
    },
    {
     "data": {
      "text/plain": [
       "<keras.callbacks.History at 0x7f82ee581a50>"
      ]
     },
     "execution_count": 13,
     "metadata": {},
     "output_type": "execute_result"
    }
   ],
   "source": [
    "model.set_weights(initial_weights)\n",
    "metrics = Metrics(FOURTH_MOD_DIR + \"none\")\n",
    "model.fit(x_train, y_train,\n",
    "          batch_size=128,\n",
    "          epochs=10,\n",
    "          class_weight = {0. : 1, 1. : 15},\n",
    "validation_data=[x_test, y_test],\n",
    "         callbacks = [metrics])"
   ]
  },
  {
   "cell_type": "code",
   "execution_count": null,
   "metadata": {
    "scrolled": true
   },
   "outputs": [
    {
     "name": "stdout",
     "output_type": "stream",
     "text": [
      "Train on 13150 samples, validate on 15165 samples\n",
      "Epoch 1/10\n",
      "13056/13150 [============================>.] - ETA: 1s - loss: 1.1890 - acc: 0.5556Weighted F1 score found on Validation dataset :  (array([ 0.99969117,  0.02971932]), array([ 0.6474    ,  0.98181818]), array([ 0.78587036,  0.05769231]), array([15000,   165]))\n",
      "13150/13150 [==============================] - 329s - loss: 1.1895 - acc: 0.5576 - val_loss: 0.8259 - val_acc: 0.6510\n",
      "Epoch 2/10\n",
      "13056/13150 [============================>.] - ETA: 1s - loss: 0.6226 - acc: 0.8569Weighted F1 score found on Validation dataset :  (array([ 0.99869562,  0.06941839]), array([ 0.86773333,  0.8969697 ]), array([ 0.92861984,  0.12886374]), array([15000,   165]))\n",
      "13150/13150 [==============================] - 327s - loss: 0.6208 - acc: 0.8569 - val_loss: 0.3388 - val_acc: 0.8681\n",
      "Epoch 3/10\n",
      "13056/13150 [============================>.] - ETA: 1s - loss: 0.2996 - acc: 0.9307Weighted F1 score found on Validation dataset :  (array([ 0.9978952 ,  0.09805335]), array([ 0.9166    ,  0.82424242]), array([ 0.95552158,  0.17525773]), array([15000,   165]))\n",
      "13150/13150 [==============================] - 320s - loss: 0.2989 - acc: 0.9308 - val_loss: 0.2507 - val_acc: 0.9156\n",
      "Epoch 4/10\n",
      "13056/13150 [============================>.] - ETA: 1s - loss: 0.1812 - acc: 0.9594Weighted F1 score found on Validation dataset :  (array([ 0.99599171,  0.15395683]), array([ 0.9608    ,  0.64848485]), array([ 0.9780794 ,  0.24883721]), array([15000,   165]))\n",
      "13150/13150 [==============================] - 338s - loss: 0.1809 - acc: 0.9594 - val_loss: 0.1472 - val_acc: 0.9574\n",
      "Epoch 5/10\n",
      "13056/13150 [============================>.] - ETA: 1s - loss: 0.1190 - acc: 0.9746Weighted F1 score found on Validation dataset :  (array([ 0.99670152,  0.12882096]), array([ 0.9468    ,  0.71515152]), array([ 0.97111012,  0.21831637]), array([15000,   165]))\n",
      "13150/13150 [==============================] - 349s - loss: 0.1189 - acc: 0.9745 - val_loss: 0.1996 - val_acc: 0.9443\n",
      "Epoch 6/10\n",
      "13056/13150 [============================>.] - ETA: 1s - loss: 0.0666 - acc: 0.9863Weighted F1 score found on Validation dataset :  (array([ 0.99579716,  0.15975422]), array([ 0.96353333,  0.63030303]), array([ 0.97939961,  0.25490196]), array([15000,   165]))\n",
      "13150/13150 [==============================] - 352s - loss: 0.0667 - acc: 0.9862 - val_loss: 0.1657 - val_acc: 0.9599\n",
      "Epoch 7/10\n",
      "13056/13150 [============================>.] - ETA: 1s - loss: 0.0334 - acc: 0.9930Weighted F1 score found on Validation dataset :  (array([ 0.99493532,  0.16425993]), array([ 0.96913333,  0.55151515]), array([ 0.98186485,  0.25312935]), array([15000,   165]))\n",
      "13150/13150 [==============================] - 353s - loss: 0.0333 - acc: 0.9931 - val_loss: 0.1570 - val_acc: 0.9646\n",
      "Epoch 8/10\n",
      "13056/13150 [============================>.] - ETA: 1s - loss: 0.0146 - acc: 0.9969Weighted F1 score found on Validation dataset :  (array([ 0.9943595 ,  0.18222222]), array([ 0.97546667,  0.4969697 ]), array([ 0.98482248,  0.26666667]), array([15000,   165]))\n",
      "13150/13150 [==============================] - 353s - loss: 0.0147 - acc: 0.9968 - val_loss: 0.1539 - val_acc: 0.9703\n",
      "Epoch 9/10\n",
      "13056/13150 [============================>.] - ETA: 1s - loss: 0.0057 - acc: 0.9987Weighted F1 score found on Validation dataset :  (array([ 0.99404238,  0.19543147]), array([ 0.97886667,  0.46666667]), array([ 0.98639616,  0.27549195]), array([15000,   165]))\n",
      "13150/13150 [==============================] - 353s - loss: 0.0057 - acc: 0.9987 - val_loss: 0.1537 - val_acc: 0.9733\n",
      "Epoch 10/10\n",
      "13056/13150 [============================>.] - ETA: 1s - loss: 0.0018 - acc: 0.9997Weighted F1 score found on Validation dataset :  (array([ 0.99472747,  0.15686275]), array([ 0.96846667,  0.53333333]), array([ 0.98142143,  0.24242424]), array([15000,   165]))\n",
      "13150/13150 [==============================] - 336s - loss: 0.0018 - acc: 0.9997 - val_loss: 0.2066 - val_acc: 0.9637\n"
     ]
    },
    {
     "data": {
      "text/plain": [
       "<keras.callbacks.History at 0x7f82ee57c150>"
      ]
     },
     "execution_count": 16,
     "metadata": {},
     "output_type": "execute_result"
    }
   ],
   "source": [
    "model.set_weights(initial_weights)\n",
    "metrics = Metrics(FOURTH_MOD_DIR + \"none\")\n",
    "model.fit(x_train, y_train,\n",
    "          batch_size=128,\n",
    "          epochs=10,\n",
    "          class_weight = {0. : 1, 1. : 20},\n",
    "validation_data=[x_test, y_test],\n",
    "         callbacks = [metrics])"
   ]
  },
  {
   "cell_type": "code",
   "execution_count": null,
   "metadata": {
    "scrolled": false
   },
   "outputs": [
    {
     "name": "stdout",
     "output_type": "stream",
     "text": [
      "Train on 13150 samples, validate on 15165 samples\n",
      "Epoch 1/10\n",
      "13056/13150 [============================>.] - ETA: 1s - loss: 1.3941 - acc: 0.5071Weighted F1 score found on Validation dataset :  (array([ 0.9995155 ,  0.03302374]), array([ 0.68766667,  0.96969697]), array([ 0.81477093,  0.06387226]), array([15000,   165]))\n",
      "13150/13150 [==============================] - 327s - loss: 1.3907 - acc: 0.5082 - val_loss: 0.7245 - val_acc: 0.6907\n",
      "Epoch 2/10\n",
      "13056/13150 [============================>.] - ETA: 1s - loss: 0.7494 - acc: 0.8304Weighted F1 score found on Validation dataset :  (array([ 0.99925299,  0.05004812]), array([ 0.8026    ,  0.94545455]), array([ 0.89019521,  0.09506399]), array([15000,   165]))\n",
      "13150/13150 [==============================] - 358s - loss: 0.7496 - acc: 0.8297 - val_loss: 0.4776 - val_acc: 0.8042\n",
      "Epoch 3/10\n",
      "13056/13150 [============================>.] - ETA: 1s - loss: 0.4263 - acc: 0.9074Weighted F1 score found on Validation dataset :  (array([ 0.99800133,  0.08333333]), array([ 0.8988    ,  0.83636364]), array([ 0.94580659,  0.15156507]), array([15000,   165]))\n",
      "13150/13150 [==============================] - 328s - loss: 0.4249 - acc: 0.9078 - val_loss: 0.2854 - val_acc: 0.8981\n",
      "Epoch 4/10\n",
      "10496/13150 [======================>.......] - ETA: 38s - loss: 0.2402 - acc: 0.9487"
     ]
    }
   ],
   "source": [
    "model.set_weights(initial_weights)\n",
    "metrics = Metrics(FOURTH_MOD_DIR + \"none\")\n",
    "model.fit(x_train, y_train,\n",
    "          batch_size=128,\n",
    "          epochs=10,\n",
    "          class_weight = {0. : 1, 1. : 30},\n",
    "validation_data=[x_test, y_test],\n",
    "         callbacks = [metrics])"
   ]
  },
  {
   "cell_type": "code",
   "execution_count": null,
   "metadata": {
    "collapsed": true
   },
   "outputs": [],
   "source": [
    "model.set_weights(initial_weights)\n",
    "metrics = Metrics(FOURTH_MOD_DIR + \"none\")\n",
    "model.fit(x_train, y_train,\n",
    "          batch_size=128,\n",
    "          epochs=10,\n",
    "          class_weight = {0. : 1, 1. : 50},\n",
    "validation_data=[x_test, y_test],\n",
    "         callbacks = [metrics])"
   ]
  },
  {
   "cell_type": "code",
   "execution_count": null,
   "metadata": {
    "collapsed": true
   },
   "outputs": [],
   "source": [
    "model.set_weights(initial_weights)\n",
    "metrics = Metrics(FOURTH_MOD_DIR + \"none\")\n",
    "model.fit(x_train, y_train,\n",
    "          batch_size=128,\n",
    "          epochs=15,\n",
    "          class_weight = {0. : 1, 1. : 75},\n",
    "validation_data=[x_test, y_test],\n",
    "         callbacks = [metrics])"
   ]
  },
  {
   "cell_type": "code",
   "execution_count": null,
   "metadata": {
    "collapsed": true
   },
   "outputs": [],
   "source": [
    "model.set_weights(initial_weights)\n",
    "metrics = Metrics(FOURTH_MOD_DIR + \"none\")\n",
    "model.fit(x_train, y_train,\n",
    "          batch_size=128,\n",
    "          epochs=20,\n",
    "          class_weight = {0. : 1, 1. : 100},\n",
    "validation_data=[x_test, y_test],\n",
    "         callbacks = [metrics])"
   ]
  },
  {
   "cell_type": "code",
   "execution_count": null,
   "metadata": {
    "collapsed": true
   },
   "outputs": [],
   "source": [
    "model.set_weights(initial_weights)\n",
    "metrics = Metrics(FOURTH_MOD_DIR + \"none\")\n",
    "model.fit(x_train, y_train,\n",
    "          batch_size=128,\n",
    "          epochs=20,\n",
    "          class_weight = {0. : 1, 1. : 125},\n",
    "validation_data=[x_test, y_test],\n",
    "         callbacks = [metrics])"
   ]
  },
  {
   "cell_type": "code",
   "execution_count": null,
   "metadata": {
    "collapsed": true
   },
   "outputs": [],
   "source": [
    "model.set_weights(initial_weights)\n",
    "metrics = Metrics(FOURTH_MOD_DIR + \"none\")\n",
    "model.fit(x_train, y_train,\n",
    "          batch_size=128,\n",
    "          epochs=20,\n",
    "          class_weight = {0. : 1, 1. : 150},\n",
    "validation_data=[x_test, y_test],\n",
    "         callbacks = [metrics])"
   ]
  },
  {
   "cell_type": "code",
   "execution_count": null,
   "metadata": {
    "collapsed": true
   },
   "outputs": [],
   "source": [
    "model.set_weights(initial_weights)\n",
    "metrics = Metrics(FOURTH_MOD_DIR + \"none\")\n",
    "model.fit(x_train, y_train,\n",
    "          batch_size=128,\n",
    "          epochs=20,\n",
    "          class_weight = {0. : 1, 1. : 200},\n",
    "validation_data=[x_test, y_test],\n",
    "         callbacks = [metrics])"
   ]
  },
  {
   "cell_type": "code",
   "execution_count": null,
   "metadata": {
    "collapsed": true
   },
   "outputs": [],
   "source": [
    "model.set_weights(initial_weights)\n",
    "metrics = Metrics(FOURTH_MOD_DIR + \"none\")\n",
    "model.fit(x_train, y_train,\n",
    "          batch_size=128,\n",
    "          epochs=20,\n",
    "          class_weight = {0. : 1, 1. : 500},\n",
    "validation_data=[x_test, y_test],\n",
    "         callbacks = [metrics])"
   ]
  },
  {
   "cell_type": "code",
   "execution_count": null,
   "metadata": {
    "collapsed": true
   },
   "outputs": [],
   "source": [
    "model.set_weights(initial_weights)\n",
    "metrics = Metrics(FOURTH_MOD_DIR + \"none\")\n",
    "model.fit(x_train, y_train,\n",
    "          batch_size=128,\n",
    "          epochs=20,\n",
    "          class_weight = {0. : 1, 1. : 1000},\n",
    "validation_data=[x_test, y_test],\n",
    "         callbacks = [metrics])"
   ]
  },
  {
   "cell_type": "code",
   "execution_count": null,
   "metadata": {
    "collapsed": true
   },
   "outputs": [],
   "source": [
    "model.set_weights(initial_weights)\n",
    "metrics = Metrics(FOURTH_MOD_DIR + \"none\")\n",
    "model.fit(x_train, y_train,\n",
    "          batch_size=128,\n",
    "          epochs=20,\n",
    "          class_weight = {0. : 1, 1. : 150},\n",
    "validation_data=[x_test, y_test],\n",
    "         callbacks = [metrics])"
   ]
  },
  {
   "cell_type": "code",
   "execution_count": null,
   "metadata": {
    "collapsed": true
   },
   "outputs": [],
   "source": [
    "model.set_weights(initial_weights)\n",
    "metrics = Metrics(FOURTH_MOD_DIR + \"none\")\n",
    "model.fit(x_train, y_train,\n",
    "          batch_size=128,\n",
    "          epochs=20,\n",
    "          class_weight = {0. : 1, 1. : 150},\n",
    "validation_data=[x_test, y_test],\n",
    "         callbacks = [metrics])"
   ]
  },
  {
   "cell_type": "code",
   "execution_count": null,
   "metadata": {
    "collapsed": true
   },
   "outputs": [],
   "source": [
    "model.set_weights(initial_weights)\n",
    "metrics = Metrics(FOURTH_MOD_DIR + \"none\")\n",
    "model.fit(x_train, y_train,\n",
    "          batch_size=128,\n",
    "          epochs=20,\n",
    "          class_weight = {0. : 1, 1. : 150},\n",
    "validation_data=[x_test, y_test],\n",
    "         callbacks = [metrics])"
   ]
  },
  {
   "cell_type": "code",
   "execution_count": null,
   "metadata": {
    "collapsed": true
   },
   "outputs": [],
   "source": [
    "model.set_weights(initial_weights)\n",
    "metrics = Metrics(FOURTH_MOD_DIR + \"none\")\n",
    "model.fit(x_train, y_train,\n",
    "          batch_size=128,\n",
    "          epochs=20,\n",
    "          class_weight = {0. : 1, 1. : 150},\n",
    "validation_data=[x_test, y_test],\n",
    "         callbacks = [metrics])"
   ]
  },
  {
   "cell_type": "code",
   "execution_count": 14,
   "metadata": {
    "scrolled": true
   },
   "outputs": [
    {
     "name": "stdout",
     "output_type": "stream",
     "text": [
      "Train on 13150 samples, validate on 15165 samples\n",
      "Epoch 1/10\n",
      "13120/13150 [============================>.] - ETA: 0s - loss: 0.6343 - acc: 0.8665Weighted F1 score found on Validation dataset :  (array([ 0.99868645,  0.0665767 ]), array([ 0.86166667,  0.8969697 ]), array([ 0.92513063,  0.1239531 ]), array([15000,   165]))\n",
      "13150/13150 [==============================] - 343s - loss: 0.6347 - acc: 0.8665 - val_loss: 0.2804 - val_acc: 0.8621\n",
      "Epoch 2/10\n",
      "13120/13150 [============================>.] - ETA: 0s - loss: 0.3380 - acc: 0.9132Weighted F1 score found on Validation dataset :  (array([ 0.99726658,  0.10055424]), array([ 0.92426667,  0.76969697]), array([ 0.95937997,  0.17787115]), array([15000,   165]))\n",
      "13150/13150 [==============================] - 344s - loss: 0.3374 - acc: 0.9134 - val_loss: 0.1784 - val_acc: 0.9226\n",
      "Epoch 3/10\n",
      "13120/13150 [============================>.] - ETA: 0s - loss: 0.1738 - acc: 0.9550Weighted F1 score found on Validation dataset :  (array([ 0.99734424,  0.10381184]), array([ 0.92633333,  0.77575758]), array([ 0.96052813,  0.18311874]), array([15000,   165]))\n",
      "13150/13150 [==============================] - 344s - loss: 0.1735 - acc: 0.9551 - val_loss: 0.1896 - val_acc: 0.9247\n",
      "Epoch 4/10\n",
      "13120/13150 [============================>.] - ETA: 0s - loss: 0.0700 - acc: 0.9836Weighted F1 score found on Validation dataset :  (array([ 0.99592541,  0.15474453]), array([ 0.9614    ,  0.64242424]), array([ 0.97835821,  0.24941176]), array([15000,   165]))\n",
      "13150/13150 [==============================] - 342s - loss: 0.0699 - acc: 0.9837 - val_loss: 0.1411 - val_acc: 0.9579\n",
      "Epoch 5/10\n",
      "13120/13150 [============================>.] - ETA: 0s - loss: 0.0278 - acc: 0.9938Weighted F1 score found on Validation dataset :  (array([ 0.9954717 ,  0.16779661]), array([ 0.96726667,  0.6       ]), array([ 0.98116653,  0.26225166]), array([15000,   165]))\n",
      "13150/13150 [==============================] - 343s - loss: 0.0279 - acc: 0.9938 - val_loss: 0.1258 - val_acc: 0.9633\n",
      "Epoch 6/10\n",
      "13120/13150 [============================>.] - ETA: 0s - loss: 0.0072 - acc: 0.9987Weighted F1 score found on Validation dataset :  (array([ 0.99432246,  0.15018315]), array([ 0.96906667,  0.4969697 ]), array([ 0.98153212,  0.23066104]), array([15000,   165]))\n",
      "13150/13150 [==============================] - 344s - loss: 0.0072 - acc: 0.9987 - val_loss: 0.1668 - val_acc: 0.9639\n",
      "Epoch 7/10\n",
      "13120/13150 [============================>.] - ETA: 0s - loss: 0.0017 - acc: 0.9998Weighted F1 score found on Validation dataset :  (array([ 0.99492525,  0.15608919]), array([ 0.9672    ,  0.55151515]), array([ 0.98086674,  0.24331551]), array([15000,   165]))\n",
      "13150/13150 [==============================] - 343s - loss: 0.0017 - acc: 0.9998 - val_loss: 0.2044 - val_acc: 0.9627\n",
      "Epoch 8/10\n",
      "13120/13150 [============================>.] - ETA: 0s - loss: 2.3055e-04 - acc: 1.0000Weighted F1 score found on Validation dataset :  (array([ 0.99420744,  0.16293279]), array([ 0.9726    ,  0.48484848]), array([ 0.98328503,  0.24390244]), array([15000,   165]))\n",
      "13150/13150 [==============================] - 344s - loss: 2.3021e-04 - acc: 1.0000 - val_loss: 0.1907 - val_acc: 0.9673\n",
      "Epoch 9/10\n",
      "13120/13150 [============================>.] - ETA: 0s - loss: 1.2022e-04 - acc: 1.0000Weighted F1 score found on Validation dataset :  (array([ 0.99473828,  0.16572505]), array([ 0.97046667,  0.53333333]), array([ 0.98245259,  0.25287356]), array([15000,   165]))\n",
      "13150/13150 [==============================] - 347s - loss: 1.1997e-04 - acc: 1.0000 - val_loss: 0.2112 - val_acc: 0.9657\n",
      "Epoch 10/10\n",
      "13120/13150 [============================>.] - ETA: 0s - loss: 8.1030e-05 - acc: 1.0000Weighted F1 score found on Validation dataset :  (array([ 0.99467758,  0.17058824]), array([ 0.9718    ,  0.52727273]), array([ 0.98310572,  0.25777778]), array([15000,   165]))\n",
      "13150/13150 [==============================] - 344s - loss: 8.0889e-05 - acc: 1.0000 - val_loss: 0.2121 - val_acc: 0.9670\n"
     ]
    },
    {
     "data": {
      "text/plain": [
       "<keras.callbacks.History at 0x7f82ee581890>"
      ]
     },
     "execution_count": 14,
     "metadata": {},
     "output_type": "execute_result"
    }
   ],
   "source": [
    "model.set_weights(initial_weights)\n",
    "metrics = Metrics(FOURTH_MOD_DIR + \"none\")\n",
    "model.fit(x_train, y_train,\n",
    "          batch_size=64,\n",
    "          epochs=10,\n",
    "          class_weight = {0. : 1, 1. : 5},\n",
    "validation_data=[x_test, y_test],\n",
    "         callbacks = [metrics])"
   ]
  },
  {
   "cell_type": "code",
   "execution_count": 15,
   "metadata": {
    "scrolled": true
   },
   "outputs": [
    {
     "name": "stdout",
     "output_type": "stream",
     "text": [
      "Train on 13150 samples, validate on 15165 samples\n",
      "Epoch 1/10\n",
      "13120/13150 [============================>.] - ETA: 0s - loss: 0.7178 - acc: 0.8377Weighted F1 score found on Validation dataset :  (array([ 0.99852393,  0.06367205]), array([ 0.85686667,  0.88484848]), array([ 0.9222876 ,  0.11879577]), array([15000,   165]))\n",
      "13150/13150 [==============================] - 344s - loss: 0.7176 - acc: 0.8377 - val_loss: 0.3040 - val_acc: 0.8572\n",
      "Epoch 2/10\n",
      "13120/13150 [============================>.] - ETA: 0s - loss: 0.3780 - acc: 0.9022Weighted F1 score found on Validation dataset :  (array([ 0.99861058,  0.06651584]), array([ 0.86246667,  0.89090909]), array([ 0.92555893,  0.12378947]), array([15000,   165]))\n",
      "13150/13150 [==============================] - 344s - loss: 0.3784 - acc: 0.9021 - val_loss: 0.3005 - val_acc: 0.8628\n",
      "Epoch 3/10\n",
      "13120/13150 [============================>.] - ETA: 0s - loss: 0.1985 - acc: 0.9505Weighted F1 score found on Validation dataset :  (array([ 0.99648926,  0.12459372]), array([ 0.94613333,  0.6969697 ]), array([ 0.97065864,  0.21139706]), array([15000,   165]))\n",
      "13150/13150 [==============================] - 344s - loss: 0.1988 - acc: 0.9503 - val_loss: 0.1429 - val_acc: 0.9434\n",
      "Epoch 4/10\n",
      "13120/13150 [============================>.] - ETA: 0s - loss: 0.1040 - acc: 0.9769Weighted F1 score found on Validation dataset :  (array([ 0.99633286,  0.11472081]), array([ 0.94186667,  0.68484848]), array([ 0.96833448,  0.19652174]), array([15000,   165]))\n",
      "13150/13150 [==============================] - 344s - loss: 0.1038 - acc: 0.9770 - val_loss: 0.1935 - val_acc: 0.9391\n",
      "Epoch 5/10\n",
      "13120/13150 [============================>.] - ETA: 0s - loss: 0.0472 - acc: 0.9892Weighted F1 score found on Validation dataset :  (array([ 0.99520067,  0.12182741]), array([ 0.95386667,  0.58181818]), array([ 0.97409538,  0.20146905]), array([15000,   165]))\n",
      "13150/13150 [==============================] - 344s - loss: 0.0474 - acc: 0.9891 - val_loss: 0.1875 - val_acc: 0.9498\n",
      "Epoch 6/10\n",
      "13120/13150 [============================>.] - ETA: 0s - loss: 0.0237 - acc: 0.9954Weighted F1 score found on Validation dataset :  (array([ 0.99481865,  0.17907445]), array([ 0.9728    ,  0.53939394]), array([ 0.98368613,  0.26888218]), array([15000,   165]))\n",
      "13150/13150 [==============================] - 345s - loss: 0.0236 - acc: 0.9954 - val_loss: 0.1365 - val_acc: 0.9681\n",
      "Epoch 7/10\n",
      "13120/13150 [============================>.] - ETA: 0s - loss: 0.0095 - acc: 0.9981Weighted F1 score found on Validation dataset :  (array([ 0.99478344,  0.14932886]), array([ 0.9662    ,  0.53939394]), array([ 0.9802834 ,  0.23390276]), array([15000,   165]))\n",
      "13150/13150 [==============================] - 347s - loss: 0.0095 - acc: 0.9981 - val_loss: 0.2018 - val_acc: 0.9616\n",
      "Epoch 8/10\n",
      "13120/13150 [============================>.] - ETA: 0s - loss: 0.0024 - acc: 0.9995Weighted F1 score found on Validation dataset :  (array([ 0.99445623,  0.15162455]), array([ 0.96866667,  0.50909091]), array([ 0.98139205,  0.23365786]), array([15000,   165]))\n",
      "13150/13150 [==============================] - 340s - loss: 0.0024 - acc: 0.9995 - val_loss: 0.2037 - val_acc: 0.9637\n",
      "Epoch 9/10\n",
      "13120/13150 [============================>.] - ETA: 0s - loss: 5.7780e-04 - acc: 0.9999Weighted F1 score found on Validation dataset :  (array([ 0.99457827,  0.14478114]), array([ 0.96613333,  0.52121212]), array([ 0.98014947,  0.22661397]), array([15000,   165]))\n",
      "13150/13150 [==============================] - 331s - loss: 5.7655e-04 - acc: 0.9999 - val_loss: 0.2380 - val_acc: 0.9613\n",
      "Epoch 10/10\n",
      "13120/13150 [============================>.] - ETA: 0s - loss: 2.0101e-04 - acc: 1.0000Weighted F1 score found on Validation dataset :  (array([ 0.99431701,  0.14642857]), array([ 0.96813333,  0.4969697 ]), array([ 0.9810505,  0.2262069]), array([15000,   165]))\n",
      "13150/13150 [==============================] - 332s - loss: 2.0060e-04 - acc: 1.0000 - val_loss: 0.2384 - val_acc: 0.9630\n"
     ]
    },
    {
     "data": {
      "text/plain": [
       "<keras.callbacks.History at 0x7f82ee57c850>"
      ]
     },
     "execution_count": 15,
     "metadata": {},
     "output_type": "execute_result"
    }
   ],
   "source": [
    "model.set_weights(initial_weights)\n",
    "metrics = Metrics(FOURTH_MOD_DIR + \"none\")\n",
    "model.fit(x_train, y_train,\n",
    "          batch_size=64,\n",
    "          epochs=10,\n",
    "          class_weight = {0. : 1, 1. : 8},\n",
    "validation_data=[x_test, y_test],\n",
    "         callbacks = [metrics])"
   ]
  },
  {
   "cell_type": "code",
   "execution_count": null,
   "metadata": {
    "collapsed": true
   },
   "outputs": [],
   "source": [
    "model.set_weights(initial_weights)\n",
    "metrics = Metrics(FOURTH_MOD_DIR + \"none\")\n",
    "model.fit(x_train, y_train,\n",
    "          batch_size=64,\n",
    "          epochs=6,\n",
    "          class_weight = {0. : 1, 1. : 10},\n",
    "validation_data=[x_test, y_test],\n",
    "         callbacks = [metrics])"
   ]
  },
  {
   "cell_type": "code",
   "execution_count": null,
   "metadata": {
    "collapsed": true
   },
   "outputs": [],
   "source": [
    "model.set_weights(initial_weights)\n",
    "metrics = Metrics(FOURTH_MOD_DIR + \"none\")\n",
    "model.fit(x_train, y_train,\n",
    "          batch_size=64,\n",
    "          epochs=10,\n",
    "          class_weight = {0. : 1, 1. : 12},\n",
    "validation_data=[x_test, y_test],\n",
    "         callbacks = [metrics])"
   ]
  },
  {
   "cell_type": "code",
   "execution_count": null,
   "metadata": {
    "collapsed": true
   },
   "outputs": [],
   "source": [
    "model.set_weights(initial_weights)\n",
    "metrics = Metrics(FOURTH_MOD_DIR + \"none\")\n",
    "model.fit(x_train, y_train,\n",
    "          batch_size=64,\n",
    "          epochs=10,\n",
    "          class_weight = {0. : 1, 1. : 15},\n",
    "validation_data=[x_test, y_test],\n",
    "         callbacks = [metrics])"
   ]
  }
 ],
 "metadata": {
  "kernelspec": {
   "display_name": "Python 2",
   "language": "python",
   "name": "python2"
  },
  "language_info": {
   "codemirror_mode": {
    "name": "ipython",
    "version": 2
   },
   "file_extension": ".py",
   "mimetype": "text/x-python",
   "name": "python",
   "nbconvert_exporter": "python",
   "pygments_lexer": "ipython2",
   "version": "2.7.13"
  }
 },
 "nbformat": 4,
 "nbformat_minor": 2
}
